{
 "cells": [
  {
   "cell_type": "raw",
   "metadata": {},
   "source": [
    "Given an array of positive integers arr,  find a pattern of length m that is repeated k or more times.\n",
    "\n",
    "A pattern is a subarray (consecutive sub-sequence) that consists of one or more values, repeated multiple times consecutively without overlapping. A pattern is defined by its length and the number of repetitions.\n",
    "\n",
    "Return true if there exists a pattern of length m that is repeated k or more times, otherwise return false.\n",
    "\n",
    " \n",
    "\n",
    "Example 1:\n",
    "\n",
    "Input: arr = [1,2,4,4,4,4], m = 1, k = 3\n",
    "Output: true\n",
    "Explanation: The pattern (4) of length 1 is repeated 4 consecutive times. Notice that pattern can be repeated k or more times but not less.\n",
    "Example 2:\n",
    "\n",
    "Input: arr = [1,2,1,2,1,1,1,3], m = 2, k = 2\n",
    "Output: true\n",
    "Explanation: The pattern (1,2) of length 2 is repeated 2 consecutive times. Another valid pattern (2,1) is also repeated 2 times.\n",
    "Example 3:\n",
    "\n",
    "Input: arr = [1,2,1,2,1,3], m = 2, k = 3\n",
    "Output: false\n",
    "Explanation: The pattern (1,2) is of length 2 but is repeated only 2 times. There is no pattern of length 2 that is repeated 3 or more times.\n",
    "Example 4:\n",
    "\n",
    "Input: arr = [1,2,3,1,2], m = 2, k = 2\n",
    "Output: false\n",
    "Explanation: Notice that the pattern (1,2) exists twice but not consecutively, so it doesn't count.\n",
    "Example 5:\n",
    "\n",
    "Input: arr = [2,2,2,2], m = 2, k = 3\n",
    "Output: false\n",
    "Explanation: The only pattern of length 2 is (2,2) however it's repeated only twice. Notice that we do not count overlapping repetitions.\n",
    " \n",
    "\n",
    "Constraints:\n",
    "\n",
    "2 <= arr.length <= 100\n",
    "1 <= arr[i] <= 100\n",
    "1 <= m <= 100\n",
    "2 <= k <= 100"
   ]
  },
  {
   "cell_type": "code",
   "execution_count": null,
   "metadata": {},
   "outputs": [],
   "source": [
    "def containsPattern(arr, m, k):\n",
    "    if m*k>len(arr):\n",
    "        return False\n",
    "\n",
    "    for i in range(len(arr)):\n",
    "        part=arr[i:i+m]            \n",
    "        full=part*k\n",
    "        print(full)          \n",
    "        if full==arr[i:i+m*k]:\n",
    "            return True\n",
    "    return False\n",
    "\n",
    "#O(N)time and O(1)space"
   ]
  }
 ],
 "metadata": {
  "kernelspec": {
   "display_name": "Python 3",
   "language": "python",
   "name": "python3"
  },
  "language_info": {
   "codemirror_mode": {
    "name": "ipython",
    "version": 3
   },
   "file_extension": ".py",
   "mimetype": "text/x-python",
   "name": "python",
   "nbconvert_exporter": "python",
   "pygments_lexer": "ipython3",
   "version": "3.6.5"
  }
 },
 "nbformat": 4,
 "nbformat_minor": 2
}
