{
 "cells": [
  {
   "cell_type": "raw",
   "metadata": {},
   "source": [
    "Given a string licensePlate and an array of strings words, find the shortest completing word in words.\n",
    "\n",
    "A completing word is a word that contains all the letters in licensePlate. Ignore numbers and spaces in licensePlate, and treat letters as case insensitive. If a letter appears more than once in licensePlate, then it must appear in the word the same number of times or more.\n",
    "\n",
    "For example, if licensePlate = \"aBc 12c\", then it contains letters 'a', 'b' (ignoring case), and 'c' twice. Possible completing words are \"abccdef\", \"caaacab\", and \"cbca\".\n",
    "\n",
    "Return the shortest completing word in words. It is guaranteed an answer exists. If there are multiple shortest completing words, return the first one that occurs in words.\n",
    "\n",
    " \n",
    "\n",
    "Example 1:\n",
    "\n",
    "Input: licensePlate = \"1s3 PSt\", words = [\"step\",\"steps\",\"stripe\",\"stepple\"]\n",
    "Output: \"steps\"\n",
    "Explanation: licensePlate contains letters 's', 'p', 's' (ignoring case), and 't'.\n",
    "\"step\" contains 't' and 'p', but only contains 1 's'.\n",
    "\"steps\" contains 't', 'p', and both 's' characters.\n",
    "\"stripe\" is missing an 's'.\n",
    "\"stepple\" is missing an 's'.\n",
    "Since \"steps\" is the only word containing all the letters, that is the answer.\n",
    "Example 2:\n",
    "\n",
    "Input: licensePlate = \"1s3 456\", words = [\"looks\",\"pest\",\"stew\",\"show\"]\n",
    "Output: \"pest\"\n",
    "Explanation: licensePlate only contains the letter 's'. All the words contain 's', but among these \"pest\", \"stew\", and \"show\" are shortest. The answer is \"pest\" because it is the word that appears earliest of the 3.\n",
    "Example 3:\n",
    "\n",
    "Input: licensePlate = \"Ah71752\", words = [\"suggest\",\"letter\",\"of\",\"husband\",\"easy\",\"education\",\"drug\",\"prevent\",\"writer\",\"old\"]\n",
    "Output: \"husband\"\n",
    "Example 4:\n",
    "\n",
    "Input: licensePlate = \"OgEu755\", words = [\"enough\",\"these\",\"play\",\"wide\",\"wonder\",\"box\",\"arrive\",\"money\",\"tax\",\"thus\"]\n",
    "Output: \"enough\"\n",
    "Example 5:\n",
    "\n",
    "Input: licensePlate = \"iMSlpe4\", words = [\"claim\",\"consumer\",\"student\",\"camera\",\"public\",\"never\",\"wonder\",\"simple\",\"thought\",\"use\"]\n",
    "Output: \"simple\""
   ]
  },
  {
   "cell_type": "code",
   "execution_count": 3,
   "metadata": {},
   "outputs": [],
   "source": [
    "def shortestCompletingWord(licensePlate, words):\n",
    "    hash={}\n",
    "\n",
    "    for i in licensePlate.lower():\n",
    "        if not(i.isdigit() or i.isspace()):\n",
    "            if i not in hash:\n",
    "                hash[i]=1\n",
    "            else:\n",
    "                hash[i]+=1\n",
    "\n",
    "    short=float('inf')            \n",
    "\n",
    "    for i in words:\n",
    "        hash_copy=hash.copy()\n",
    "        for letter in i:\n",
    "            if letter in hash_copy:\n",
    "                if hash_copy[letter]>0:\n",
    "                    hash_copy[letter]-=1\n",
    "        if sum(hash_copy.values())==0:\n",
    "            \n",
    "            if len(i)<short:\n",
    "                short=len(i)\n",
    "                final=i\n",
    "\n",
    "    return final    "
   ]
  },
  {
   "cell_type": "code",
   "execution_count": 4,
   "metadata": {},
   "outputs": [
    {
     "data": {
      "text/plain": [
       "'steps'"
      ]
     },
     "execution_count": 4,
     "metadata": {},
     "output_type": "execute_result"
    }
   ],
   "source": [
    "licensePlate = \"1s3 PSt\"\n",
    "words = [\"step\",\"steps\",\"stripe\",\"stepple\"]\n",
    "shortestCompletingWord(licensePlate, words)"
   ]
  },
  {
   "cell_type": "code",
   "execution_count": null,
   "metadata": {},
   "outputs": [],
   "source": [
    "#O(N) time and O(1) space where N=max(letters in the License, words in words)"
   ]
  }
 ],
 "metadata": {
  "kernelspec": {
   "display_name": "Python 3",
   "language": "python",
   "name": "python3"
  },
  "language_info": {
   "codemirror_mode": {
    "name": "ipython",
    "version": 3
   },
   "file_extension": ".py",
   "mimetype": "text/x-python",
   "name": "python",
   "nbconvert_exporter": "python",
   "pygments_lexer": "ipython3",
   "version": "3.6.5"
  }
 },
 "nbformat": 4,
 "nbformat_minor": 2
}
