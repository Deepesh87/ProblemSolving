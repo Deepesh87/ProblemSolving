{
 "cells": [
  {
   "cell_type": "raw",
   "metadata": {},
   "source": [
    "Given a date string in the form Day Month Year, where:\n",
    "\n",
    "Day is in the set {\"1st\", \"2nd\", \"3rd\", \"4th\", ..., \"30th\", \"31st\"}.\n",
    "Month is in the set {\"Jan\", \"Feb\", \"Mar\", \"Apr\", \"May\", \"Jun\", \"Jul\", \"Aug\", \"Sep\", \"Oct\", \"Nov\", \"Dec\"}.\n",
    "Year is in the range [1900, 2100].\n",
    "Convert the date string to the format YYYY-MM-DD, where:\n",
    "\n",
    "YYYY denotes the 4 digit year.\n",
    "MM denotes the 2 digit month.\n",
    "DD denotes the 2 digit day.\n",
    " \n",
    "\n",
    "Example 1:\n",
    "\n",
    "Input: date = \"20th Oct 2052\"\n",
    "Output: \"2052-10-20\"\n",
    "Example 2:\n",
    "\n",
    "Input: date = \"6th Jun 1933\"\n",
    "Output: \"1933-06-06\"\n",
    "Example 3:\n",
    "\n",
    "Input: date = \"26th May 1960\"\n",
    "Output: \"1960-05-26\"\n",
    " \n",
    "\n",
    "Constraints:\n",
    "\n",
    "The given dates are guaranteed to be valid, so no error handling is necessary."
   ]
  },
  {
   "cell_type": "code",
   "execution_count": null,
   "metadata": {},
   "outputs": [],
   "source": [
    "def reformatDate(date):\n",
    "    months=[\"Jan\", \"Feb\", \"Mar\", \"Apr\", \"May\", \"Jun\", \"Jul\", \"Aug\", \"Sep\", \"Oct\", \"Nov\", \"Dec\"]\n",
    "    ans=''\n",
    "    full=date.split(\" \")\n",
    "    year=str(full[-1])\n",
    "    month=months.index(full[-2])+1\n",
    "    if int(month)<10:\n",
    "        month='0'+str(month)\n",
    "\n",
    "    day=full[0][:-2]\n",
    "    if int(day)<10:\n",
    "        day='0'+str(day)   \n",
    "    return year+'-'+str(month)+'-'+day\n"
   ]
  },
  {
   "cell_type": "code",
   "execution_count": null,
   "metadata": {},
   "outputs": [],
   "source": []
  }
 ],
 "metadata": {
  "kernelspec": {
   "display_name": "Python 3",
   "language": "python",
   "name": "python3"
  },
  "language_info": {
   "codemirror_mode": {
    "name": "ipython",
    "version": 3
   },
   "file_extension": ".py",
   "mimetype": "text/x-python",
   "name": "python",
   "nbconvert_exporter": "python",
   "pygments_lexer": "ipython3",
   "version": "3.6.5"
  }
 },
 "nbformat": 4,
 "nbformat_minor": 2
}
