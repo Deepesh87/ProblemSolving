{
 "cells": [
  {
   "cell_type": "raw",
   "metadata": {},
   "source": [
    "You are given an array nums of non-negative integers. nums is considered special if there exists a number x such that there are exactly x numbers in nums that are greater than or equal to x.\n",
    "\n",
    "Notice that x does not have to be an element in nums.\n",
    "\n",
    "Return x if the array is special, otherwise, return -1. It can be proven that if nums is special, the value for x is unique.\n",
    "\n",
    "Example 1:\n",
    "\n",
    "Input: nums = [3,5]\n",
    "Output: 2\n",
    "Explanation: There are 2 values (3 and 5) that are greater than or equal to 2.\n",
    "Example 2:\n",
    "\n",
    "Input: nums = [0,0]\n",
    "Output: -1\n",
    "Explanation: No numbers fit the criteria for x.\n",
    "If x = 0, there should be 0 numbers >= x, but there are 2.\n",
    "If x = 1, there should be 1 number >= x, but there are 0.\n",
    "If x = 2, there should be 2 numbers >= x, but there are 0.\n",
    "x cannot be greater since there are only 2 numbers in nums.\n",
    "Example 3:\n",
    "\n",
    "Input: nums = [0,4,3,0,4]\n",
    "Output: 3\n",
    "Explanation: There are 3 values that are greater than or equal to 3.\n",
    "Example 4:\n",
    "\n",
    "Input: nums = [3,6,7,7,0]\n",
    "Output: -1\n",
    " \n",
    "\n",
    "Constraints:\n",
    "\n",
    "1 <= nums.length <= 100\n",
    "0 <= nums[i] <= 1000"
   ]
  },
  {
   "cell_type": "code",
   "execution_count": null,
   "metadata": {},
   "outputs": [],
   "source": [
    "def specialArray(self, nums: List[int]) -> int:\n",
    "\n",
    "    n=0\n",
    "    count=0\n",
    "    while n<=len(nums):\n",
    "        count=len([i for i in nums if i>=n])\n",
    "        if count==n:\n",
    "            return count\n",
    "        n+=1\n",
    "\n",
    "    return -1\n",
    "\n",
    "#O(N2)time and O(1)space"
   ]
  },
  {
   "cell_type": "code",
   "execution_count": null,
   "metadata": {},
   "outputs": [],
   "source": []
  }
 ],
 "metadata": {
  "kernelspec": {
   "display_name": "Python 3",
   "language": "python",
   "name": "python3"
  },
  "language_info": {
   "codemirror_mode": {
    "name": "ipython",
    "version": 3
   },
   "file_extension": ".py",
   "mimetype": "text/x-python",
   "name": "python",
   "nbconvert_exporter": "python",
   "pygments_lexer": "ipython3",
   "version": "3.6.5"
  }
 },
 "nbformat": 4,
 "nbformat_minor": 2
}
