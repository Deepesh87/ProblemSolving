{
 "cells": [
  {
   "cell_type": "raw",
   "metadata": {},
   "source": [
    "Given scores of N athletes, find their relative ranks and the people with the top three highest scores, who will be awarded medals: \"Gold Medal\", \"Silver Medal\" and \"Bronze Medal\".\n",
    "\n",
    "Example 1:\n",
    "Input: [5, 4, 3, 2, 1]\n",
    "Output: [\"Gold Medal\", \"Silver Medal\", \"Bronze Medal\", \"4\", \"5\"]\n",
    "Explanation: The first three athletes got the top three highest scores, so they got \"Gold Medal\", \"Silver Medal\" and \"Bronze Medal\". \n",
    "For the left two athletes, you just need to output their relative ranks according to their scores.\n",
    "Note:\n",
    "N is a positive integer and won't exceed 10,000.\n",
    "All the scores of athletes are guaranteed to be unique."
   ]
  },
  {
   "cell_type": "code",
   "execution_count": 2,
   "metadata": {},
   "outputs": [],
   "source": [
    "def findRelativeRanks(nums):\n",
    "    n=sorted(nums)[::-1]\n",
    "    hash={}\n",
    "    res=[]         \n",
    "\n",
    "    for i in range(len(n)):\n",
    "        if i==0:\n",
    "            hash[n[i]]=\"Gold Medal\"\n",
    "        elif i==1:\n",
    "            hash[n[i]]=\"Silver Medal\"\n",
    "        elif i==2:\n",
    "            hash[n[i]]=\"Bronze Medal\"\n",
    "        else:\n",
    "            hash[n[i]]=str(i+1)\n",
    "\n",
    "    for i in nums:\n",
    "        res.append(hash[i])\n",
    "\n",
    "    return res    "
   ]
  },
  {
   "cell_type": "code",
   "execution_count": null,
   "metadata": {},
   "outputs": [],
   "source": [
    "#O(NLogN)time because of srtig and O(N)space"
   ]
  }
 ],
 "metadata": {
  "kernelspec": {
   "display_name": "Python 3",
   "language": "python",
   "name": "python3"
  },
  "language_info": {
   "codemirror_mode": {
    "name": "ipython",
    "version": 3
   },
   "file_extension": ".py",
   "mimetype": "text/x-python",
   "name": "python",
   "nbconvert_exporter": "python",
   "pygments_lexer": "ipython3",
   "version": "3.6.5"
  }
 },
 "nbformat": 4,
 "nbformat_minor": 2
}
