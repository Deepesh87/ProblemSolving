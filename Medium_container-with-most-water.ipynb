{
 "cells": [
  {
   "cell_type": "raw",
   "metadata": {},
   "source": [
    "Given n non-negative integers a1, a2, ..., an , where each represents a point at coordinate (i, ai). n vertical lines are drawn such that the two endpoints of the line i is at (i, ai) and (i, 0). Find two lines, which, together with the x-axis forms a container, such that the container contains the most water.\n",
    "\n",
    "Notice that you may not slant the container.\n",
    "Input: height = [1,8,6,2,5,4,8,3,7]\n",
    "Output: 49\n",
    "Explanation: The above vertical lines are represented by array [1,8,6,2,5,4,8,3,7]. In this case, the max area of water (blue section) the container can contain is 49.\n",
    "Example 2:\n",
    "\n",
    "Input: height = [1,1]\n",
    "Output: 1\n",
    "Example 3:\n",
    "\n",
    "Input: height = [4,3,2,1,4]\n",
    "Output: 16\n",
    "Example 4:\n",
    "\n",
    "Input: height = [1,2,1]\n",
    "Output: 2"
   ]
  },
  {
   "cell_type": "code",
   "execution_count": 1,
   "metadata": {},
   "outputs": [],
   "source": [
    "def maxArea(height):\n",
    "    start=0\n",
    "    index=1\n",
    "    curr=0\n",
    "    ans=0\n",
    "\n",
    "    while start<len(height) and index<len(height):\n",
    "        if height[start]>height[index]:\n",
    "            curr=height[index]*(index-start)\n",
    "        else:\n",
    "            curr=height[start]*(index-start)\n",
    "\n",
    "        if index==len(height)-1:\n",
    "            start+=1\n",
    "            index=start\n",
    "        index+=1    \n",
    "        if curr>ans:\n",
    "            ans=curr\n",
    "    return ans\n",
    "#O(N2)time and O(1)space"
   ]
  },
  {
   "cell_type": "code",
   "execution_count": null,
   "metadata": {},
   "outputs": [],
   "source": [
    "def maxArea(height):\n",
    "    start=0\n",
    "    end=len(height)-1\n",
    "    curr=0\n",
    "    ans=0\n",
    "\n",
    "    while start<end:\n",
    "        if height[start]<height[end]:\n",
    "            curr=(end-start)*height[start]\n",
    "            start+=1\n",
    "        else:\n",
    "            curr=(end-start)*height[end]\n",
    "            end-=1\n",
    "        if curr>ans:\n",
    "            ans=curr\n",
    "\n",
    "    return ans\n",
    "#O(N)time ans O(1)space"
   ]
  },
  {
   "cell_type": "raw",
   "metadata": {},
   "source": [
    "I found a lot of the discussion and proof about this quite opaque, but one thing helped it finally clicked for me (which is sort of proof by contradiction i guess)\n",
    "\n",
    "You have two heights H_left and H_right, and H_right < H_left, then we know we have two choices, we want to move one of them. If we move the larger one, we cannot increase the height for the simple reason that we are always limited by the shortest, and we would be decreasing j-i, the width as well.\n",
    "\n",
    "To clarify: let's say we kept the shortest forever, what would happen? Well, j-i would decrease, and either we come across a taller block, which doesn't matter because our shorter one we kept only mattered, or we find a shorter one, in which case that one matters.\n",
    "\n",
    "Either way we end up with a smaller area, so we must move the shorter one because moving the larger one cannot give an increase in area."
   ]
  }
 ],
 "metadata": {
  "kernelspec": {
   "display_name": "Python 3",
   "language": "python",
   "name": "python3"
  },
  "language_info": {
   "codemirror_mode": {
    "name": "ipython",
    "version": 3
   },
   "file_extension": ".py",
   "mimetype": "text/x-python",
   "name": "python",
   "nbconvert_exporter": "python",
   "pygments_lexer": "ipython3",
   "version": "3.6.5"
  }
 },
 "nbformat": 4,
 "nbformat_minor": 2
}
