{
 "cells": [
  {
   "cell_type": "raw",
   "metadata": {},
   "source": [
    "Given a non-empty string check if it can be constructed by taking a substring of it and appending multiple copies of the substring together. You may assume the given string consists of lowercase English letters only and its length will not exceed 10000.\n",
    "\n",
    " \n",
    "\n",
    "Example 1:\n",
    "\n",
    "Input: \"abab\"\n",
    "Output: True\n",
    "Explanation: It's the substring \"ab\" twice.\n",
    "Example 2:\n",
    "\n",
    "Input: \"aba\"\n",
    "Output: False\n",
    "Example 3:\n",
    "\n",
    "Input: \"abcabcabcabc\"\n",
    "Output: True\n",
    "Explanation: It's the substring \"abc\" four times. (And the substring \"abcabc\" twice.)"
   ]
  },
  {
   "cell_type": "code",
   "execution_count": 1,
   "metadata": {},
   "outputs": [],
   "source": [
    "def repeatedSubstringPattern(s):\n",
    "    return s in(s+s)[1:-1]"
   ]
  },
  {
   "cell_type": "code",
   "execution_count": null,
   "metadata": {},
   "outputs": [],
   "source": [
    "#O(N2)time (as we have to check s in double size of s)  and O(N)space needed [ 2N to save the string s+s]"
   ]
  },
  {
   "cell_type": "code",
   "execution_count": 2,
   "metadata": {},
   "outputs": [],
   "source": [
    "#There is an algorithm to do this in O(N)time and O(1)space. "
   ]
  },
  {
   "cell_type": "code",
   "execution_count": null,
   "metadata": {},
   "outputs": [],
   "source": []
  }
 ],
 "metadata": {
  "kernelspec": {
   "display_name": "Python 3",
   "language": "python",
   "name": "python3"
  },
  "language_info": {
   "codemirror_mode": {
    "name": "ipython",
    "version": 3
   },
   "file_extension": ".py",
   "mimetype": "text/x-python",
   "name": "python",
   "nbconvert_exporter": "python",
   "pygments_lexer": "ipython3",
   "version": "3.6.5"
  }
 },
 "nbformat": 4,
 "nbformat_minor": 2
}
