{
 "cells": [
  {
   "cell_type": "raw",
   "metadata": {},
   "source": [
    "Given an array of integers A, return the largest integer that only occurs once.\n",
    "\n",
    "If no integer occurs once, return -1.\n",
    "\n",
    " \n",
    "\n",
    "Example 1:\n",
    "\n",
    "Input: [5,7,3,9,4,9,8,3,1]\n",
    "Output: 8\n",
    "Explanation: \n",
    "The maximum integer in the array is 9 but it is repeated. The number 8 occurs only once, so it's the answer.\n",
    "Example 2:\n",
    "\n",
    "Input: [9,9,8,8]\n",
    "Output: -1\n",
    "Explanation: \n",
    "There is no number that occurs only once."
   ]
  },
  {
   "cell_type": "code",
   "execution_count": 1,
   "metadata": {},
   "outputs": [],
   "source": [
    "def largestUniqueNumber(A):\n",
    "    hash={}\n",
    "    max_value=-1*float('inf')\n",
    "\n",
    "    for i in A:\n",
    "        if i in hash:\n",
    "            hash[i]=0\n",
    "        else:\n",
    "            hash[i]=1                \n",
    "\n",
    "    for i in hash:\n",
    "        if hash[i]==1:\n",
    "            if max_value<i:\n",
    "                max_value=i\n",
    "\n",
    "    if max_value>-1*float('inf'):\n",
    "        return max_value\n",
    "    else:\n",
    "        return -1"
   ]
  },
  {
   "cell_type": "code",
   "execution_count": 2,
   "metadata": {},
   "outputs": [
    {
     "data": {
      "text/plain": [
       "8"
      ]
     },
     "execution_count": 2,
     "metadata": {},
     "output_type": "execute_result"
    }
   ],
   "source": [
    "A=[5,7,3,9,4,9,8,3,1]\n",
    "largestUniqueNumber(A)"
   ]
  },
  {
   "cell_type": "code",
   "execution_count": null,
   "metadata": {},
   "outputs": [],
   "source": [
    "#O(N)time and O(N)space"
   ]
  }
 ],
 "metadata": {
  "kernelspec": {
   "display_name": "Python 3",
   "language": "python",
   "name": "python3"
  },
  "language_info": {
   "codemirror_mode": {
    "name": "ipython",
    "version": 3
   },
   "file_extension": ".py",
   "mimetype": "text/x-python",
   "name": "python",
   "nbconvert_exporter": "python",
   "pygments_lexer": "ipython3",
   "version": "3.6.5"
  }
 },
 "nbformat": 4,
 "nbformat_minor": 2
}
