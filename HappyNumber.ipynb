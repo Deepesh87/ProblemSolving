{
 "cells": [
  {
   "cell_type": "raw",
   "metadata": {},
   "source": [
    "Write an algorithm to determine if a number n is happy.\n",
    "\n",
    "A happy number is a number defined by the following process:\n",
    "\n",
    "Starting with any positive integer, replace the number by the sum of the squares of its digits.\n",
    "Repeat the process until the number equals 1 (where it will stay), or it loops endlessly in a cycle which does not include 1.\n",
    "Those numbers for which this process ends in 1 are happy.\n",
    "Return true if n is a happy number, and false if not.\n",
    "\n",
    " \n",
    "\n",
    "Example 1:\n",
    "\n",
    "Input: n = 19\n",
    "Output: true\n",
    "Explanation:\n",
    "12 + 92 = 82\n",
    "82 + 22 = 68\n",
    "62 + 82 = 100\n",
    "12 + 02 + 02 = 1\n",
    "Example 2:\n",
    "\n",
    "Input: n = 2\n",
    "Output: false"
   ]
  },
  {
   "cell_type": "code",
   "execution_count": 1,
   "metadata": {},
   "outputs": [],
   "source": [
    "def isHappy(n):\n",
    "    def add_digits(x):\n",
    "        ans=0\n",
    "        while x>0:\n",
    "            ans+=(x%10)**2\n",
    "            x=x//10\n",
    "        return ans\n",
    "\n",
    "    seen=set()\n",
    "\n",
    "    while n!=1 and n not in seen:\n",
    "        seen.add(n)\n",
    "        n=add_digits(n)\n",
    "\n",
    "    return n==1\n",
    "\n",
    "#O(Log N)time and O(1)space"
   ]
  },
  {
   "cell_type": "raw",
   "metadata": {},
   "source": [
    "For a number with 33 digits, it's impossible for it to ever go larger than 243243. This means it will have to either get stuck in a cycle below 243243 or go down to 11. Numbers with 44 or more digits will always lose a digit at each step until they are down to 33 digits. So we know that at worst, the algorithm might cycle around all the numbers under 243243 and then go back to one it's already been to (a cycle) or go to 11. But it won't go on indefinitely, allowing us to rule out the 3rd option.\n",
    "\n",
    "Even though you don't need to handle the 3rd case in the code, you still need to understand why it can never happen, so that you can justify why you didn't handle it."
   ]
  }
 ],
 "metadata": {
  "kernelspec": {
   "display_name": "Python 3",
   "language": "python",
   "name": "python3"
  },
  "language_info": {
   "codemirror_mode": {
    "name": "ipython",
    "version": 3
   },
   "file_extension": ".py",
   "mimetype": "text/x-python",
   "name": "python",
   "nbconvert_exporter": "python",
   "pygments_lexer": "ipython3",
   "version": "3.6.5"
  }
 },
 "nbformat": 4,
 "nbformat_minor": 2
}
