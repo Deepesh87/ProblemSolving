{
 "cells": [
  {
   "cell_type": "raw",
   "metadata": {},
   "source": [
    "Palindrome Permutation\n",
    "\n",
    "\n",
    "Given a string, determine if a permutation of the string could form a palindrome.\n",
    "\n",
    "Example 1:\n",
    "\n",
    "Input: \"code\"\n",
    "Output: false\n",
    "Example 2:\n",
    "\n",
    "Input: \"aab\"\n",
    "Output: true\n",
    "Example 3:\n",
    "\n",
    "Input: \"carerac\"\n",
    "Output: true"
   ]
  },
  {
   "cell_type": "code",
   "execution_count": 25,
   "metadata": {},
   "outputs": [],
   "source": [
    "def canPermutePalindrome(s):\n",
    "    hash={}\n",
    "    counter=0\n",
    "    for i in s:\n",
    "        if i not in hash:\n",
    "            hash[i]=1\n",
    "        else:\n",
    "            del(hash[i])\n",
    "\n",
    "    for i in hash:\n",
    "        if hash[i]>0:\n",
    "            counter+=1\n",
    "            \n",
    "    return counter<=1"
   ]
  },
  {
   "cell_type": "code",
   "execution_count": 26,
   "metadata": {},
   "outputs": [
    {
     "data": {
      "text/plain": [
       "True"
      ]
     },
     "execution_count": 26,
     "metadata": {},
     "output_type": "execute_result"
    }
   ],
   "source": [
    "s='aaaa'\n",
    "canPermutePalindrome(s)\n",
    "#O(n) time and O(1) space"
   ]
  },
  {
   "cell_type": "code",
   "execution_count": null,
   "metadata": {},
   "outputs": [],
   "source": []
  }
 ],
 "metadata": {
  "kernelspec": {
   "display_name": "Python 3",
   "language": "python",
   "name": "python3"
  },
  "language_info": {
   "codemirror_mode": {
    "name": "ipython",
    "version": 3
   },
   "file_extension": ".py",
   "mimetype": "text/x-python",
   "name": "python",
   "nbconvert_exporter": "python",
   "pygments_lexer": "ipython3",
   "version": "3.6.5"
  }
 },
 "nbformat": 4,
 "nbformat_minor": 2
}
