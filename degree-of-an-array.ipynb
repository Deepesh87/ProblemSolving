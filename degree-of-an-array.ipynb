{
 "cells": [
  {
   "cell_type": "raw",
   "metadata": {},
   "source": [
    "Given a non-empty array of non-negative integers nums, the degree of this array is defined as the maximum frequency of any one of its elements.\n",
    "\n",
    "Your task is to find the smallest possible length of a (contiguous) subarray of nums, that has the same degree as nums.\n",
    "\n",
    " \n",
    "\n",
    "Example 1:\n",
    "\n",
    "Input: nums = [1,2,2,3,1]\n",
    "Output: 2\n",
    "Explanation: \n",
    "The input array has a degree of 2 because both elements 1 and 2 appear twice.\n",
    "Of the subarrays that have the same degree:\n",
    "[1, 2, 2, 3, 1], [1, 2, 2, 3], [2, 2, 3, 1], [1, 2, 2], [2, 2, 3], [2, 2]\n",
    "The shortest length is 2. So return 2.\n",
    "Example 2:\n",
    "\n",
    "Input: nums = [1,2,2,3,1,4,2]\n",
    "Output: 6\n",
    "Explanation: \n",
    "The degree is 3 because the element 2 is repeated 3 times.\n",
    "So [2,2,3,1,4,2] is the shortest subarray, therefore returning 6.\n",
    " \n",
    "\n",
    "Constraints:\n",
    "\n",
    "nums.length will be between 1 and 50,000.\n",
    "nums[i] will be an integer between 0 and 49,999."
   ]
  },
  {
   "cell_type": "code",
   "execution_count": 1,
   "metadata": {},
   "outputs": [],
   "source": [
    "from collections import defaultdict\n",
    "def findShortestSubArray(nums):\n",
    "\n",
    "    #first find the degree\n",
    "    # if len(nums)==1:\n",
    "    #     return 1\n",
    "\n",
    "    hash={}\n",
    "    degree=0\n",
    "    degree_element=[]\n",
    "\n",
    "    for i in nums:\n",
    "        if i not in hash:\n",
    "            hash[i]=1\n",
    "        else:\n",
    "            hash[i]+=1\n",
    "\n",
    "    for i in hash:\n",
    "        if hash[i]>degree:\n",
    "            degree=hash[i]\n",
    "\n",
    "    for i in hash:\n",
    "        if hash[i]==degree:\n",
    "            degree_element.append(i)\n",
    "\n",
    "    #store min and max index of each element here\n",
    "    hash2=collections.defaultdict(list)\n",
    "    ans,curr=float('inf'),float('inf')\n",
    "\n",
    "    for i,j in enumerate(nums):\n",
    "        if j in degree_element:\n",
    "            hash2[j].append(i)\n",
    "\n",
    "    for i in hash2:\n",
    "        curr=hash2[i][-1]-hash2[i][0]+1\n",
    "        if curr<=ans:\n",
    "            ans=curr\n",
    "\n",
    "    return ans"
   ]
  },
  {
   "cell_type": "code",
   "execution_count": null,
   "metadata": {},
   "outputs": [],
   "source": [
    "#O(N)time and O(N)space"
   ]
  }
 ],
 "metadata": {
  "kernelspec": {
   "display_name": "Python 3",
   "language": "python",
   "name": "python3"
  },
  "language_info": {
   "codemirror_mode": {
    "name": "ipython",
    "version": 3
   },
   "file_extension": ".py",
   "mimetype": "text/x-python",
   "name": "python",
   "nbconvert_exporter": "python",
   "pygments_lexer": "ipython3",
   "version": "3.6.5"
  }
 },
 "nbformat": 4,
 "nbformat_minor": 2
}
