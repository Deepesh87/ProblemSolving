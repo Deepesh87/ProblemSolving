{
 "cells": [
  {
   "cell_type": "raw",
   "metadata": {},
   "source": [
    "Given a string and an integer k, you need to reverse the first k characters for every 2k characters counting from the start of the string. If there are less than k characters left, reverse all of them. If there are less than 2k but greater than or equal to k characters, then reverse the first k characters and left the other as original.\n",
    "Example:\n",
    "Input: s = \"abcdefg\", k = 2\n",
    "Output: \"bacdfeg\"\n",
    "Restrictions:\n",
    "The string consists of lower English letters only.\n",
    "Length of the given string and k will in the range [1, 10000]"
   ]
  },
  {
   "cell_type": "code",
   "execution_count": 2,
   "metadata": {},
   "outputs": [],
   "source": [
    "def reverseStr(s):\n",
    "\n",
    "    res=[]\n",
    "    ans=''\n",
    "\n",
    "    for i in range(0,len(s),2*k):\n",
    "        res.append(s[i:i+2*k])\n",
    "\n",
    "    #print(res)\n",
    "\n",
    "    for i in res:\n",
    "        ans+=i[0:k][::-1]+i[k:]\n",
    "\n",
    "    return ans"
   ]
  },
  {
   "cell_type": "code",
   "execution_count": null,
   "metadata": {},
   "outputs": [],
   "source": [
    "#O(N)time and O(N)space"
   ]
  }
 ],
 "metadata": {
  "kernelspec": {
   "display_name": "Python 3",
   "language": "python",
   "name": "python3"
  },
  "language_info": {
   "codemirror_mode": {
    "name": "ipython",
    "version": 3
   },
   "file_extension": ".py",
   "mimetype": "text/x-python",
   "name": "python",
   "nbconvert_exporter": "python",
   "pygments_lexer": "ipython3",
   "version": "3.6.5"
  }
 },
 "nbformat": 4,
 "nbformat_minor": 2
}
