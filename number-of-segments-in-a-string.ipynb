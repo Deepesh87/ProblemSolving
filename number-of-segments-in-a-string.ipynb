{
 "cells": [
  {
   "cell_type": "raw",
   "metadata": {},
   "source": [
    "You are given a string s, return the number of segments in the string. \n",
    "\n",
    "A segment is defined to be a contiguous sequence of non-space characters.\n",
    "\n",
    " \n",
    "\n",
    "Example 1:\n",
    "\n",
    "Input: s = \"Hello, my name is John\"\n",
    "Output: 5\n",
    "Explanation: The five segments are [\"Hello,\", \"my\", \"name\", \"is\", \"John\"]\n",
    "Example 2:\n",
    "\n",
    "Input: s = \"Hello\"\n",
    "Output: 1\n",
    "Example 3:\n",
    "\n",
    "Input: s = \"love live! mu'sic forever\"\n",
    "Output: 4\n",
    "Example 4:\n",
    "\n",
    "Input: s = \"\"\n",
    "Output: 0"
   ]
  },
  {
   "cell_type": "code",
   "execution_count": 1,
   "metadata": {},
   "outputs": [],
   "source": [
    "def countSegments(s):\n",
    "    n=s.split()\n",
    "    return len(n)\n",
    "\n",
    "#O(N)time and O(N)space"
   ]
  },
  {
   "cell_type": "code",
   "execution_count": 2,
   "metadata": {},
   "outputs": [],
   "source": [
    "def countSegments(s):\n",
    "    ans=0\n",
    "\n",
    "    for i in range(len(s)):\n",
    "        if (i==0 or s[i]==' ') and s[i-1]!=' ':\n",
    "            ans+=1\n",
    "\n",
    "    return ans\n",
    "#O(N)time and O(1)space"
   ]
  },
  {
   "cell_type": "code",
   "execution_count": null,
   "metadata": {},
   "outputs": [],
   "source": []
  }
 ],
 "metadata": {
  "kernelspec": {
   "display_name": "Python 3",
   "language": "python",
   "name": "python3"
  },
  "language_info": {
   "codemirror_mode": {
    "name": "ipython",
    "version": 3
   },
   "file_extension": ".py",
   "mimetype": "text/x-python",
   "name": "python",
   "nbconvert_exporter": "python",
   "pygments_lexer": "ipython3",
   "version": "3.6.5"
  }
 },
 "nbformat": 4,
 "nbformat_minor": 2
}
