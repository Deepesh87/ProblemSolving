{
 "cells": [
  {
   "cell_type": "raw",
   "metadata": {},
   "source": [
    "You have a long flowerbed in which some of the plots are planted, and some are not. However, flowers cannot be planted in adjacent plots.\n",
    "\n",
    "Given an integer array flowerbed containing 0's and 1's, where 0 means empty and 1 means not empty, and an integer n, return if n new flowers can be planted in the flowerbed without violating the no-adjacent-flowers rule.\n",
    "\n",
    " \n",
    "\n",
    "Example 1:\n",
    "\n",
    "Input: flowerbed = [1,0,0,0,1], n = 1\n",
    "Output: true\n",
    "Example 2:\n",
    "\n",
    "Input: flowerbed = [1,0,0,0,1], n = 2\n",
    "Output: false"
   ]
  },
  {
   "cell_type": "code",
   "execution_count": 1,
   "metadata": {},
   "outputs": [],
   "source": [
    "def canPlaceFlowers(flowerbed,n):\n",
    "    i=0\n",
    "    counter=0\n",
    "    total=len(flowerbed)\n",
    "    if flowerbed==[0]:\n",
    "        return True\n",
    "\n",
    "    while i<total:            \n",
    "        if i==0 and i+1<total and flowerbed[i]==0 and flowerbed[i+1]==0:\n",
    "            flowerbed[i]=1\n",
    "            counter+=1\n",
    "        elif i==total-1 and i-1>=0 and flowerbed[i]==0 and flowerbed[i-1]==0:\n",
    "            flowerbed[i]=1\n",
    "            counter+=1\n",
    "        elif i>0 and i+1<total and flowerbed[i]==0 and flowerbed[i+1]==0 and flowerbed[i-1]==0 and i+1<total and i-1>=0:\n",
    "            flowerbed[i]=1\n",
    "            counter+=1\n",
    "\n",
    "        if counter==n:\n",
    "            return True\n",
    "\n",
    "        i+=1\n",
    "    return counter>=n    "
   ]
  },
  {
   "cell_type": "code",
   "execution_count": null,
   "metadata": {},
   "outputs": [],
   "source": [
    "#O(N)time and O(1)space"
   ]
  }
 ],
 "metadata": {
  "kernelspec": {
   "display_name": "Python 3",
   "language": "python",
   "name": "python3"
  },
  "language_info": {
   "codemirror_mode": {
    "name": "ipython",
    "version": 3
   },
   "file_extension": ".py",
   "mimetype": "text/x-python",
   "name": "python",
   "nbconvert_exporter": "python",
   "pygments_lexer": "ipython3",
   "version": "3.6.5"
  }
 },
 "nbformat": 4,
 "nbformat_minor": 2
}
