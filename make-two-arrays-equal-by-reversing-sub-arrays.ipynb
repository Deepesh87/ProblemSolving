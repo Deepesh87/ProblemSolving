{
 "cells": [
  {
   "cell_type": "raw",
   "metadata": {},
   "source": [
    "Given two integer arrays of equal length target and arr.\n",
    "\n",
    "In one step, you can select any non-empty sub-array of arr and reverse it. You are allowed to make any number of steps.\n",
    "\n",
    "Return True if you can make arr equal to target, or False otherwise.\n",
    "\n",
    " \n",
    "\n",
    "Example 1:\n",
    "\n",
    "Input: target = [1,2,3,4], arr = [2,4,1,3]\n",
    "Output: true\n",
    "Explanation: You can follow the next steps to convert arr to target:\n",
    "1- Reverse sub-array [2,4,1], arr becomes [1,4,2,3]\n",
    "2- Reverse sub-array [4,2], arr becomes [1,2,4,3]\n",
    "3- Reverse sub-array [4,3], arr becomes [1,2,3,4]\n",
    "There are multiple ways to convert arr to target, this is not the only way to do so.\n",
    "Example 2:\n",
    "\n",
    "Input: target = [7], arr = [7]\n",
    "Output: true\n",
    "Explanation: arr is equal to target without any reverses.\n",
    "Example 3:\n",
    "\n",
    "Input: target = [1,12], arr = [12,1]\n",
    "Output: true\n",
    "Example 4:\n",
    "\n",
    "Input: target = [3,7,9], arr = [3,7,11]\n",
    "Output: false\n",
    "Explanation: arr doesn't have value 9 and it can never be converted to target.\n",
    "Example 5:\n",
    "\n",
    "Input: target = [1,1,1,1,1], arr = [1,1,1,1,1]\n",
    "Output: true"
   ]
  },
  {
   "cell_type": "code",
   "execution_count": 3,
   "metadata": {},
   "outputs": [],
   "source": [
    "def canBeEqual(self, target, arr):\n",
    "\n",
    "    return sorted(arr)==sorted(target)\n",
    "#O(NlogN) time and O(1)space"
   ]
  },
  {
   "cell_type": "code",
   "execution_count": null,
   "metadata": {},
   "outputs": [],
   "source": [
    "def canBeEqual(self, target, arr):\n",
    "    hash1={}\n",
    "\n",
    "    for i in arr:\n",
    "        if i not in hash1:\n",
    "            hash1[i]=1\n",
    "        else:\n",
    "            hash1[i]+=1\n",
    "\n",
    "    for i in target:\n",
    "        if i in hash1:\n",
    "            hash1[i]-=1\n",
    "            if hash1[i]<0:\n",
    "                return False\n",
    "        else:\n",
    "            return False\n",
    "    return True\n",
    "#O(N)time and O(N)space"
   ]
  }
 ],
 "metadata": {
  "kernelspec": {
   "display_name": "Python 3",
   "language": "python",
   "name": "python3"
  },
  "language_info": {
   "codemirror_mode": {
    "name": "ipython",
    "version": 3
   },
   "file_extension": ".py",
   "mimetype": "text/x-python",
   "name": "python",
   "nbconvert_exporter": "python",
   "pygments_lexer": "ipython3",
   "version": "3.6.5"
  }
 },
 "nbformat": 4,
 "nbformat_minor": 2
}
