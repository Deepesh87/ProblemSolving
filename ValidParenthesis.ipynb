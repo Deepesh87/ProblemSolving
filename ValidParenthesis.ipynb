{
 "cells": [
  {
   "cell_type": "code",
   "execution_count": null,
   "metadata": {},
   "outputs": [],
   "source": [
    "Given a string containing just the characters '(', ')', '{', '}', '[' and ']', determine if the input string is valid.\n",
    "Return True or False\n",
    "An input string is valid if:\n",
    "\n",
    "Open brackets must be closed by the same type of brackets.\n",
    "Open brackets must be closed in the correct order."
   ]
  },
  {
   "cell_type": "code",
   "execution_count": 22,
   "metadata": {},
   "outputs": [],
   "source": [
    "def isvalid(s):\n",
    "    while '()' in s or '{}' in s or '[]' in s:\n",
    "        s=s.replace('()','').replace('{}','').replace('[]','')\n",
    "    if s=='':\n",
    "        return True\n",
    "    \n",
    "#O(N2) as we are looking into s multiple times"
   ]
  },
  {
   "cell_type": "code",
   "execution_count": 23,
   "metadata": {},
   "outputs": [
    {
     "data": {
      "text/plain": [
       "True"
      ]
     },
     "execution_count": 23,
     "metadata": {},
     "output_type": "execute_result"
    }
   ],
   "source": [
    "s='{[()]}'\n",
    "isvalid(s)"
   ]
  },
  {
   "cell_type": "code",
   "execution_count": 43,
   "metadata": {},
   "outputs": [],
   "source": [
    "def isvalid(s):\n",
    "    i=0\n",
    "    s=list(s)\n",
    "    while i<len(s)-1:\n",
    "        if s[i]=='(' and s[i+1]==')' or s[i]=='{' and s[i+1]=='}' or s[i]=='[' and s[i+1]==']':\n",
    "            s.pop(i)\n",
    "            s.pop(i)\n",
    "            i=0\n",
    "        else:\n",
    "            i+=1       \n",
    "    if s==[]:\n",
    "        return True"
   ]
  },
  {
   "cell_type": "code",
   "execution_count": 44,
   "metadata": {},
   "outputs": [
    {
     "data": {
      "text/plain": [
       "True"
      ]
     },
     "execution_count": 44,
     "metadata": {},
     "output_type": "execute_result"
    }
   ],
   "source": [
    "s='{[()]}'\n",
    "isvalid(s)\n",
    "#this is definitely O(N2) as we are going through the String s plus also using Pop which moves all following list elements\n",
    "#O(1)space as we are overwriting the list"
   ]
  },
  {
   "cell_type": "code",
   "execution_count": 51,
   "metadata": {},
   "outputs": [],
   "source": [
    "def isvalid(s):\n",
    "\n",
    "    open={'(','{','['}\n",
    "    bracket={')':'(','}':'{',']':'['}\n",
    "    stack=[]\n",
    "    \n",
    "    for i in s:\n",
    "        if i in open:\n",
    "            stack.append(i)\n",
    "        elif len(stack)!=0 and bracket[i]==stack[-1]:\n",
    "            stack.pop()\n",
    "        else:\n",
    "            return False\n",
    "        \n",
    "    return stack==[]\n",
    "#O(N)time and O(n)space    "
   ]
  },
  {
   "cell_type": "code",
   "execution_count": 52,
   "metadata": {},
   "outputs": [
    {
     "data": {
      "text/plain": [
       "False"
      ]
     },
     "execution_count": 52,
     "metadata": {},
     "output_type": "execute_result"
    }
   ],
   "source": [
    "s='{[([)}'\n",
    "isvalid(s)"
   ]
  }
 ],
 "metadata": {
  "kernelspec": {
   "display_name": "Python 3",
   "language": "python",
   "name": "python3"
  },
  "language_info": {
   "codemirror_mode": {
    "name": "ipython",
    "version": 3
   },
   "file_extension": ".py",
   "mimetype": "text/x-python",
   "name": "python",
   "nbconvert_exporter": "python",
   "pygments_lexer": "ipython3",
   "version": "3.6.5"
  }
 },
 "nbformat": 4,
 "nbformat_minor": 2
}
