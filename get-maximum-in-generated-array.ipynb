{
 "cells": [
  {
   "cell_type": "raw",
   "metadata": {},
   "source": [
    "You are given an integer n. An array nums of length n + 1 is generated in the following way:\n",
    "\n",
    "nums[0] = 0\n",
    "nums[1] = 1\n",
    "nums[2 * i] = nums[i] when 2 <= 2 * i <= n\n",
    "nums[2 * i + 1] = nums[i] + nums[i + 1] when 2 <= 2 * i + 1 <= n\n",
    "Return the maximum integer in the array nums​​​."
   ]
  },
  {
   "cell_type": "code",
   "execution_count": null,
   "metadata": {},
   "outputs": [],
   "source": [
    "def getMaximumGenerated(n):\n",
    "\n",
    "    if n==0:\n",
    "        return 0\n",
    "\n",
    "    res=[0]*(n+1)\n",
    "    res[1]=1\n",
    "\n",
    "    i=2\n",
    "\n",
    "    while i<len(res):\n",
    "        if i%2==0:\n",
    "            res[i]=res[i//2]\n",
    "        else:\n",
    "            res[i]=res[i//2]+res[(i//2)+1]\n",
    "        i+=1               \n",
    "\n",
    "    return max(res)"
   ]
  }
 ],
 "metadata": {
  "kernelspec": {
   "display_name": "Python 3",
   "language": "python",
   "name": "python3"
  },
  "language_info": {
   "codemirror_mode": {
    "name": "ipython",
    "version": 3
   },
   "file_extension": ".py",
   "mimetype": "text/x-python",
   "name": "python",
   "nbconvert_exporter": "python",
   "pygments_lexer": "ipython3",
   "version": "3.6.5"
  }
 },
 "nbformat": 4,
 "nbformat_minor": 2
}
