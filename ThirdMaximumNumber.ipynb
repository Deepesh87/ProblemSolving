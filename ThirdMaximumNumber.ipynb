{
 "cells": [
  {
   "cell_type": "raw",
   "metadata": {},
   "source": [
    "Given a non-empty array of integers, return the third maximum number in this array. If it does not exist, return the maximum number. The time complexity must be in O(n).\n",
    "\n",
    "Example 1:\n",
    "Input: [3, 2, 1]\n",
    "\n",
    "Output: 1\n",
    "\n",
    "Explanation: The third maximum is 1.\n",
    "Example 2:\n",
    "Input: [1, 2]\n",
    "\n",
    "Output: 2\n",
    "\n",
    "Explanation: The third maximum does not exist, so the maximum (2) is returned instead."
   ]
  },
  {
   "cell_type": "code",
   "execution_count": 1,
   "metadata": {},
   "outputs": [],
   "source": [
    "def thirdMax(nums):   \n",
    "    res=set(nums)\n",
    "\n",
    "    if len(res)<3:\n",
    "        return max(res)\n",
    "\n",
    "    res.remove(max(res))\n",
    "    res.remove(max(res))\n",
    "    return max(res)\n",
    "#O(N)time and O(N) space as we are saving the entire list nums"
   ]
  },
  {
   "cell_type": "code",
   "execution_count": 2,
   "metadata": {},
   "outputs": [
    {
     "data": {
      "text/plain": [
       "1"
      ]
     },
     "execution_count": 2,
     "metadata": {},
     "output_type": "execute_result"
    }
   ],
   "source": [
    "nums=[3, 2, 1]\n",
    "thirdMax(nums)"
   ]
  },
  {
   "cell_type": "code",
   "execution_count": null,
   "metadata": {},
   "outputs": [],
   "source": [
    "def thirdMax(nums):\n",
    "    res=set()#empty set\n",
    "    \n",
    "    for i in nums:\n",
    "        res.add(i)\n",
    "        if len(res)>3:\n",
    "            res.remove(min(res))\n",
    "            \n",
    "    if len(res)==3:\n",
    "        return min(res)\n",
    "    else:\n",
    "        return max(res)\n",
    "#O(N)time and O(1)space as my set res will be max of len 3"
   ]
  },
  {
   "cell_type": "code",
   "execution_count": null,
   "metadata": {},
   "outputs": [],
   "source": [
    "nums=[3, 2, 1]\n",
    "thirdMax(nums)"
   ]
  }
 ],
 "metadata": {
  "kernelspec": {
   "display_name": "Python 3",
   "language": "python",
   "name": "python3"
  },
  "language_info": {
   "codemirror_mode": {
    "name": "ipython",
    "version": 3
   },
   "file_extension": ".py",
   "mimetype": "text/x-python",
   "name": "python",
   "nbconvert_exporter": "python",
   "pygments_lexer": "ipython3",
   "version": "3.6.5"
  }
 },
 "nbformat": 4,
 "nbformat_minor": 2
}
