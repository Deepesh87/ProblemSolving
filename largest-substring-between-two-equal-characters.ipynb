{
 "cells": [
  {
   "cell_type": "raw",
   "metadata": {},
   "source": [
    "Given a string s, return the length of the longest substring between two equal characters, excluding the two characters. If there is no such substring return -1.\n",
    "\n",
    "A substring is a contiguous sequence of characters within a string.\n",
    "\n",
    " \n",
    "\n",
    "Example 1:\n",
    "\n",
    "Input: s = \"aa\"\n",
    "Output: 0\n",
    "Explanation: The optimal substring here is an empty substring between the two 'a's.\n",
    "Example 2:\n",
    "\n",
    "Input: s = \"abca\"\n",
    "Output: 2\n",
    "Explanation: The optimal substring here is \"bc\".\n",
    "Example 3:\n",
    "\n",
    "Input: s = \"cbzxy\"\n",
    "Output: -1\n",
    "Explanation: There are no characters that appear twice in s.\n",
    "Example 4:\n",
    "\n",
    "Input: s = \"cabbac\"\n",
    "Output: 4\n",
    "Explanation: The optimal substring here is \"abba\". Other non-optimal substrings include \"bb\" and \"\"."
   ]
  },
  {
   "cell_type": "code",
   "execution_count": null,
   "metadata": {},
   "outputs": [],
   "source": [
    "def maxLengthBetweenEqualCharacters(s):\n",
    "    hash={}\n",
    "    res=-1\n",
    "    for i,j in enumerate(s):\n",
    "        if j in hash:\n",
    "            hash[j].append(i)\n",
    "        else:\n",
    "            hash[j]=[i]\n",
    "\n",
    "    for i in hash:\n",
    "        if len(hash[i])>1:\n",
    "            if res<(hash[i][-1]-hash[i][0]-1):\n",
    "                res=(hash[i][-1]-hash[i][0]-1)\n",
    "\n",
    "    return res"
   ]
  }
 ],
 "metadata": {
  "kernelspec": {
   "display_name": "Python 3",
   "language": "python",
   "name": "python3"
  },
  "language_info": {
   "codemirror_mode": {
    "name": "ipython",
    "version": 3
   },
   "file_extension": ".py",
   "mimetype": "text/x-python",
   "name": "python",
   "nbconvert_exporter": "python",
   "pygments_lexer": "ipython3",
   "version": "3.6.5"
  }
 },
 "nbformat": 4,
 "nbformat_minor": 2
}
