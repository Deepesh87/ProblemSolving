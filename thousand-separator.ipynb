{
 "cells": [
  {
   "cell_type": "raw",
   "metadata": {},
   "source": [
    "Given an integer n, add a dot (\".\") as the thousands separator and return it in string format.\n",
    "\n",
    "Example 1:\n",
    "\n",
    "Input: n = 987\n",
    "Output: \"987\"\n",
    "Example 2:\n",
    "\n",
    "Input: n = 1234\n",
    "Output: \"1.234\"\n",
    "Example 3:\n",
    "\n",
    "Input: n = 123456789\n",
    "Output: \"123.456.789\"\n",
    "Example 4:\n",
    "\n",
    "Input: n = 0\n",
    "Output: \"0\""
   ]
  },
  {
   "cell_type": "code",
   "execution_count": 1,
   "metadata": {},
   "outputs": [],
   "source": [
    "def thousandSeparator(n):\n",
    "    n=str(n)[::-1]        \n",
    "    return \".\".join([n[i:i+3] for i in range(0,len(n),3)])[::-1]\n",
    "#O(N)time and O(N)space"
   ]
  },
  {
   "cell_type": "code",
   "execution_count": null,
   "metadata": {},
   "outputs": [],
   "source": []
  }
 ],
 "metadata": {
  "kernelspec": {
   "display_name": "Python 3",
   "language": "python",
   "name": "python3"
  },
  "language_info": {
   "codemirror_mode": {
    "name": "ipython",
    "version": 3
   },
   "file_extension": ".py",
   "mimetype": "text/x-python",
   "name": "python",
   "nbconvert_exporter": "python",
   "pygments_lexer": "ipython3",
   "version": "3.6.5"
  }
 },
 "nbformat": 4,
 "nbformat_minor": 2
}
