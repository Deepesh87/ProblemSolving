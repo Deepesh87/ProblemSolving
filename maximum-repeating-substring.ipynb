{
 "cells": [
  {
   "cell_type": "raw",
   "metadata": {},
   "source": [
    "For a string sequence, a string word is k-repeating if word concatenated k times is a substring of sequence. The word's maximum k-repeating value is the highest value k where word is k-repeating in sequence. If word is not a substring of sequence, word's maximum k-repeating value is 0.\n",
    "\n",
    "Given strings sequence and word, return the maximum k-repeating value of word in sequence.\n",
    "\n",
    " \n",
    "\n",
    "Example 1:\n",
    "\n",
    "Input: sequence = \"ababc\", word = \"ab\"\n",
    "Output: 2\n",
    "Explanation: \"abab\" is a substring in \"ababc\".\n",
    "Example 2:\n",
    "\n",
    "Input: sequence = \"ababc\", word = \"ba\"\n",
    "Output: 1\n",
    "Explanation: \"ba\" is a substring in \"ababc\". \"baba\" is not a substring in \"ababc\".\n",
    "Example 3:\n",
    "\n",
    "Input: sequence = \"ababc\", word = \"ac\"\n",
    "Output: 0\n",
    "Explanation: \"ac\" is not a substring in \"ababc\". "
   ]
  },
  {
   "cell_type": "code",
   "execution_count": null,
   "metadata": {},
   "outputs": [],
   "source": [
    "def maxRepeating(sequence,word):\n",
    "    k=0\n",
    "\n",
    "    while word*k in sequence:\n",
    "        k+=1\n",
    "\n",
    "    return k-1\n",
    "\n",
    "#O(N2)time and O(1)space"
   ]
  }
 ],
 "metadata": {
  "kernelspec": {
   "display_name": "Python 3",
   "language": "python",
   "name": "python3"
  },
  "language_info": {
   "codemirror_mode": {
    "name": "ipython",
    "version": 3
   },
   "file_extension": ".py",
   "mimetype": "text/x-python",
   "name": "python",
   "nbconvert_exporter": "python",
   "pygments_lexer": "ipython3",
   "version": "3.6.5"
  }
 },
 "nbformat": 4,
 "nbformat_minor": 2
}
