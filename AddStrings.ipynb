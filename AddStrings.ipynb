{
 "cells": [
  {
   "cell_type": "raw",
   "metadata": {},
   "source": [
    "Given two non-negative integers num1 and num2 represented as string, return the sum of num1 and num2.\n",
    "\n",
    "Note:\n",
    "\n",
    "The length of both num1 and num2 is < 5100.\n",
    "Both num1 and num2 contains only digits 0-9.\n",
    "Both num1 and num2 does not contain any leading zero.\n",
    "You must not use any built-in BigInteger library or convert the inputs to integer directly."
   ]
  },
  {
   "cell_type": "code",
   "execution_count": 22,
   "metadata": {},
   "outputs": [],
   "source": [
    "def addStrings(nums1,nums2):\n",
    "    \n",
    "    index1=len(nums1)-1\n",
    "    index2=len(nums2)-1\n",
    "    \n",
    "    result=[]\n",
    "    carryover=0\n",
    "    \n",
    "    while index1>=0 or index2>=0:\n",
    "        \n",
    "        if index1>=0:\n",
    "            value1=ord(nums1[index1])-ord('0')\n",
    "            \n",
    "        else:\n",
    "            value1=0\n",
    "            \n",
    "        if index2>=0:\n",
    "            value2=ord(nums2[index2])-ord('0')\n",
    "            \n",
    "        else:\n",
    "            value2=0\n",
    "            \n",
    "        index1-=1\n",
    "        index2-=1\n",
    "        \n",
    "        value=(value1+value2+carryover)%10\n",
    "        carryover=(value1+value2+carryover)//10\n",
    "        result.append(value)\n",
    "    \n",
    "    \n",
    "    if carryover:\n",
    "        result.append(carryover)\n",
    "            \n",
    "    result=[str(i) for i in result]\n",
    "            \n",
    "    return ''.join(result[::-1]) "
   ]
  },
  {
   "cell_type": "code",
   "execution_count": 23,
   "metadata": {},
   "outputs": [
    {
     "data": {
      "text/plain": [
       "'10'"
      ]
     },
     "execution_count": 23,
     "metadata": {},
     "output_type": "execute_result"
    }
   ],
   "source": [
    "nums1='9'\n",
    "nums2='1'\n",
    "addStrings(nums1,nums2)    "
   ]
  },
  {
   "cell_type": "code",
   "execution_count": null,
   "metadata": {},
   "outputs": [],
   "source": [
    "Time Complexity: O(max(N_1, N_2)) time and O(Max(N_1,N_2)) space"
   ]
  }
 ],
 "metadata": {
  "kernelspec": {
   "display_name": "Python 3",
   "language": "python",
   "name": "python3"
  },
  "language_info": {
   "codemirror_mode": {
    "name": "ipython",
    "version": 3
   },
   "file_extension": ".py",
   "mimetype": "text/x-python",
   "name": "python",
   "nbconvert_exporter": "python",
   "pygments_lexer": "ipython3",
   "version": "3.6.5"
  }
 },
 "nbformat": 4,
 "nbformat_minor": 2
}
