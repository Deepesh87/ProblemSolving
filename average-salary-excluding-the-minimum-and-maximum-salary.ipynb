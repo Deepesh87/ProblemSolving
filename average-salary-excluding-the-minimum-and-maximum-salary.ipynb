{
 "cells": [
  {
   "cell_type": "raw",
   "metadata": {},
   "source": [
    "Given an array of unique integers salary where salary[i] is the salary of the employee i.\n",
    "\n",
    "Return the average salary of employees excluding the minimum and maximum salary.\n",
    "\n",
    " \n",
    "\n",
    "Example 1:\n",
    "\n",
    "Input: salary = [4000,3000,1000,2000]\n",
    "Output: 2500.00000\n",
    "Explanation: Minimum salary and maximum salary are 1000 and 4000 respectively.\n",
    "Average salary excluding minimum and maximum salary is (2000+3000)/2= 2500\n",
    "Example 2:\n",
    "\n",
    "Input: salary = [1000,2000,3000]\n",
    "Output: 2000.00000\n",
    "Explanation: Minimum salary and maximum salary are 1000 and 3000 respectively.\n",
    "Average salary excluding minimum and maximum salary is (2000)/1= 2000\n",
    "Example 3:\n",
    "\n",
    "Input: salary = [6000,5000,4000,3000,2000,1000]\n",
    "Output: 3500.00000\n",
    "Example 4:\n",
    "\n",
    "Input: salary = [8000,9000,2000,3000,6000,1000]\n",
    "Output: 4750.00000"
   ]
  },
  {
   "cell_type": "code",
   "execution_count": null,
   "metadata": {},
   "outputs": [],
   "source": [
    "def average(self):\n",
    "    sortd=sorted(salary)\n",
    "    return sum(sortd[1:-1])/(len(salary)-2)\n",
    "#O(NlogN)time and O(N)space"
   ]
  },
  {
   "cell_type": "code",
   "execution_count": 1,
   "metadata": {},
   "outputs": [
    {
     "data": {
      "text/plain": [
       "[1, 2, 3, 4]"
      ]
     },
     "execution_count": 1,
     "metadata": {},
     "output_type": "execute_result"
    }
   ],
   "source": [
    "def average(self):\n",
    "    max_=float('-inf')\n",
    "    min_=float('inf')\n",
    "    total=0\n",
    "    for i in salary:\n",
    "        if i>max_:\n",
    "            max_=i\n",
    "        if i<min_:\n",
    "            min_=i\n",
    "\n",
    "        total+=i\n",
    "\n",
    "    return (total-max_-min_)/(len(salary)-2)    "
   ]
  },
  {
   "cell_type": "code",
   "execution_count": null,
   "metadata": {},
   "outputs": [],
   "source": [
    "#O(N)time and O(1)space"
   ]
  },
  {
   "cell_type": "code",
   "execution_count": null,
   "metadata": {},
   "outputs": [],
   "source": []
  }
 ],
 "metadata": {
  "kernelspec": {
   "display_name": "Python 3",
   "language": "python",
   "name": "python3"
  },
  "language_info": {
   "codemirror_mode": {
    "name": "ipython",
    "version": 3
   },
   "file_extension": ".py",
   "mimetype": "text/x-python",
   "name": "python",
   "nbconvert_exporter": "python",
   "pygments_lexer": "ipython3",
   "version": "3.6.5"
  }
 },
 "nbformat": 4,
 "nbformat_minor": 2
}
