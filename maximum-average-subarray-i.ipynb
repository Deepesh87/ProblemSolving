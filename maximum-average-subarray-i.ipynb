{
 "cells": [
  {
   "cell_type": "raw",
   "metadata": {},
   "source": [
    "Given an array consisting of n integers, find the contiguous subarray of given length k that has the maximum average value. And you need to output the maximum average value.\n",
    "\n",
    "Example 1:\n",
    "\n",
    "Input: [1,12,-5,-6,50,3], k = 4\n",
    "Output: 12.75\n",
    "Explanation: Maximum average is (12-5-6+50)/4 = 51/4 = 12.75\n",
    " \n",
    "\n",
    "Note:\n",
    "\n",
    "1 <= k <= n <= 30,000.\n",
    "Elements of the given array will be in the range [-10,000, 10,000]."
   ]
  },
  {
   "cell_type": "code",
   "execution_count": 1,
   "metadata": {},
   "outputs": [],
   "source": [
    "def findMaxAverage(nums):\n",
    "    total=0\n",
    "    for i in range(0,k):\n",
    "        total+=nums[i]\n",
    "\n",
    "    res=total\n",
    "\n",
    "    for i in range(k,len(nums)):\n",
    "        total=total+nums[i]-nums[i-k]\n",
    "        res=max(res,total)\n",
    "\n",
    "    return res/k"
   ]
  },
  {
   "cell_type": "code",
   "execution_count": null,
   "metadata": {},
   "outputs": [],
   "source": [
    "#Sliding window\n",
    "#O(N)time and O(1)space"
   ]
  }
 ],
 "metadata": {
  "kernelspec": {
   "display_name": "Python 3",
   "language": "python",
   "name": "python3"
  },
  "language_info": {
   "codemirror_mode": {
    "name": "ipython",
    "version": 3
   },
   "file_extension": ".py",
   "mimetype": "text/x-python",
   "name": "python",
   "nbconvert_exporter": "python",
   "pygments_lexer": "ipython3",
   "version": "3.6.5"
  }
 },
 "nbformat": 4,
 "nbformat_minor": 2
}
