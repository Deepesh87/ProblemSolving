{
 "cells": [
  {
   "cell_type": "raw",
   "metadata": {},
   "source": [
    "Given a rows x cols matrix mat, where mat[i][j] is either 0 or 1, return the number of special positions in mat.\n",
    "\n",
    "A position (i,j) is called special if mat[i][j] == 1 and all other elements in row i and column j are 0 (rows and columns are 0-indexed).\n",
    "\n",
    " \n",
    "\n",
    "Example 1:\n",
    "\n",
    "Input: mat = [[1,0,0],\n",
    "              [0,0,1],\n",
    "              [1,0,0]]\n",
    "Output: 1\n",
    "Explanation: (1,2) is a special position because mat[1][2] == 1 and all other elements in row 1 and column 2 are 0.\n",
    "Example 2:\n",
    "\n",
    "Input: mat = [[1,0,0],\n",
    "              [0,1,0],\n",
    "              [0,0,1]]\n",
    "Output: 3\n",
    "Explanation: (0,0), (1,1) and (2,2) are special positions. \n",
    "Example 3:\n",
    "\n",
    "Input: mat = [[0,0,0,1],\n",
    "              [1,0,0,0],\n",
    "              [0,1,1,0],\n",
    "              [0,0,0,0]]\n",
    "Output: 2\n",
    "Example 4:\n",
    "\n",
    "Input: mat = [[0,0,0,0,0],\n",
    "              [1,0,0,0,0],\n",
    "              [0,1,0,0,0],\n",
    "              [0,0,1,0,0],\n",
    "              [0,0,0,1,1]]\n",
    "Output: 3\n",
    " \n",
    "\n",
    "Constraints:\n",
    "\n",
    "rows == mat.length\n",
    "cols == mat[i].length\n",
    "1 <= rows, cols <= 100\n",
    "mat[i][j] is 0 or 1."
   ]
  },
  {
   "cell_type": "code",
   "execution_count": null,
   "metadata": {},
   "outputs": [],
   "source": [
    "def numSpecial(mat):\n",
    "    i=0\n",
    "    count=0\n",
    "    flag=0        \n",
    "    while i<len(mat):\n",
    "        for j in range(len(mat[i])):\n",
    "            flag=0\n",
    "            if mat[i][j]==1 and mat[i].count(1)==1:\n",
    "                for k in range(len(mat)):\n",
    "                    if mat[k][j]==1:\n",
    "                        flag+=1\n",
    "                if flag<=1:\n",
    "                    count+=1                                   \n",
    "        i+=1                                \n",
    "    return count"
   ]
  }
 ],
 "metadata": {
  "kernelspec": {
   "display_name": "Python 3",
   "language": "python",
   "name": "python3"
  },
  "language_info": {
   "codemirror_mode": {
    "name": "ipython",
    "version": 3
   },
   "file_extension": ".py",
   "mimetype": "text/x-python",
   "name": "python",
   "nbconvert_exporter": "python",
   "pygments_lexer": "ipython3",
   "version": "3.6.5"
  }
 },
 "nbformat": 4,
 "nbformat_minor": 2
}
