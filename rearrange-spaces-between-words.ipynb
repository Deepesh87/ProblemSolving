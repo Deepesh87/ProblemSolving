{
 "cells": [
  {
   "cell_type": "raw",
   "metadata": {},
   "source": [
    "You are given a string text of words that are placed among some number of spaces. Each word consists of one or more lowercase English letters and are separated by at least one space. It's guaranteed that text contains at least one word.\n",
    "\n",
    "Rearrange the spaces so that there is an equal number of spaces between every pair of adjacent words and that number is maximized. If you cannot redistribute all the spaces equally, place the extra spaces at the end, meaning the returned string should be the same length as text.\n",
    "\n",
    "Return the string after rearranging the spaces.\n",
    "\n",
    "Example 1:\n",
    "\n",
    "Input: text = \"  this   is  a sentence \"\n",
    "Output: \"this   is   a   sentence\"\n",
    "Explanation: There are a total of 9 spaces and 4 words. We can evenly divide the 9 spaces between the words: 9 / (4-1) = 3 spaces.\n",
    "Example 2:\n",
    "\n",
    "Input: text = \" practice   makes   perfect\"\n",
    "Output: \"practice   makes   perfect \"\n",
    "Explanation: There are a total of 7 spaces and 3 words. 7 / (3-1) = 3 spaces plus 1 extra space. We place this extra space at the end of the string.\n",
    "Example 3:\n",
    "\n",
    "Input: text = \"hello   world\"\n",
    "Output: \"hello   world\"\n",
    "Example 4:\n",
    "\n",
    "Input: text = \"  walks  udp package   into  bar a\"\n",
    "Output: \"walks  udp  package  into  bar  a \"\n",
    "Example 5:\n",
    "\n",
    "Input: text = \"a\"\n",
    "Output: \"a\""
   ]
  },
  {
   "cell_type": "code",
   "execution_count": 6,
   "metadata": {},
   "outputs": [],
   "source": [
    "def reorderSpaces(text):\n",
    "\n",
    "    spaces=text.count(' ')\n",
    "\n",
    "    words=[i for i in text.split(\" \") if i!='']\n",
    "    count_words=len(words)\n",
    "    if count_words==1:\n",
    "        return words[0]+' '*spaces\n",
    "\n",
    "    ans=spaces//(count_words-1)\n",
    "    res=' '*ans\n",
    "    rem=spaces%(count_words-1)\n",
    "\n",
    "    return res.join(words)+rem*' '"
   ]
  },
  {
   "cell_type": "code",
   "execution_count": null,
   "metadata": {},
   "outputs": [],
   "source": [
    "#O(N)time and O(N)space"
   ]
  }
 ],
 "metadata": {
  "kernelspec": {
   "display_name": "Python 3",
   "language": "python",
   "name": "python3"
  },
  "language_info": {
   "codemirror_mode": {
    "name": "ipython",
    "version": 3
   },
   "file_extension": ".py",
   "mimetype": "text/x-python",
   "name": "python",
   "nbconvert_exporter": "python",
   "pygments_lexer": "ipython3",
   "version": "3.6.5"
  }
 },
 "nbformat": 4,
 "nbformat_minor": 2
}
