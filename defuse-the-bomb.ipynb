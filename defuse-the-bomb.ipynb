{
 "cells": [
  {
   "cell_type": "raw",
   "metadata": {},
   "source": [
    "You have a bomb to defuse, and your time is running out! Your informer will provide you with a circular array code of length of n and a key k.\n",
    "\n",
    "To decrypt the code, you must replace every number. All the numbers are replaced simultaneously.\n",
    "\n",
    "If k > 0, replace the ith number with the sum of the next k numbers.\n",
    "If k < 0, replace the ith number with the sum of the previous k numbers.\n",
    "If k == 0, replace the ith number with 0.\n",
    "As code is circular, the next element of code[n-1] is code[0], and the previous element of code[0] is code[n-1].\n",
    "\n",
    "Given the circular array code and an integer key k, return the decrypted code to defuse the bomb!\n",
    "\n",
    " \n",
    "\n",
    "Example 1:\n",
    "\n",
    "Input: code = [5,7,1,4], k = 3\n",
    "Output: [12,10,16,13]\n",
    "Explanation: Each number is replaced by the sum of the next 3 numbers. The decrypted code is [7+1+4, 1+4+5, 4+5+7, 5+7+1]. Notice that the numbers wrap around.\n",
    "Example 2:\n",
    "\n",
    "Input: code = [1,2,3,4], k = 0\n",
    "Output: [0,0,0,0]\n",
    "Explanation: When k is zero, the numbers are replaced by 0. \n",
    "Example 3:\n",
    "\n",
    "Input: code = [2,4,9,3], k = -2\n",
    "Output: [12,5,6,13]\n",
    "Explanation: The decrypted code is [3+9, 2+3, 4+2, 9+4]. Notice that the numbers wrap around again. If k is negative, the sum is of the previous numbers."
   ]
  },
  {
   "cell_type": "code",
   "execution_count": null,
   "metadata": {},
   "outputs": [],
   "source": []
  }
 ],
 "metadata": {
  "kernelspec": {
   "display_name": "Python 3",
   "language": "python",
   "name": "python3"
  },
  "language_info": {
   "codemirror_mode": {
    "name": "ipython",
    "version": 3
   },
   "file_extension": ".py",
   "mimetype": "text/x-python",
   "name": "python",
   "nbconvert_exporter": "python",
   "pygments_lexer": "ipython3",
   "version": "3.6.5"
  }
 },
 "nbformat": 4,
 "nbformat_minor": 2
}
