{
 "cells": [
  {
   "cell_type": "code",
   "execution_count": null,
   "metadata": {},
   "outputs": [],
   "source": [
    "Given a string s, return the longest palindromic substring in s.\n",
    "Example 1:\n",
    "\n",
    "Input: s = \"babad\"\n",
    "Output: \"bab\"\n",
    "Note: \"aba\" is also a valid answer.\n",
    "Example 2:\n",
    "\n",
    "Input: s = \"cbbd\"\n",
    "Output: \"bb\"\n",
    "Example 3:\n",
    "\n",
    "Input: s = \"a\"\n",
    "Output: \"a\"\n",
    "Example 4:\n",
    "\n",
    "Input: s = \"ac\"\n",
    "Output: \"a\""
   ]
  },
  {
   "cell_type": "code",
   "execution_count": 1,
   "metadata": {},
   "outputs": [],
   "source": [
    "def longestPalindrome(s):\n",
    "    res=''\n",
    "    temp=''\n",
    "\n",
    "    for i in range(len(s)):\n",
    "        temp=self.helper(s,i,i)\n",
    "        if len(temp)>len(res):\n",
    "            res=temp\n",
    "\n",
    "        temp=self.helper(s,i,i+1)\n",
    "        if len(temp)>len(res):\n",
    "            res=temp\n",
    "    return res\n",
    "\n",
    "def helper(self,s,left,right):\n",
    "    while left>=0 and right<len(s) and s[left]==s[right]:\n",
    "        left-=1\n",
    "        right+=1\n",
    "    return s[left+1:right]\n",
    "#O(N2)time and O(1)space"
   ]
  },
  {
   "cell_type": "code",
   "execution_count": null,
   "metadata": {},
   "outputs": [],
   "source": [
    "#N2 time as we are gong through each element and checking every possible substring starting from it. "
   ]
  },
  {
   "cell_type": "code",
   "execution_count": 2,
   "metadata": {},
   "outputs": [],
   "source": [
    "def longestPalindrome(s):\n",
    "    start=0\n",
    "    index=0\n",
    "    max_len=''\n",
    "    curr=''        \n",
    "    while index <len(s):\n",
    "        if self.isP(s[start:index+1]):\n",
    "            curr=s[start:index+1]\n",
    "            if len(curr)>len(max_len):\n",
    "                max_len=curr\n",
    "            index+=1                \n",
    "        else:\n",
    "            if index==len(s)-1:\n",
    "                start+=1 \n",
    "                index=start\n",
    "            index+=1\n",
    "    return max_len\n",
    "\n",
    "def isP(self,s):\n",
    "    left=0\n",
    "    right=len(s)-1\n",
    "    while left<right:\n",
    "        if s[left]!=s[right]:\n",
    "            return False\n",
    "        else:\n",
    "            left+=1\n",
    "            right-=1\n",
    "    return True"
   ]
  },
  {
   "cell_type": "code",
   "execution_count": null,
   "metadata": {},
   "outputs": [],
   "source": [
    "#O(N3)time and O(1) space\n",
    "#N3 because\n",
    "#N as we are taking each element as a start value\n",
    "#N as we are interating through each other element (index goes from start till the end of the string)\n",
    "#N as finding a substring is a palindrone or not taken O(N)time\n",
    "#So, N3"
   ]
  }
 ],
 "metadata": {
  "kernelspec": {
   "display_name": "Python 3",
   "language": "python",
   "name": "python3"
  },
  "language_info": {
   "codemirror_mode": {
    "name": "ipython",
    "version": 3
   },
   "file_extension": ".py",
   "mimetype": "text/x-python",
   "name": "python",
   "nbconvert_exporter": "python",
   "pygments_lexer": "ipython3",
   "version": "3.6.5"
  }
 },
 "nbformat": 4,
 "nbformat_minor": 2
}
