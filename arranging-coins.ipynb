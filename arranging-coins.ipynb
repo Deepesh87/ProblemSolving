{
 "cells": [
  {
   "cell_type": "raw",
   "metadata": {},
   "source": [
    "You have a total of n coins that you want to form in a staircase shape, where every k-th row must have exactly k coins.\n",
    "\n",
    "Given n, find the total number of full staircase rows that can be formed.\n",
    "\n",
    "n is a non-negative integer and fits within the range of a 32-bit signed integer.\n",
    "\n",
    "Example 1:\n",
    "\n",
    "n = 5\n",
    "\n",
    "The coins can form the following rows:\n",
    "¤\n",
    "¤ ¤\n",
    "¤ ¤\n",
    "\n",
    "Because the 3rd row is incomplete, we return 2.\n",
    "Example 2:\n",
    "\n",
    "n = 8\n",
    "\n",
    "The coins can form the following rows:\n",
    "¤\n",
    "¤ ¤\n",
    "¤ ¤ ¤\n",
    "¤ ¤\n",
    "\n",
    "Because the 4th row is incomplete, we return 3."
   ]
  },
  {
   "cell_type": "code",
   "execution_count": 1,
   "metadata": {},
   "outputs": [],
   "source": [
    "def arrangeCoins(n):\n",
    "    if n==0: return 0\n",
    "    elif n==1: return 1\n",
    "    curr=n\n",
    "    for i in range(1,n+1):\n",
    "        if curr<i:\n",
    "            return i-1\n",
    "        curr-=i\n",
    "        \n",
    "#O(N)time as I am going through each iteration and O(1)space"
   ]
  },
  {
   "cell_type": "code",
   "execution_count": 2,
   "metadata": {},
   "outputs": [],
   "source": [
    "def arrangeCoins(n):\n",
    "    return int((-1+(1+4*2*n)**0.5)//2)\n",
    "\n",
    "#O(1)time and space. \n",
    "#using solution of a quadratic equation"
   ]
  },
  {
   "cell_type": "code",
   "execution_count": null,
   "metadata": {},
   "outputs": [],
   "source": [
    "def arrangeCoins(n):\n",
    "    #binary search\n",
    "\n",
    "    left=1\n",
    "    right=n\n",
    "\n",
    "    while left<=right:\n",
    "        mid=left+(right-left)//2\n",
    "        curr=mid*(mid+1)//2\n",
    "\n",
    "        if curr==n:\n",
    "            return mid\n",
    "        elif curr>n:\n",
    "            right=mid-1\n",
    "        else:\n",
    "            left=mid+1\n",
    "\n",
    "\n",
    "    return right\n",
    "#O(logN)time and O(1)space"
   ]
  }
 ],
 "metadata": {
  "kernelspec": {
   "display_name": "Python 3",
   "language": "python",
   "name": "python3"
  },
  "language_info": {
   "codemirror_mode": {
    "name": "ipython",
    "version": 3
   },
   "file_extension": ".py",
   "mimetype": "text/x-python",
   "name": "python",
   "nbconvert_exporter": "python",
   "pygments_lexer": "ipython3",
   "version": "3.6.5"
  }
 },
 "nbformat": 4,
 "nbformat_minor": 2
}
