{
 "cells": [
  {
   "cell_type": "raw",
   "metadata": {},
   "source": [
    "Given an array of numbers arr. A sequence of numbers is called an arithmetic progression if the difference between any two consecutive elements is the same.\n",
    "\n",
    "Return true if the array can be rearranged to form an arithmetic progression, otherwise, return false.\n",
    "\n",
    " \n",
    "\n",
    "Example 1:\n",
    "\n",
    "Input: arr = [3,5,1]\n",
    "Output: true\n",
    "Explanation: We can reorder the elements as [1,3,5] or [5,3,1] with differences 2 and -2 respectively, between each consecutive elements.\n",
    "Example 2:\n",
    "\n",
    "Input: arr = [1,2,4]\n",
    "Output: false\n",
    "Explanation: There is no way to reorder the elements to obtain an arithmetic progression."
   ]
  },
  {
   "cell_type": "code",
   "execution_count": null,
   "metadata": {},
   "outputs": [],
   "source": [
    "def canMakeArithmeticProgression(arr):\n",
    "    arr_=sorted(arr)\n",
    "    k=0\n",
    "    first=0\n",
    "    any_=0\n",
    "    while k<len(arr)-1:\n",
    "        #first check\n",
    "        if k==0:\n",
    "            first=arr_[k+1]-arr_[k]\n",
    "        else:\n",
    "            any_=arr_[k+1]-arr_[k]\n",
    "\n",
    "        if k>0 and any_!=first:\n",
    "            return False                \n",
    "\n",
    "        k+=1\n",
    "\n",
    "    return True\n",
    "#O(NlogN)time and O(N)space"
   ]
  }
 ],
 "metadata": {
  "kernelspec": {
   "display_name": "Python 3",
   "language": "python",
   "name": "python3"
  },
  "language_info": {
   "codemirror_mode": {
    "name": "ipython",
    "version": 3
   },
   "file_extension": ".py",
   "mimetype": "text/x-python",
   "name": "python",
   "nbconvert_exporter": "python",
   "pygments_lexer": "ipython3",
   "version": "3.6.5"
  }
 },
 "nbformat": 4,
 "nbformat_minor": 2
}
