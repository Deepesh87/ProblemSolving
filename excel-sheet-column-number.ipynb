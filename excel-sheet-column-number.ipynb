{
 "cells": [
  {
   "cell_type": "raw",
   "metadata": {},
   "source": [
    "Given a column title as appear in an Excel sheet, return its corresponding column number.\n",
    "\n",
    "For example:\n",
    "\n",
    "    A -> 1\n",
    "    B -> 2\n",
    "    C -> 3\n",
    "    ...\n",
    "    Z -> 26\n",
    "    AA -> 27\n",
    "    AB -> 28 \n",
    "    ...\n",
    "Example 1:\n",
    "\n",
    "Input: \"A\"\n",
    "Output: 1\n",
    "Example 2:\n",
    "\n",
    "Input: \"AB\"\n",
    "Output: 28\n",
    "Example 3:\n",
    "\n",
    "Input: \"ZY\"\n",
    "Output: 701"
   ]
  },
  {
   "cell_type": "code",
   "execution_count": 3,
   "metadata": {},
   "outputs": [
    {
     "data": {
      "text/plain": [
       "'ABCDEFGHIJKLMNOPQRSTUVWXYZ'"
      ]
     },
     "execution_count": 3,
     "metadata": {},
     "output_type": "execute_result"
    }
   ],
   "source": [
    "import string\n",
    "string.ascii_uppercase"
   ]
  },
  {
   "cell_type": "code",
   "execution_count": 4,
   "metadata": {},
   "outputs": [],
   "source": [
    "def titleToNumber(s):\n",
    "    all_=string.ascii_uppercase\n",
    "    n=len(s)-1\n",
    "    i=len(s)-1\n",
    "    ans=0\n",
    "\n",
    "    while i>-1:\n",
    "        res=all_.index(s[i])+1\n",
    "        ans+=26**(n-i)*(res)\n",
    "        i-=1\n",
    "\n",
    "    return ans"
   ]
  },
  {
   "cell_type": "code",
   "execution_count": null,
   "metadata": {},
   "outputs": [],
   "source": [
    "#O(N)time and O(1)space"
   ]
  }
 ],
 "metadata": {
  "kernelspec": {
   "display_name": "Python 3",
   "language": "python",
   "name": "python3"
  },
  "language_info": {
   "codemirror_mode": {
    "name": "ipython",
    "version": 3
   },
   "file_extension": ".py",
   "mimetype": "text/x-python",
   "name": "python",
   "nbconvert_exporter": "python",
   "pygments_lexer": "ipython3",
   "version": "3.6.5"
  }
 },
 "nbformat": 4,
 "nbformat_minor": 2
}
