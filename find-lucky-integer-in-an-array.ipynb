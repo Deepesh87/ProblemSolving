{
 "cells": [
  {
   "cell_type": "raw",
   "metadata": {},
   "source": [
    "Given an array of integers arr, a lucky integer is an integer which has a frequency in the array equal to its value.\n",
    "\n",
    "Return a lucky integer in the array. If there are multiple lucky integers return the largest of them. If there is no lucky integer return -1.\n",
    "\n",
    " \n",
    "\n",
    "Example 1:\n",
    "\n",
    "Input: arr = [2,2,3,4]\n",
    "Output: 2\n",
    "Explanation: The only lucky number in the array is 2 because frequency[2] == 2.\n",
    "Example 2:\n",
    "\n",
    "Input: arr = [1,2,2,3,3,3]\n",
    "Output: 3\n",
    "Explanation: 1, 2 and 3 are all lucky numbers, return the largest of them."
   ]
  },
  {
   "cell_type": "code",
   "execution_count": 1,
   "metadata": {},
   "outputs": [],
   "source": [
    "def findLucky(arr):\n",
    "    hash={}\n",
    "    res=-1\n",
    "    \n",
    "    for i in arr:\n",
    "        if i not in hash:\n",
    "            hash[i]=1\n",
    "        else:\n",
    "            hash[i]+=1\n",
    "            \n",
    "    for i in hash:\n",
    "        if hash[i]==i:\n",
    "            if res<i:\n",
    "                res=i\n",
    "    return res\n",
    "\n",
    "#O(N) time and O(1) space ( assuming the arr can take only a fixed number of integers)\n",
    "#BUT what if the array is sorted and then given? Can we leverage this to solve the problem in lesser time?"
   ]
  },
  {
   "cell_type": "code",
   "execution_count": 2,
   "metadata": {},
   "outputs": [
    {
     "data": {
      "text/plain": [
       "2"
      ]
     },
     "execution_count": 2,
     "metadata": {},
     "output_type": "execute_result"
    }
   ],
   "source": [
    "def findLucky(arr):\n",
    "    arr=sorted(arr)\n",
    "    i=len(arr)-1\n",
    "    counter=1\n",
    "\n",
    "    while i>0:\n",
    "        if arr[i]==arr[i-1]:\n",
    "            counter+=1\n",
    "            i-=1\n",
    "        else:\n",
    "            if arr[i]==counter:\n",
    "                return counter\n",
    "            counter=1\n",
    "            i-=1\n",
    "\n",
    "    if arr[i]==counter:\n",
    "        return counter\n",
    "    else:\n",
    "        return -1  \n",
    "    \n",
    "arr = [2,2,3,4]\n",
    "findLucky(arr)"
   ]
  },
  {
   "cell_type": "code",
   "execution_count": null,
   "metadata": {},
   "outputs": [],
   "source": []
  }
 ],
 "metadata": {
  "kernelspec": {
   "display_name": "Python 3",
   "language": "python",
   "name": "python3"
  },
  "language_info": {
   "codemirror_mode": {
    "name": "ipython",
    "version": 3
   },
   "file_extension": ".py",
   "mimetype": "text/x-python",
   "name": "python",
   "nbconvert_exporter": "python",
   "pygments_lexer": "ipython3",
   "version": "3.6.5"
  }
 },
 "nbformat": 4,
 "nbformat_minor": 2
}
