{
 "cells": [
  {
   "cell_type": "markdown",
   "metadata": {},
   "source": [
    "You are playing the following Flip Game with your friend: Given a string that contains only these two characters: + and -, you and your friend take turns to flip two consecutive \"++\" into \"--\". The game ends when a person can no longer make a move and therefore the other person will be the winner.\n",
    "\n",
    "Write a function to compute all possible states of the string after one valid move.\n",
    "\n",
    "Example:\n",
    "\n",
    "Input: s = \"++++\"\n",
    "Output: \n",
    "[\n",
    "  \"--++\",\n",
    "  \"+--+\",\n",
    "  \"++--\"\n",
    "]\n",
    "Note: If there is no valid move, return an empty list []."
   ]
  },
  {
   "cell_type": "code",
   "execution_count": 1,
   "metadata": {},
   "outputs": [],
   "source": [
    "def generatePossibleNextMoves(s):\n",
    "    ans=[]\n",
    "    for i in range(len(s)-1):\n",
    "        if s[i:i+2]=='++':\n",
    "            ans.append(s[:i]+'--'+s[i+2:])\n",
    "    return ans"
   ]
  },
  {
   "cell_type": "code",
   "execution_count": null,
   "metadata": {},
   "outputs": [],
   "source": [
    "#O(N)time and O(N)space"
   ]
  }
 ],
 "metadata": {
  "kernelspec": {
   "display_name": "Python 3",
   "language": "python",
   "name": "python3"
  },
  "language_info": {
   "codemirror_mode": {
    "name": "ipython",
    "version": 3
   },
   "file_extension": ".py",
   "mimetype": "text/x-python",
   "name": "python",
   "nbconvert_exporter": "python",
   "pygments_lexer": "ipython3",
   "version": "3.6.5"
  }
 },
 "nbformat": 4,
 "nbformat_minor": 2
}
