{
 "cells": [
  {
   "cell_type": "raw",
   "metadata": {},
   "source": [
    "You own a Goal Parser that can interpret a string command. The command consists of an alphabet of \"G\", \"()\" and/or \"(al)\" in some order. The Goal Parser will interpret \"G\" as the string \"G\", \"()\" as the string \"o\", and \"(al)\" as the string \"al\". The interpreted strings are then concatenated in the original order.\n",
    "\n",
    "Given the string command, return the Goal Parser's interpretation of command.\n",
    "\n",
    " \n",
    "\n",
    "Example 1:\n",
    "\n",
    "Input: command = \"G()(al)\"\n",
    "Output: \"Goal\"\n",
    "Explanation: The Goal Parser interprets the command as follows:\n",
    "G -> G\n",
    "() -> o\n",
    "(al) -> al\n",
    "The final concatenated result is \"Goal\".\n",
    "Example 2:\n",
    "\n",
    "Input: command = \"G()()()()(al)\"\n",
    "Output: \"Gooooal\"\n",
    "Example 3:\n",
    "\n",
    "Input: command = \"(al)G(al)()()G\"\n",
    "Output: \"alGalooG\""
   ]
  },
  {
   "cell_type": "code",
   "execution_count": null,
   "metadata": {},
   "outputs": [],
   "source": [
    "def interpret(command):\n",
    "    return command.replace('()','o').replace('(al)','al')\n",
    "\n",
    "#O(N)time and o(1)space"
   ]
  }
 ],
 "metadata": {
  "kernelspec": {
   "display_name": "Python 3",
   "language": "python",
   "name": "python3"
  },
  "language_info": {
   "codemirror_mode": {
    "name": "ipython",
    "version": 3
   },
   "file_extension": ".py",
   "mimetype": "text/x-python",
   "name": "python",
   "nbconvert_exporter": "python",
   "pygments_lexer": "ipython3",
   "version": "3.6.5"
  }
 },
 "nbformat": 4,
 "nbformat_minor": 2
}
