{
 "cells": [
  {
   "cell_type": "raw",
   "metadata": {},
   "source": [
    "Given a sorted array and a target value, return the index if the target is found. If not, return the index where it would be if it were inserted in order.\n",
    "\n",
    "You may assume no duplicates in the array.\n",
    "\n",
    "Input: [1,3,5,6], 5\n",
    "Output: 2\n",
    "    \n",
    "Input: [1,3,5,6], 2\n",
    "Output: 1\n",
    "    \n",
    "    \n",
    "Input: [1,3,5,6], 7\n",
    "Output: 4\n",
    "    \n",
    "    \n",
    "Input: [1,3,5,6], 0\n",
    "Output: 0    "
   ]
  },
  {
   "cell_type": "code",
   "execution_count": 2,
   "metadata": {},
   "outputs": [],
   "source": [
    "def searchInsert(nums, target):\n",
    "    i=0\n",
    "    while(i<len(nums)):\n",
    "        if nums[i]==target:\n",
    "            return i\n",
    "        elif nums[i]<target:\n",
    "            i+=1\n",
    "            \n",
    "        else:\n",
    "            break\n",
    "    return i\n",
    "\n",
    "#O(n) time and O(1) space"
   ]
  },
  {
   "cell_type": "code",
   "execution_count": 3,
   "metadata": {},
   "outputs": [
    {
     "data": {
      "text/plain": [
       "2"
      ]
     },
     "execution_count": 3,
     "metadata": {},
     "output_type": "execute_result"
    }
   ],
   "source": [
    "nums=[1,3,5,6]\n",
    "target=5\n",
    "searchInsert(nums, target)"
   ]
  },
  {
   "cell_type": "code",
   "execution_count": 4,
   "metadata": {},
   "outputs": [],
   "source": [
    "#O(LoG N) time and O(1)space by using Binary Search\n",
    "\n",
    "def searchInsert(nums, target):\n",
    "    start_index=0\n",
    "    end_index=len(nums)-1\n",
    "    \n",
    "    while(start_index<=end_index):\n",
    "        mid=(start_index+end_index)//2\n",
    "        \n",
    "        if nums[mid]==target:\n",
    "            return mid\n",
    "        elif nums[mid]>target:\n",
    "            end_index=mid-1\n",
    "        else:\n",
    "            start_index=mid+1\n",
    "    return start_index    "
   ]
  },
  {
   "cell_type": "code",
   "execution_count": 5,
   "metadata": {},
   "outputs": [
    {
     "data": {
      "text/plain": [
       "2"
      ]
     },
     "execution_count": 5,
     "metadata": {},
     "output_type": "execute_result"
    }
   ],
   "source": [
    "nums=[1,3,5,6]\n",
    "target=5\n",
    "searchInsert(nums, target)"
   ]
  },
  {
   "cell_type": "code",
   "execution_count": null,
   "metadata": {},
   "outputs": [],
   "source": []
  },
  {
   "cell_type": "code",
   "execution_count": null,
   "metadata": {},
   "outputs": [],
   "source": []
  }
 ],
 "metadata": {
  "kernelspec": {
   "display_name": "Python 3",
   "language": "python",
   "name": "python3"
  },
  "language_info": {
   "codemirror_mode": {
    "name": "ipython",
    "version": 3
   },
   "file_extension": ".py",
   "mimetype": "text/x-python",
   "name": "python",
   "nbconvert_exporter": "python",
   "pygments_lexer": "ipython3",
   "version": "3.6.5"
  }
 },
 "nbformat": 4,
 "nbformat_minor": 2
}
