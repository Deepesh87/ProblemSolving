{
 "cells": [
  {
   "cell_type": "raw",
   "metadata": {},
   "source": [
    "At a lemonade stand, each lemonade costs $5. \n",
    "\n",
    "Customers are standing in a queue to buy from you, and order one at a time (in the order specified by bills).\n",
    "\n",
    "Each customer will only buy one lemonade and pay with either a $5, $10, or $20 bill.  You must provide the correct change to each customer, so that the net transaction is that the customer pays $5.\n",
    "\n",
    "Note that you don't have any change in hand at first.\n",
    "\n",
    "Return true if and only if you can provide every customer with correct change.\n",
    "\n",
    " \n",
    "\n",
    "Example 1:\n",
    "\n",
    "Input: [5,5,5,10,20]\n",
    "Output: true\n",
    "Explanation: \n",
    "From the first 3 customers, we collect three $5 bills in order.\n",
    "From the fourth customer, we collect a $10 bill and give back a $5.\n",
    "From the fifth customer, we give a $10 bill and a $5 bill.\n",
    "Since all customers got correct change, we output true.\n",
    "Example 2:\n",
    "\n",
    "Input: [5,5,10]\n",
    "Output: true\n",
    "Example 3:\n",
    "\n",
    "Input: [10,10]\n",
    "Output: false\n",
    "Example 4:\n",
    "\n",
    "Input: [5,5,10,10,20]\n",
    "Output: false\n",
    "Explanation: \n",
    "From the first two customers in order, we collect two $5 bills.\n",
    "For the next two customers in order, we collect a $10 bill and give back a $5 bill.\n",
    "For the last customer, we can't give change of $15 back because we only have two $10 bills.\n",
    "Since not every customer received correct change, the answer is false."
   ]
  },
  {
   "cell_type": "code",
   "execution_count": 1,
   "metadata": {},
   "outputs": [],
   "source": [
    "def lemonadeChange(bills):\n",
    "    five=0\n",
    "    ten=0\n",
    "\n",
    "    for i in bills:\n",
    "        if i==5:\n",
    "            five+=1\n",
    "        elif i==10:\n",
    "            five-=1\n",
    "            ten+=1\n",
    "        else:\n",
    "            if ten>0:\n",
    "                ten-=1\n",
    "                five-=1\n",
    "            else:\n",
    "                five-=3\n",
    "\n",
    "        if five<0 or ten<0:\n",
    "            return False\n",
    "    return True  "
   ]
  },
  {
   "cell_type": "code",
   "execution_count": null,
   "metadata": {},
   "outputs": [],
   "source": [
    "#O(N)time and O(1)space where N is the len of bills"
   ]
  }
 ],
 "metadata": {
  "kernelspec": {
   "display_name": "Python 3",
   "language": "python",
   "name": "python3"
  },
  "language_info": {
   "codemirror_mode": {
    "name": "ipython",
    "version": 3
   },
   "file_extension": ".py",
   "mimetype": "text/x-python",
   "name": "python",
   "nbconvert_exporter": "python",
   "pygments_lexer": "ipython3",
   "version": "3.6.5"
  }
 },
 "nbformat": 4,
 "nbformat_minor": 2
}
