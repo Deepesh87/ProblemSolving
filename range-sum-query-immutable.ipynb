{
 "cells": [
  {
   "cell_type": "raw",
   "metadata": {},
   "source": [
    "Range Sum Query - Immutable\n",
    "\n",
    "Given an integer array nums, find the sum of the elements between indices i and j (i ≤ j), inclusive.\n",
    "\n",
    "Example:\n",
    "\n",
    "Given nums = [-2, 0, 3, -5, 2, -1]\n",
    "\n",
    "sumRange(0, 2) -> 1\n",
    "sumRange(2, 5) -> -1\n",
    "sumRange(0, 5) -> -3\n",
    " \n",
    "\n",
    "Constraints:\n",
    "\n",
    "You may assume that the array does not change.\n",
    "There are many calls to sumRange function.\n",
    "0 <= nums.length <= 10^4\n",
    "-10^5 <= nums[i] <= 10^5\n",
    "0 <= i <= j < nums.length"
   ]
  },
  {
   "cell_type": "code",
   "execution_count": 6,
   "metadata": {},
   "outputs": [],
   "source": [
    "class NumArray:\n",
    "\n",
    "    def __init__(self, nums):\n",
    "        self.nums=nums\n",
    "        self.dp=[0]*(len(self.nums)+1)\n",
    "        \n",
    "        for i in range(1,(len(self.nums)+1)):\n",
    "            self.dp[i]=self.dp[i-1]+self.nums[i-1]        \n",
    "\n",
    "    def sumRange(self, i, j):\n",
    "        return (self.dp[j+1]-self.dp[i])\n",
    "        \n",
    "\n",
    "\n",
    "# Your NumArray object will be instantiated and called as such:\n",
    "# obj = NumArray(nums)\n",
    "# param_1 = obj.sumRange(i,j)"
   ]
  },
  {
   "cell_type": "code",
   "execution_count": 8,
   "metadata": {},
   "outputs": [
    {
     "name": "stdout",
     "output_type": "stream",
     "text": [
      "1\n",
      "-1\n",
      "-3\n"
     ]
    }
   ],
   "source": [
    "nums = [-2, 0, 3, -5, 2, -1]\n",
    "obj=NumArray(nums)\n",
    "print(obj.sumRange(0, 2))\n",
    "print(obj.sumRange(2, 5))\n",
    "print(obj.sumRange(0, 5))"
   ]
  },
  {
   "cell_type": "code",
   "execution_count": null,
   "metadata": {},
   "outputs": [],
   "source": [
    "O(1)time ( computing dp is O(N))for repeated calling of sumRange function. O(N) space"
   ]
  }
 ],
 "metadata": {
  "kernelspec": {
   "display_name": "Python 3",
   "language": "python",
   "name": "python3"
  },
  "language_info": {
   "codemirror_mode": {
    "name": "ipython",
    "version": 3
   },
   "file_extension": ".py",
   "mimetype": "text/x-python",
   "name": "python",
   "nbconvert_exporter": "python",
   "pygments_lexer": "ipython3",
   "version": "3.6.5"
  }
 },
 "nbformat": 4,
 "nbformat_minor": 2
}
