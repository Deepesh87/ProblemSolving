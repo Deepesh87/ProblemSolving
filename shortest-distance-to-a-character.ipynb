{
 "cells": [
  {
   "cell_type": "raw",
   "metadata": {},
   "source": [
    "Given a string S and a character C, return an array of integers representing the shortest distance from the character C in the string.\n",
    "\n",
    "Example 1:\n",
    "\n",
    "Input: S = \"loveleetcode\", C = 'e'\n",
    "Output: [3, 2, 1, 0, 1, 0, 0, 1, 2, 2, 1, 0]\n",
    " \n",
    "\n",
    "Note:\n",
    "\n",
    "S string length is in [1, 10000].\n",
    "C is a single character, and guaranteed to be in string S.\n",
    "All letters in S and C are lowercase."
   ]
  },
  {
   "cell_type": "code",
   "execution_count": 1,
   "metadata": {},
   "outputs": [],
   "source": [
    "# find the distnce of each from left e and distance of each from right e, the sol is min of the 2\n",
    "#O(N)time and space\n",
    "def shortestToChar(S,C):\n",
    "    prev=float('-inf')\n",
    "    res=[]\n",
    "\n",
    "    for i in range(len(S)):\n",
    "        if S[i]==C:\n",
    "            res.append(0)\n",
    "            prev=i\n",
    "        else:\n",
    "            res.append(i-prev)\n",
    "\n",
    "    prev=float('inf')\n",
    "    for i in range(len(S)-1,-1,-1):\n",
    "        if S[i]==C:\n",
    "            prev=i\n",
    "        res[i]=min(res[i],prev-i)\n",
    "\n",
    "    return res"
   ]
  },
  {
   "cell_type": "code",
   "execution_count": null,
   "metadata": {},
   "outputs": [],
   "source": []
  }
 ],
 "metadata": {
  "kernelspec": {
   "display_name": "Python 3",
   "language": "python",
   "name": "python3"
  },
  "language_info": {
   "codemirror_mode": {
    "name": "ipython",
    "version": 3
   },
   "file_extension": ".py",
   "mimetype": "text/x-python",
   "name": "python",
   "nbconvert_exporter": "python",
   "pygments_lexer": "ipython3",
   "version": "3.6.5"
  }
 },
 "nbformat": 4,
 "nbformat_minor": 2
}
