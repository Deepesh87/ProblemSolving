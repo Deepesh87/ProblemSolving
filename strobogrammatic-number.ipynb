{
 "cells": [
  {
   "cell_type": "raw",
   "metadata": {},
   "source": [
    "A strobogrammatic number is a number that looks the same when rotated 180 degrees (looked at upside down).\n",
    "\n",
    "Write a function to determine if a number is strobogrammatic. The number is represented as a string.\n",
    "\n",
    " \n",
    "\n",
    "Example 1:\n",
    "\n",
    "Input: num = \"69\"\n",
    "Output: true\n",
    "Example 2:\n",
    "\n",
    "Input: num = \"88\"\n",
    "Output: true\n",
    "Example 3:\n",
    "\n",
    "Input: num = \"962\"\n",
    "Output: false\n",
    "Example 4:\n",
    "\n",
    "Input: num = \"1\"\n",
    "Output: true"
   ]
  },
  {
   "cell_type": "code",
   "execution_count": 1,
   "metadata": {},
   "outputs": [],
   "source": [
    "def isStrobogrammatic(num):\n",
    "    all_={'6':'9','9':'6','1':'1','0':'0','8':'8'}\n",
    "\n",
    "    ans=''\n",
    "    for i in num[::-1]:\n",
    "        if i not in all_:\n",
    "            return False\n",
    "        else:\n",
    "            ans+=all_[i]\n",
    "\n",
    "    return num==ans\n",
    "\n",
    "#O(N)time and O(N) space as we are saving the rotated value"
   ]
  },
  {
   "cell_type": "code",
   "execution_count": null,
   "metadata": {},
   "outputs": [],
   "source": [
    "def isStrobogrammatic(num):\n",
    "    all_={'6':'9','9':'6','1':'1','0':'0','8':'8'}\n",
    "\n",
    "    i=0\n",
    "    j=len(num)-1\n",
    "\n",
    "    while i<=j:\n",
    "        if num[i] in all_:\n",
    "\n",
    "            if all_[num[i]]!=num[j]:\n",
    "                return False \n",
    "        else:\n",
    "            return False\n",
    "        i+=1\n",
    "        j-=1\n",
    "\n",
    "    return True \n",
    "#O(N)time and O(1) space"
   ]
  }
 ],
 "metadata": {
  "kernelspec": {
   "display_name": "Python 3",
   "language": "python",
   "name": "python3"
  },
  "language_info": {
   "codemirror_mode": {
    "name": "ipython",
    "version": 3
   },
   "file_extension": ".py",
   "mimetype": "text/x-python",
   "name": "python",
   "nbconvert_exporter": "python",
   "pygments_lexer": "ipython3",
   "version": "3.6.5"
  }
 },
 "nbformat": 4,
 "nbformat_minor": 2
}
