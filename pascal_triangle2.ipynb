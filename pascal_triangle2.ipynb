{
 "cells": [
  {
   "cell_type": "raw",
   "metadata": {},
   "source": [
    "Given an integer rowIndex, return the rowIndexth row of the Pascal's triangle.\n",
    "\n",
    "Notice that the row index starts from 0\n",
    "\n",
    "Example 1:\n",
    "\n",
    "Input: rowIndex = 3\n",
    "Output: [1,3,3,1]\n",
    "Example 2:\n",
    "\n",
    "Input: rowIndex = 0\n",
    "Output: [1]\n",
    "Example 3:\n",
    "\n",
    "Input: rowIndex = 1\n",
    "Output: [1,1]"
   ]
  },
  {
   "cell_type": "code",
   "execution_count": null,
   "metadata": {},
   "outputs": [],
   "source": [
    "def getRow(rowIndex):\n",
    "\n",
    "    triangle=[]\n",
    "\n",
    "    for i in range(rowIndex+1):\n",
    "        curr=[None for _ in range(i+1)]\n",
    "        curr[0]=1\n",
    "        curr[-1]=1\n",
    "\n",
    "        for j in range(1,len(curr)-1):\n",
    "            curr[j]=triangle[i-1][j]+triangle[i-1][j-1]\n",
    "        triangle.append(curr)\n",
    "\n",
    "    return triangle[-1]\n",
    "#O(N2)time and O(N2)space as I am saving the full triangle"
   ]
  },
  {
   "cell_type": "markdown",
   "metadata": {},
   "source": [
    "### Follow Up Question:\n",
    "##    DO this is O(N)time"
   ]
  },
  {
   "cell_type": "code",
   "execution_count": 2,
   "metadata": {},
   "outputs": [],
   "source": [
    "def getRow(rowIndex):\n",
    "    ans=[1 for _ in range(rowIndex+1)]\n",
    "    for i in range(1,rowIndex):\n",
    "        for j in range(i,0,-1):\n",
    "            ans[j]+=ans[j-1]\n",
    "            \n",
    "    return ans  "
   ]
  },
  {
   "cell_type": "code",
   "execution_count": null,
   "metadata": {},
   "outputs": [],
   "source": [
    "#O(N2)time and O(k)space"
   ]
  }
 ],
 "metadata": {
  "kernelspec": {
   "display_name": "Python 3",
   "language": "python",
   "name": "python3"
  },
  "language_info": {
   "codemirror_mode": {
    "name": "ipython",
    "version": 3
   },
   "file_extension": ".py",
   "mimetype": "text/x-python",
   "name": "python",
   "nbconvert_exporter": "python",
   "pygments_lexer": "ipython3",
   "version": "3.6.5"
  }
 },
 "nbformat": 4,
 "nbformat_minor": 2
}
