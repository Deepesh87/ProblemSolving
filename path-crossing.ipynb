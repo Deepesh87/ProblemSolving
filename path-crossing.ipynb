{
 "cells": [
  {
   "cell_type": "raw",
   "metadata": {},
   "source": [
    "Given a string path, where path[i] = 'N', 'S', 'E' or 'W', each representing moving one unit north, south, east, or west, respectively. You start at the origin (0, 0) on a 2D plane and walk on the path specified by path.\n",
    "\n",
    "Return True if the path crosses itself at any point, that is, if at any time you are on a location you've previously visited. Return False otherwise.\n",
    "\n",
    " \n",
    "\n",
    "Example 1:\n",
    "\n",
    "\n",
    "\n",
    "Input: path = \"NES\"\n",
    "Output: false \n",
    "Explanation: Notice that the path doesn't cross any point more than once.\n",
    "Example 2:\n",
    "\n",
    "\n",
    "\n",
    "Input: path = \"NESWW\"\n",
    "Output: true\n",
    "Explanation: Notice that the path visits the origin twice.\n",
    " \n",
    "\n",
    "Constraints:\n",
    "\n",
    "1 <= path.length <= 10^4\n",
    "path will only consist of characters in {'N', 'S', 'E', 'W}"
   ]
  },
  {
   "cell_type": "code",
   "execution_count": null,
   "metadata": {},
   "outputs": [],
   "source": [
    "def isPathCrossing(path):\n",
    "\n",
    "    done={(0,0)}\n",
    "    last=(0,0)\n",
    "\n",
    "    for i in path:\n",
    "        if i=='N':\n",
    "            curr=(last[0],last[1]+1)\n",
    "        elif i=='S':\n",
    "            curr=(last[0],last[1]-1)\n",
    "        elif i=='E':\n",
    "            curr=(last[0]+1,last[1])\n",
    "        else:\n",
    "            curr=(last[0]-1,last[1])\n",
    "        last=curr\n",
    "        if curr in done:\n",
    "            return True\n",
    "        else:\n",
    "            done.add(curr)\n",
    "\n",
    "    return False"
   ]
  }
 ],
 "metadata": {
  "kernelspec": {
   "display_name": "Python 3",
   "language": "python",
   "name": "python3"
  },
  "language_info": {
   "codemirror_mode": {
    "name": "ipython",
    "version": 3
   },
   "file_extension": ".py",
   "mimetype": "text/x-python",
   "name": "python",
   "nbconvert_exporter": "python",
   "pygments_lexer": "ipython3",
   "version": "3.6.5"
  }
 },
 "nbformat": 4,
 "nbformat_minor": 2
}
