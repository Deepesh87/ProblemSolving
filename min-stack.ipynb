{
 "cells": [
  {
   "cell_type": "raw",
   "metadata": {},
   "source": [
    "Design a stack that supports push, pop, top, and retrieving the minimum element in constant time.\n",
    "\n",
    "push(x) -- Push element x onto stack.\n",
    "pop() -- Removes the element on top of the stack.\n",
    "top() -- Get the top element.\n",
    "getMin() -- Retrieve the minimum element in the stack."
   ]
  },
  {
   "cell_type": "raw",
   "metadata": {},
   "source": [
    "Example 1:\n",
    "\n",
    "Input\n",
    "[\"MinStack\",\"push\",\"push\",\"push\",\"getMin\",\"pop\",\"top\",\"getMin\"]\n",
    "[[],[-2],[0],[-3],[],[],[],[]]\n",
    "\n",
    "Output\n",
    "[null,null,null,null,-3,null,0,-2]\n",
    "\n",
    "Explanation\n",
    "MinStack minStack = new MinStack();\n",
    "minStack.push(-2);\n",
    "minStack.push(0);\n",
    "minStack.push(-3);\n",
    "minStack.getMin(); // return -3\n",
    "minStack.pop();\n",
    "minStack.top();    // return 0\n",
    "minStack.getMin(); // return -2"
   ]
  },
  {
   "cell_type": "code",
   "execution_count": 10,
   "metadata": {},
   "outputs": [],
   "source": [
    "class MinStack:\n",
    "\n",
    "    def __init__(self):\n",
    "        \"\"\"\n",
    "        initialize your data structure here.\n",
    "        \"\"\"\n",
    "        self.res=[]\n",
    "        \n",
    "        \n",
    "\n",
    "    def push(self, x: int) -> None:\n",
    "        if not self.res:\n",
    "            self.res.append((x,x))  #unitilising a Tuple to add elements at postion 0 and keep min untill now at position 1\n",
    "        else:\n",
    "            self.res.append((x,min(x,self.res[-1][1])))\n",
    "        \n",
    "\n",
    "    def pop(self) -> None:\n",
    "        return self.res.pop()\n",
    "        \n",
    "\n",
    "    def top(self) -> int:\n",
    "        return self.res[-1][0]\n",
    "        \n",
    "\n",
    "    def getMin(self) -> int:\n",
    "        return self.res[-1][1]"
   ]
  },
  {
   "cell_type": "code",
   "execution_count": null,
   "metadata": {},
   "outputs": [],
   "source": [
    "#O(1) and O(N)space\n",
    "#The above code gets the minimum of the stack in constant time and N space as we are saving the full list"
   ]
  },
  {
   "cell_type": "code",
   "execution_count": 11,
   "metadata": {},
   "outputs": [],
   "source": [
    "#IN O(N) time  [ time for min of the stack)] this could easily be done wusing the min function\n",
    "class MinStack:\n",
    "\n",
    "    def __init__(self):\n",
    "        \"\"\"\n",
    "        initialize your data structure here.\n",
    "        \"\"\"\n",
    "        self.res=[]\n",
    "        \n",
    "        \n",
    "\n",
    "    def push(self, x: int) -> None:\n",
    "        return self.res.append(x)\n",
    "        \n",
    "\n",
    "    def pop(self) -> None:\n",
    "        return self.res.pop()\n",
    "        \n",
    "\n",
    "    def top(self) -> int:\n",
    "        return self.res[-1]\n",
    "        \n",
    "\n",
    "    def getMin(self) -> int:\n",
    "        return min(self.res)"
   ]
  },
  {
   "cell_type": "code",
   "execution_count": null,
   "metadata": {},
   "outputs": [],
   "source": []
  }
 ],
 "metadata": {
  "kernelspec": {
   "display_name": "Python 3",
   "language": "python",
   "name": "python3"
  },
  "language_info": {
   "codemirror_mode": {
    "name": "ipython",
    "version": 3
   },
   "file_extension": ".py",
   "mimetype": "text/x-python",
   "name": "python",
   "nbconvert_exporter": "python",
   "pygments_lexer": "ipython3",
   "version": "3.6.5"
  }
 },
 "nbformat": 4,
 "nbformat_minor": 2
}
