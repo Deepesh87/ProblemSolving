{
 "cells": [
  {
   "cell_type": "raw",
   "metadata": {},
   "source": [
    "The Leetcode file system keeps a log each time some user performs a change folder operation.\n",
    "\n",
    "The operations are described below:\n",
    "\n",
    "\"../\" : Move to the parent folder of the current folder. (If you are already in the main folder, remain in the same folder).\n",
    "\"./\" : Remain in the same folder.\n",
    "\"x/\" : Move to the child folder named x (This folder is guaranteed to always exist).\n",
    "You are given a list of strings logs where logs[i] is the operation performed by the user at the ith step.\n",
    "\n",
    "The file system starts in the main folder, then the operations in logs are performed.\n",
    "\n",
    "Return the minimum number of operations needed to go back to the main folder after the change folder operations.\n",
    "\n",
    " \n",
    "\n",
    "Example 1:\n",
    "    \n",
    "Input: logs = [\"d1/\",\"d2/\",\"../\",\"d21/\",\"./\"]\n",
    "Output: 2\n",
    "Explanation: Use this change folder operation \"../\" 2 times and go back to the main folder.\n",
    "    \n",
    "Example 2\n",
    "Input: logs = [\"d1/\",\"d2/\",\"./\",\"d3/\",\"../\",\"d31/\"]\n",
    "Output: 3\n",
    "    "
   ]
  },
  {
   "cell_type": "code",
   "execution_count": 1,
   "metadata": {},
   "outputs": [],
   "source": [
    "def minOperations(logs):\n",
    "\n",
    "    res=[]\n",
    "\n",
    "    for i in logs:\n",
    "        if i=='./':\n",
    "            pass\n",
    "        elif i=='../':\n",
    "            if res:\n",
    "                res.pop()\n",
    "        else:\n",
    "            res.append(i)\n",
    "\n",
    "    return len(res)\n",
    "\n",
    "#O(N)time and O(N)space"
   ]
  },
  {
   "cell_type": "code",
   "execution_count": null,
   "metadata": {},
   "outputs": [],
   "source": [
    "def minOperations(logs):\n",
    "    count=0\n",
    "\n",
    "    for i in logs:\n",
    "        if i=='./':\n",
    "            pass\n",
    "        elif i=='../':\n",
    "            if count:\n",
    "                count-=1\n",
    "        else:\n",
    "            count+=1\n",
    "\n",
    "    return count\n",
    "\n",
    "#O(N)time and O(1)space"
   ]
  }
 ],
 "metadata": {
  "kernelspec": {
   "display_name": "Python 3",
   "language": "python",
   "name": "python3"
  },
  "language_info": {
   "codemirror_mode": {
    "name": "ipython",
    "version": 3
   },
   "file_extension": ".py",
   "mimetype": "text/x-python",
   "name": "python",
   "nbconvert_exporter": "python",
   "pygments_lexer": "ipython3",
   "version": "3.6.5"
  }
 },
 "nbformat": 4,
 "nbformat_minor": 2
}
