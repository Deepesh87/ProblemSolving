{
 "cells": [
  {
   "cell_type": "raw",
   "metadata": {},
   "source": [
    "A perfect number is a positive integer that is equal to the sum of its positive divisors, excluding the number itself. A divisor of an integer x is an integer that can divide x evenly.\n",
    "\n",
    "Given an integer n, return true if n is a perfect number, otherwise return false.\n",
    "\n",
    " \n",
    "\n",
    "Example 1:\n",
    "\n",
    "Input: num = 28\n",
    "Output: true\n",
    "Explanation: 28 = 1 + 2 + 4 + 7 + 14\n",
    "1, 2, 4, 7, and 14 are all divisors of 28.\n",
    "Example 2:\n",
    "\n",
    "Input: num = 6\n",
    "Output: true\n",
    "Example 3:\n",
    "\n",
    "Input: num = 496\n",
    "Output: true\n",
    "Example 4:\n",
    "\n",
    "Input: num = 8128\n",
    "Output: true\n",
    "Example 5:\n",
    "\n",
    "Input: num = 2\n",
    "Output: false"
   ]
  },
  {
   "cell_type": "code",
   "execution_count": 1,
   "metadata": {},
   "outputs": [],
   "source": [
    "def checkPerfectNumber(num):\n",
    "\n",
    "    total=1\n",
    "\n",
    "    for i in range(2,int(num**0.5)+1):\n",
    "        if num%i==0:\n",
    "            total+=i\n",
    "            total+=num//i\n",
    "\n",
    "    if num%(num**0.5)==0:\n",
    "        total-=num**0.5\n",
    "\n",
    "    return total==num"
   ]
  },
  {
   "cell_type": "code",
   "execution_count": null,
   "metadata": {},
   "outputs": [],
   "source": [
    "#O(sqrt(n))time and O(1)space"
   ]
  }
 ],
 "metadata": {
  "kernelspec": {
   "display_name": "Python 3",
   "language": "python",
   "name": "python3"
  },
  "language_info": {
   "codemirror_mode": {
    "name": "ipython",
    "version": 3
   },
   "file_extension": ".py",
   "mimetype": "text/x-python",
   "name": "python",
   "nbconvert_exporter": "python",
   "pygments_lexer": "ipython3",
   "version": "3.6.5"
  }
 },
 "nbformat": 4,
 "nbformat_minor": 2
}
