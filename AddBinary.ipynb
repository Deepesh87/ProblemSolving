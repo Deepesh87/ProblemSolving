{
 "cells": [
  {
   "cell_type": "raw",
   "metadata": {},
   "source": [
    "Given two binary strings, return their sum (also a binary string).\n",
    "\n",
    "The input strings are both non-empty and contains only characters 1 or 0.\n",
    "\n",
    "Example 1:\n",
    "\n",
    "Input: a = \"11\", b = \"1\"\n",
    "Output: \"100\"\n",
    "Example 2:\n",
    "\n",
    "Input: a = \"1010\", b = \"1011\"\n",
    "Output: \"10101\"\n",
    " \n",
    "\n",
    "Constraints:\n",
    "\n",
    "Each string consists only of '0' or '1' characters.\n",
    "1 <= a.length, b.length <= 10^4\n",
    "Each string is either \"0\" or doesn't contain any leading zero."
   ]
  },
  {
   "cell_type": "code",
   "execution_count": 28,
   "metadata": {},
   "outputs": [],
   "source": [
    "def addBinary(a,b):\n",
    "    x=len(a)-1\n",
    "    y=len(b)-1\n",
    "    res=[]\n",
    "    carry=0\n",
    "\n",
    "    while x>=0 or y>=0:\n",
    "        if x>=0:\n",
    "            value1=ord(a[x])-ord('0')\n",
    "        else:\n",
    "            value1=0\n",
    "        if y>=0:\n",
    "            value2=ord(b[y])-ord('0')\n",
    "        else:\n",
    "            value2=0\n",
    "\n",
    "        if value1+value2+carry>2:\n",
    "            res.append(1)\n",
    "            carry=1\n",
    "        elif value1+value2+carry==2:\n",
    "            res.append(0)\n",
    "            carry=1\n",
    "        elif value1+value2+carry==1:\n",
    "            res.append(1)\n",
    "            carry=0\n",
    "        else:\n",
    "            res.append(0)\n",
    "            carry=0\n",
    "\n",
    "        x-=1\n",
    "        y-=1\n",
    "\n",
    "    if carry:\n",
    "        res.append(carry)\n",
    "\n",
    "    res=[str(i) for i in res]\n",
    "\n",
    "    return ''.join(res[::-1])"
   ]
  },
  {
   "cell_type": "code",
   "execution_count": 29,
   "metadata": {},
   "outputs": [
    {
     "data": {
      "text/plain": [
       "'100'"
      ]
     },
     "execution_count": 29,
     "metadata": {},
     "output_type": "execute_result"
    }
   ],
   "source": [
    "a='11'\n",
    "b='1'\n",
    "addBinary(a,b)   "
   ]
  },
  {
   "cell_type": "code",
   "execution_count": 30,
   "metadata": {},
   "outputs": [],
   "source": [
    "#Time Complexity O(max(a,b)) and space is also O(max(a,b))"
   ]
  }
 ],
 "metadata": {
  "kernelspec": {
   "display_name": "Python 3",
   "language": "python",
   "name": "python3"
  },
  "language_info": {
   "codemirror_mode": {
    "name": "ipython",
    "version": 3
   },
   "file_extension": ".py",
   "mimetype": "text/x-python",
   "name": "python",
   "nbconvert_exporter": "python",
   "pygments_lexer": "ipython3",
   "version": "3.6.5"
  }
 },
 "nbformat": 4,
 "nbformat_minor": 2
}
