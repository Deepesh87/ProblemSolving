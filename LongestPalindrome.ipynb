{
 "cells": [
  {
   "cell_type": "markdown",
   "metadata": {},
   "source": [
    "Given a string s which consists of lowercase or uppercase letters, return the length of the longest palindrome that can be built with those letters.\n",
    "\n",
    "Letters are case sensitive, for example, \"Aa\" is not considered a palindrome here.\n",
    "\n",
    " \n",
    "\n",
    "Example 1:\n",
    "\n",
    "Input: s = \"abccccdd\"\n",
    "Output: 7\n",
    "Explanation:\n",
    "One longest palindrome that can be built is \"dccaccd\", whose length is 7.\n",
    "Example 2:\n",
    "\n",
    "Input: s = \"a\"\n",
    "Output: 1\n",
    "Example 3:\n",
    "\n",
    "Input: s = \"bb\"\n",
    "Output: 2"
   ]
  },
  {
   "cell_type": "code",
   "execution_count": 2,
   "metadata": {},
   "outputs": [],
   "source": [
    "def longestPalindrome(s):\n",
    "    hash={}\n",
    "    counter=0\n",
    "    flag=0        \n",
    "    for i in s:\n",
    "        if i not in hash:\n",
    "            hash[i]=1\n",
    "        else:\n",
    "            hash[i]+=1        \n",
    "\n",
    "    for i in hash:\n",
    "        if hash[i]%2==0:\n",
    "            counter+=hash[i]\n",
    "\n",
    "        elif hash[i]>1:\n",
    "            if flag==0:\n",
    "                counter+=hash[i]\n",
    "                flag=1\n",
    "            else:\n",
    "                counter+=hash[i]-1\n",
    "        elif hash[i]==1 and flag==0:\n",
    "            counter+=1\n",
    "            flag=1\n",
    "\n",
    "    return counter"
   ]
  },
  {
   "cell_type": "code",
   "execution_count": 3,
   "metadata": {},
   "outputs": [
    {
     "data": {
      "text/plain": [
       "7"
      ]
     },
     "execution_count": 3,
     "metadata": {},
     "output_type": "execute_result"
    }
   ],
   "source": [
    "s = \"abccccdd\"\n",
    "longestPalindrome(s)"
   ]
  },
  {
   "cell_type": "code",
   "execution_count": null,
   "metadata": {},
   "outputs": [],
   "source": [
    "#O(N)time and O(1)space where N is the number of elements in s\n",
    "#1 as the alphabet size of s is fixed"
   ]
  }
 ],
 "metadata": {
  "kernelspec": {
   "display_name": "Python 3",
   "language": "python",
   "name": "python3"
  },
  "language_info": {
   "codemirror_mode": {
    "name": "ipython",
    "version": 3
   },
   "file_extension": ".py",
   "mimetype": "text/x-python",
   "name": "python",
   "nbconvert_exporter": "python",
   "pygments_lexer": "ipython3",
   "version": "3.6.5"
  }
 },
 "nbformat": 4,
 "nbformat_minor": 2
}
