{
 "cells": [
  {
   "cell_type": "raw",
   "metadata": {},
   "source": [
    "X is a good number if after rotating each digit individually by 180 degrees, we get a valid number that is different from X.  Each digit must be rotated - we cannot choose to leave it alone.\n",
    "\n",
    "A number is valid if each digit remains a digit after rotation. 0, 1, and 8 rotate to themselves; 2 and 5 rotate to each other (on this case they are rotated in a different direction, in other words 2 or 5 gets mirrored); 6 and 9 rotate to each other, and the rest of the numbers do not rotate to any other number and become invalid.\n",
    "\n",
    "Now given a positive number N, how many numbers X from 1 to N are good?\n",
    "\n",
    "Example:\n",
    "Input: 10\n",
    "Output: 4\n",
    "Explanation: \n",
    "There are four good numbers in the range [1, 10] : 2, 5, 6, 9.\n",
    "Note that 1 and 10 are not good numbers, since they remain unchanged after rotating.\n",
    "Note:\n",
    "\n",
    "N  will be in range [1, 10000]."
   ]
  },
  {
   "cell_type": "code",
   "execution_count": 20,
   "metadata": {},
   "outputs": [],
   "source": [
    "def rotatedDigits(self, N: int) -> int:\n",
    "    tot=0\n",
    "    def is_good(x):\n",
    "        actual=x\n",
    "        hash={1:1,2:5,5:2,0:0,6:9,8:8,9:6}\n",
    "        res=''\n",
    "        while x>0:\n",
    "            rem=x%10\n",
    "            if rem not in hash:\n",
    "                return False\n",
    "            else:\n",
    "                rem=hash[rem]\n",
    "                x=x//10\n",
    "                res=res+str(rem)\n",
    "        return actual!=int(res[::-1])\n",
    "\n",
    "    for i in range(2,N+1):\n",
    "        if is_good(i):\n",
    "            tot+=1\n",
    "\n",
    "    return tot"
   ]
  },
  {
   "cell_type": "code",
   "execution_count": 40,
   "metadata": {},
   "outputs": [],
   "source": [
    "#eACH DIGIT IS ROTATED INDIVIDUALLY\n",
    "#O(N*LOGN) ( N for 2 to N and LogN (x//10) for is_good function) and O(1)space"
   ]
  },
  {
   "cell_type": "code",
   "execution_count": null,
   "metadata": {},
   "outputs": [],
   "source": []
  }
 ],
 "metadata": {
  "kernelspec": {
   "display_name": "Python 3",
   "language": "python",
   "name": "python3"
  },
  "language_info": {
   "codemirror_mode": {
    "name": "ipython",
    "version": 3
   },
   "file_extension": ".py",
   "mimetype": "text/x-python",
   "name": "python",
   "nbconvert_exporter": "python",
   "pygments_lexer": "ipython3",
   "version": "3.6.5"
  }
 },
 "nbformat": 4,
 "nbformat_minor": 2
}
