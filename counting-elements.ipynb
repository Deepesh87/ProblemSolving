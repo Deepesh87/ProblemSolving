{
 "cells": [
  {
   "cell_type": "raw",
   "metadata": {},
   "source": [
    "Given an integer array arr, count how many elements x there are, such that x + 1 is also in arr.\n",
    "\n",
    "If there're duplicates in arr, count them seperately.\n",
    "\n",
    " \n",
    "\n",
    "Example 1:\n",
    "\n",
    "Input: arr = [1,2,3]\n",
    "Output: 2\n",
    "Explanation: 1 and 2 are counted cause 2 and 3 are in arr.\n",
    "Example 2:\n",
    "\n",
    "Input: arr = [1,1,3,3,5,5,7,7]\n",
    "Output: 0\n",
    "Explanation: No numbers are counted, cause there's no 2, 4, 6, or 8 in arr.\n",
    "Example 3:\n",
    "\n",
    "Input: arr = [1,3,2,3,5,0]\n",
    "Output: 3\n",
    "Explanation: 0, 1 and 2 are counted cause 1, 2 and 3 are in arr.\n",
    "Example 4:\n",
    "\n",
    "Input: arr = [1,1,2,2]\n",
    "Output: 2\n",
    "Explanation: Two 1s are counted cause 2 is in arr.\n",
    "Example 5:\n",
    "\n",
    "Input: arr = [1,1,2]\n",
    "Output: 2\n",
    "Explanation: Both 1s are counted because 2 is in the array."
   ]
  },
  {
   "cell_type": "code",
   "execution_count": 5,
   "metadata": {},
   "outputs": [],
   "source": [
    "#HASH TABLE/SETS\n",
    "def countElements(arr):\n",
    "    counter=0\n",
    "    hash=set(arr)\n",
    "    #arr=sorted(arr)\n",
    "\n",
    "    for i in arr:\n",
    "        if i+1 in hash:\n",
    "            counter+=1\n",
    "\n",
    "    return counter    "
   ]
  },
  {
   "cell_type": "code",
   "execution_count": 6,
   "metadata": {},
   "outputs": [
    {
     "data": {
      "text/plain": [
       "3"
      ]
     },
     "execution_count": 6,
     "metadata": {},
     "output_type": "execute_result"
    }
   ],
   "source": [
    "arr = [1,3,2,3,5,0]\n",
    "countElements(arr)\n",
    "#O(N)time and O(U)space where U is number of unique elements"
   ]
  },
  {
   "cell_type": "code",
   "execution_count": 7,
   "metadata": {},
   "outputs": [],
   "source": [
    "#BRUTE FORCE\n",
    "def countElements(arr):\n",
    "    counter=0\n",
    "    for i in arr:\n",
    "        if i+1 in arr:\n",
    "            counter+=1\n",
    "\n",
    "    return counter\n",
    "\n",
    "arr = [1,3,2,3,5,0]\n",
    "countElements(arr)\n",
    "#O(N2)time and O(1)space where U is number of unique elements"
   ]
  },
  {
   "cell_type": "code",
   "execution_count": null,
   "metadata": {},
   "outputs": [],
   "source": []
  },
  {
   "cell_type": "code",
   "execution_count": 8,
   "metadata": {},
   "outputs": [
    {
     "data": {
      "text/plain": [
       "3"
      ]
     },
     "execution_count": 8,
     "metadata": {},
     "output_type": "execute_result"
    }
   ],
   "source": [
    "#Can be done using sorting as well\n",
    "#O(NlogN)time but found it difficult to understand"
   ]
  }
 ],
 "metadata": {
  "kernelspec": {
   "display_name": "Python 3",
   "language": "python",
   "name": "python3"
  },
  "language_info": {
   "codemirror_mode": {
    "name": "ipython",
    "version": 3
   },
   "file_extension": ".py",
   "mimetype": "text/x-python",
   "name": "python",
   "nbconvert_exporter": "python",
   "pygments_lexer": "ipython3",
   "version": "3.6.5"
  }
 },
 "nbformat": 4,
 "nbformat_minor": 2
}
