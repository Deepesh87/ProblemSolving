{
 "cells": [
  {
   "cell_type": "raw",
   "metadata": {},
   "source": [
    "Given a pattern and a string str, find if str follows the same pattern.\n",
    "\n",
    "Here follow means a full match, such that there is a bijection between a letter in pattern and a non-empty word in str.\n",
    "\n",
    "Example 1:\n",
    "\n",
    "Input: pattern = \"abba\", str = \"dog cat cat dog\"\n",
    "Output: true\n",
    "Example 2:\n",
    "\n",
    "Input:pattern = \"abba\", str = \"dog cat cat fish\"\n",
    "Output: false\n",
    "Example 3:\n",
    "\n",
    "Input: pattern = \"aaaa\", str = \"dog cat cat dog\"\n",
    "Output: false\n",
    "Example 4:\n",
    "\n",
    "Input: pattern = \"abba\", str = \"dog dog dog dog\"\n",
    "Output: false"
   ]
  },
  {
   "cell_type": "code",
   "execution_count": 1,
   "metadata": {},
   "outputs": [],
   "source": [
    "def wordPattern(pattern,str):\n",
    "    hash={}\n",
    "    str=str.split(' ')\n",
    "    if len(pattern)!=len(str):\n",
    "        return False\n",
    "    \n",
    "    for i in range(len(pattern)):\n",
    "        if pattern[i] not in hash:\n",
    "            hash[pattern[i]]=str[i]\n",
    "        else:\n",
    "            if hash[pattern[i]]!=str[i]:\n",
    "                return False\n",
    "    if len(set(pattern))!=len(set(str)):  #we can avoid this by using the second function as shown below\n",
    "        return False\n",
    "    \n",
    "    return True    "
   ]
  },
  {
   "cell_type": "code",
   "execution_count": 2,
   "metadata": {},
   "outputs": [
    {
     "data": {
      "text/plain": [
       "True"
      ]
     },
     "execution_count": 2,
     "metadata": {},
     "output_type": "execute_result"
    }
   ],
   "source": [
    "pattern = \"abba\"\n",
    "str = \"dog cat cat dog\"\n",
    "wordPattern(pattern,str)"
   ]
  },
  {
   "cell_type": "code",
   "execution_count": null,
   "metadata": {},
   "outputs": [],
   "source": [
    "#O(N) where N is the number of words in str/characters in pattern\n",
    "#O()"
   ]
  },
  {
   "cell_type": "code",
   "execution_count": 3,
   "metadata": {},
   "outputs": [],
   "source": [
    "def wordPattern(pattern,str):\n",
    "    hash={}\n",
    "    str=str.split(' ')\n",
    "\n",
    "    if len(pattern)!=len(str):\n",
    "        return False\n",
    "\n",
    "    for i in range(len(pattern)):\n",
    "        if pattern[i] not in hash:\n",
    "            hash[pattern[i]]=str[i]\n",
    "        else:\n",
    "            if hash[pattern[i]]!=str[i]:\n",
    "                return False\n",
    "    hash2={}\n",
    "\n",
    "    for j in range(len(str)):\n",
    "        if str[j] not in hash2:\n",
    "            hash2[str[j]]=pattern[j]\n",
    "        else:\n",
    "            if hash2[str[j]]!=pattern[j]:\n",
    "                return False\n",
    "\n",
    "    return True"
   ]
  },
  {
   "cell_type": "code",
   "execution_count": 4,
   "metadata": {},
   "outputs": [
    {
     "data": {
      "text/plain": [
       "True"
      ]
     },
     "execution_count": 4,
     "metadata": {},
     "output_type": "execute_result"
    }
   ],
   "source": [
    "pattern = \"abba\"\n",
    "str = \"dog cat cat dog\"\n",
    "wordPattern(pattern,str)"
   ]
  },
  {
   "cell_type": "code",
   "execution_count": null,
   "metadata": {},
   "outputs": [],
   "source": [
    "#same as the previous function"
   ]
  }
 ],
 "metadata": {
  "kernelspec": {
   "display_name": "Python 3",
   "language": "python",
   "name": "python3"
  },
  "language_info": {
   "codemirror_mode": {
    "name": "ipython",
    "version": 3
   },
   "file_extension": ".py",
   "mimetype": "text/x-python",
   "name": "python",
   "nbconvert_exporter": "python",
   "pygments_lexer": "ipython3",
   "version": "3.6.5"
  }
 },
 "nbformat": 4,
 "nbformat_minor": 2
}
