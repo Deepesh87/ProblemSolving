{
 "cells": [
  {
   "cell_type": "raw",
   "metadata": {},
   "source": [
    "Given two string arrays word1 and word2, return true if the two arrays represent the same string, and false otherwise.\n",
    "\n",
    "A string is represented by an array if the array elements concatenated in order forms the string.\n",
    "\n",
    " \n",
    "\n",
    "Example 1:\n",
    "\n",
    "Input: word1 = [\"ab\", \"c\"], word2 = [\"a\", \"bc\"]\n",
    "Output: true\n",
    "Explanation:\n",
    "word1 represents string \"ab\" + \"c\" -> \"abc\"\n",
    "word2 represents string \"a\" + \"bc\" -> \"abc\"\n",
    "The strings are the same, so return true.\n",
    "Example 2:\n",
    "\n",
    "Input: word1 = [\"a\", \"cb\"], word2 = [\"ab\", \"c\"]\n",
    "Output: false\n",
    "Example 3:\n",
    "\n",
    "Input: word1  = [\"abc\", \"d\", \"defg\"], word2 = [\"abcddefg\"]\n",
    "Output: true"
   ]
  },
  {
   "cell_type": "code",
   "execution_count": 3,
   "metadata": {},
   "outputs": [],
   "source": [
    "def arrayStringsAreEqual(word1, word2):\n",
    "        return ''.join(word1)==''.join(word2)\n",
    "# O(N)and O(1) space"
   ]
  },
  {
   "cell_type": "code",
   "execution_count": 4,
   "metadata": {},
   "outputs": [],
   "source": [
    "def arrayStringsAreEqual(word1, word2):\n",
    "    s1=''\n",
    "    s2=''\n",
    "\n",
    "    for i in word1:\n",
    "        s1+=i\n",
    "\n",
    "    for i in word2:\n",
    "        s2+=i\n",
    "\n",
    "    return s1==s2"
   ]
  },
  {
   "cell_type": "code",
   "execution_count": null,
   "metadata": {},
   "outputs": [],
   "source": [
    "#O(N)time and O(N)space, N= total letters in word1+word2"
   ]
  }
 ],
 "metadata": {
  "kernelspec": {
   "display_name": "Python 3",
   "language": "python",
   "name": "python3"
  },
  "language_info": {
   "codemirror_mode": {
    "name": "ipython",
    "version": 3
   },
   "file_extension": ".py",
   "mimetype": "text/x-python",
   "name": "python",
   "nbconvert_exporter": "python",
   "pygments_lexer": "ipython3",
   "version": "3.6.5"
  }
 },
 "nbformat": 4,
 "nbformat_minor": 2
}
