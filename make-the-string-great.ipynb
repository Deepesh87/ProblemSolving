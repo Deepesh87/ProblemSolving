{
 "cells": [
  {
   "cell_type": "raw",
   "metadata": {},
   "source": [
    "Given a string s of lower and upper case English letters.\n",
    "\n",
    "A good string is a string which doesn't have two adjacent characters s[i] and s[i + 1] where:\n",
    "\n",
    "0 <= i <= s.length - 2\n",
    "s[i] is a lower-case letter and s[i + 1] is the same letter but in upper-case or vice-versa.\n",
    "To make the string good, you can choose two adjacent characters that make the string bad and remove them. You can keep doing this until the string becomes good.\n",
    "\n",
    "Return the string after making it good. The answer is guaranteed to be unique under the given constraints.\n",
    "\n",
    "Notice that an empty string is also good.\n",
    "\n",
    " \n",
    "\n",
    "Example 1:\n",
    "\n",
    "Input: s = \"leEeetcode\"\n",
    "Output: \"leetcode\"\n",
    "Explanation: In the first step, either you choose i = 1 or i = 2, both will result \"leEeetcode\" to be reduced to \"leetcode\".\n",
    "Example 2:\n",
    "\n",
    "Input: s = \"abBAcC\"\n",
    "Output: \"\"\n",
    "Explanation: We have many possible scenarios, and all lead to the same answer. For example:\n",
    "\"abBAcC\" --> \"aAcC\" --> \"cC\" --> \"\"\n",
    "\"abBAcC\" --> \"abBA\" --> \"aA\" --> \"\"\n",
    "Example 3:\n",
    "\n",
    "Input: s = \"s\"\n",
    "Output: \"s\"\n",
    " \n",
    "\n",
    "Constraints:\n",
    "\n",
    "1 <= s.length <= 100\n",
    "s contains only lower and upper case English letters."
   ]
  },
  {
   "cell_type": "code",
   "execution_count": null,
   "metadata": {},
   "outputs": [],
   "source": [
    "def makeGood(s):\n",
    "    stack=[]\n",
    "\n",
    "    for i in s:\n",
    "        if stack and abs(ord(i)-ord(stack[-1]))==32:\n",
    "            stack.pop()\n",
    "        else:\n",
    "            stack.append(i)\n",
    "\n",
    "    return ''.join(stack) \n",
    "\n",
    "#O(N)time and space"
   ]
  }
 ],
 "metadata": {
  "kernelspec": {
   "display_name": "Python 3",
   "language": "python",
   "name": "python3"
  },
  "language_info": {
   "codemirror_mode": {
    "name": "ipython",
    "version": 3
   },
   "file_extension": ".py",
   "mimetype": "text/x-python",
   "name": "python",
   "nbconvert_exporter": "python",
   "pygments_lexer": "ipython3",
   "version": "3.6.5"
  }
 },
 "nbformat": 4,
 "nbformat_minor": 2
}
