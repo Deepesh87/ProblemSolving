{
 "cells": [
  {
   "cell_type": "raw",
   "metadata": {},
   "source": [
    "We can represent a sentence as an array of words, for example, the sentence \"I am happy with leetcode\" can be represented as arr = [\"I\",\"am\",happy\",\"with\",\"leetcode\"].\n",
    "\n",
    "Given two sentences sentence1 and sentence2 each represented as a string array and given an array of string pairs similarPairs where similarPairs[i] = [xi, yi] indicates that the two words xi and yi are similar.\n",
    "\n",
    "Return true if sentence1 and sentence2 are similar, or false if they are not similar.\n",
    "\n",
    "Two sentences are similar if:\n",
    "\n",
    "They have the same length (i.e. the same number of words)\n",
    "sentence1[i] and sentence2[i] are similar.\n",
    "Notice that a word is always similar to itself, also notice that the similarity relation is not transitive. For example, if the words a and b are similar and the words b and c are similar, a and c are not necessarily similar.\n",
    "\n",
    " \n",
    "\n",
    "Example 1:\n",
    "\n",
    "Input: sentence1 = [\"great\",\"acting\",\"skills\"], sentence2 = [\"fine\",\"drama\",\"talent\"], similarPairs = [[\"great\",\"fine\"],[\"drama\",\"acting\"],[\"skills\",\"talent\"]]\n",
    "Output: true\n",
    "Explanation: The two sentences have the same length and each word i of sentence1 is also similar to the corresponding word in sentence2.\n",
    "Example 2:\n",
    "\n",
    "Input: sentence1 = [\"great\"], sentence2 = [\"great\"], similarPairs = []\n",
    "Output: true\n",
    "Explanation: A word is similar to itself.\n",
    "Example 3:\n",
    "\n",
    "Input: sentence1 = [\"great\"], sentence2 = [\"doubleplus\",\"good\"], similarPairs = [[\"great\",\"doubleplus\"]]\n",
    "Output: false\n",
    "Explanation: As they don't have the same length, we return false.\n",
    " \n",
    "\n",
    "Constraints:\n",
    "\n",
    "1 <= sentence1.length, sentence2.length <= 1000\n",
    "1 <= sentence1[i].length, sentence2[i].length <= 20\n",
    "sentence1[i] and sentence2[i] consist of lower-case and upper-case English letters.\n",
    "0 <= similarPairs.length <= 1000\n",
    "similarPairs[i].length == 2\n",
    "1 <= xi.length, yi.length <= 20\n",
    "xi and yi consist of lower-case and upper-case English letters.\n",
    "All the pairs (xi, yi) are distinct."
   ]
  },
  {
   "cell_type": "code",
   "execution_count": 7,
   "metadata": {},
   "outputs": [],
   "source": [
    "import collections"
   ]
  },
  {
   "cell_type": "code",
   "execution_count": 18,
   "metadata": {},
   "outputs": [],
   "source": [
    "def areSentencesSimilar(sentence1, sentence2):\n",
    "\n",
    "    if len(sentence1)!=len(sentence2):\n",
    "        return False\n",
    "\n",
    "    all_couples=collections.defaultdict(set)\n",
    "    for i in similarPairs:\n",
    "        all_couples[i[0]].add(i[1])\n",
    "        all_couples[i[1]].add(i[0])\n",
    "\n",
    "    for i in range(len(sentence1)):\n",
    "        w1=sentence1[i]\n",
    "        w2=sentence2[i]\n",
    "        if w1!=w2 and w1 not in all_couples[w2]:\n",
    "            return False\n",
    "\n",
    "    return True"
   ]
  },
  {
   "cell_type": "code",
   "execution_count": null,
   "metadata": {},
   "outputs": [],
   "source": []
  }
 ],
 "metadata": {
  "kernelspec": {
   "display_name": "Python 3",
   "language": "python",
   "name": "python3"
  },
  "language_info": {
   "codemirror_mode": {
    "name": "ipython",
    "version": 3
   },
   "file_extension": ".py",
   "mimetype": "text/x-python",
   "name": "python",
   "nbconvert_exporter": "python",
   "pygments_lexer": "ipython3",
   "version": "3.6.5"
  }
 },
 "nbformat": 4,
 "nbformat_minor": 2
}
