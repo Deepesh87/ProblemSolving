{
 "cells": [
  {
   "cell_type": "raw",
   "metadata": {},
   "source": [
    "Given an integer array, you need to find one continuous subarray that if you only sort this subarray in ascending order, then the whole array will be sorted in ascending order, too.\n",
    "\n",
    "You need to find the shortest such subarray and output its length.\n",
    "\n",
    "Example 1:\n",
    "Input: [2, 6, 4, 8, 10, 9, 15]\n",
    "Output: 5\n",
    "Explanation: You need to sort [6, 4, 8, 10, 9] in ascending order to make the whole array sorted in ascending order."
   ]
  },
  {
   "cell_type": "code",
   "execution_count": 3,
   "metadata": {},
   "outputs": [],
   "source": [
    "def findUnsortedSubarray(nums):\n",
    "    new=sorted(nums)\n",
    "    start=float('inf')\n",
    "    end=0\n",
    "    flag=0\n",
    "    for i in range(len(nums)):\n",
    "        if nums[i]!=new[i]:\n",
    "            if i<start:\n",
    "                start=i\n",
    "                flag=1\n",
    "            if i>end:\n",
    "                end=i\n",
    "    if flag==0:\n",
    "        return 0\n",
    "    else:\n",
    "        return end-start+1 \n",
    "    \n",
    "#O(NlogN)as we are sorting the list and O(N)as we are saving a new list of len N"
   ]
  },
  {
   "cell_type": "code",
   "execution_count": 5,
   "metadata": {},
   "outputs": [
    {
     "data": {
      "text/plain": [
       "5"
      ]
     },
     "execution_count": 5,
     "metadata": {},
     "output_type": "execute_result"
    }
   ],
   "source": [
    "nums=[2, 6, 4, 8, 10, 9, 15]\n",
    "findUnsortedSubarray(nums)"
   ]
  },
  {
   "cell_type": "code",
   "execution_count": 6,
   "metadata": {},
   "outputs": [],
   "source": [
    "def findUnsortedSubarray(nums):\n",
    "    start=float('inf')\n",
    "    end=0\n",
    "    min=float('inf')\n",
    "    max=-float('inf')\n",
    "    for i in range(1,len(nums)):\n",
    "        if nums[i]<nums[i-1]:\n",
    "            if nums[i]<min:\n",
    "                min=nums[i]\n",
    "\n",
    "    for i in range(len(nums)-1,0,-1):\n",
    "        if nums[i]<nums[i-1]:\n",
    "            if nums[i-1]>max:\n",
    "                max=nums[i-1]                       \n",
    "    for i in range(len(nums)):\n",
    "        if nums[i]>min:\n",
    "            start=i\n",
    "            break\n",
    "\n",
    "    for i in range(len(nums)-1,-1,-1):\n",
    "        if nums[i]<max:\n",
    "            end=i\n",
    "            break\n",
    "\n",
    "    if min==float('inf') or max==-float('inf'):\n",
    "        return 0\n",
    "    return end-start+1\n",
    "\n",
    "#O(N)time and O(1)space"
   ]
  },
  {
   "cell_type": "code",
   "execution_count": 7,
   "metadata": {},
   "outputs": [
    {
     "data": {
      "text/plain": [
       "5"
      ]
     },
     "execution_count": 7,
     "metadata": {},
     "output_type": "execute_result"
    }
   ],
   "source": [
    "nums=[2, 6, 4, 8, 10, 9, 15]\n",
    "findUnsortedSubarray(nums)"
   ]
  },
  {
   "cell_type": "code",
   "execution_count": null,
   "metadata": {},
   "outputs": [],
   "source": []
  }
 ],
 "metadata": {
  "kernelspec": {
   "display_name": "Python 3",
   "language": "python",
   "name": "python3"
  },
  "language_info": {
   "codemirror_mode": {
    "name": "ipython",
    "version": 3
   },
   "file_extension": ".py",
   "mimetype": "text/x-python",
   "name": "python",
   "nbconvert_exporter": "python",
   "pygments_lexer": "ipython3",
   "version": "3.6.5"
  }
 },
 "nbformat": 4,
 "nbformat_minor": 2
}
