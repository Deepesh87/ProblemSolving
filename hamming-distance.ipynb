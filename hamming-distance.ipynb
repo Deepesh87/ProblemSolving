{
 "cells": [
  {
   "cell_type": "raw",
   "metadata": {},
   "source": [
    "The Hamming distance between two integers is the number of positions at which the corresponding bits are different.\n",
    "\n",
    "Given two integers x and y, calculate the Hamming distance.\n",
    "\n",
    "Note:\n",
    "0 ≤ x, y < 231.\n",
    "\n",
    "Example:\n",
    "\n",
    "Input: x = 1, y = 4\n",
    "\n",
    "Output: 2\n",
    "\n",
    "Explanation:\n",
    "1   (0 0 0 1)\n",
    "4   (0 1 0 0)\n",
    "       ↑   ↑\n",
    "\n",
    "The above arrows point to positions where the corresponding bits are different."
   ]
  },
  {
   "cell_type": "code",
   "execution_count": 3,
   "metadata": {},
   "outputs": [],
   "source": [
    "def hammingDistance(x,y):\n",
    "    counter=0\n",
    "    for i in bin(x^y):\n",
    "        if i=='1':\n",
    "            counter+=1\n",
    "\n",
    "    return counter \n",
    "#XOR gate gives 1 if both inputs are different( eg 1 and 0 or 0 and 1 )\n",
    "#In Python x^y gives XOR gate in decimals"
   ]
  }
 ],
 "metadata": {
  "kernelspec": {
   "display_name": "Python 3",
   "language": "python",
   "name": "python3"
  },
  "language_info": {
   "codemirror_mode": {
    "name": "ipython",
    "version": 3
   },
   "file_extension": ".py",
   "mimetype": "text/x-python",
   "name": "python",
   "nbconvert_exporter": "python",
   "pygments_lexer": "ipython3",
   "version": "3.6.5"
  }
 },
 "nbformat": 4,
 "nbformat_minor": 2
}
