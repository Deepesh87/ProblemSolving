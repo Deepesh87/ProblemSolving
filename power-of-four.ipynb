{
 "cells": [
  {
   "cell_type": "raw",
   "metadata": {},
   "source": [
    "Given an integer n, return true if it is a power of four. Otherwise, return false.\n",
    "\n",
    "An integer n is a power of four, if there exists an integer x such that n == 4x.\n",
    "\n",
    " \n",
    "\n",
    "Example 1:\n",
    "\n",
    "Input: n = 16\n",
    "Output: true\n",
    "Example 2:\n",
    "\n",
    "Input: n = 5\n",
    "Output: false\n",
    "Example 3:\n",
    "\n",
    "Input: n = 1\n",
    "Output: true\n",
    " \n",
    "\n",
    "Constraints:\n",
    "\n",
    "-2^31 <= n <= 2^31 - 1"
   ]
  },
  {
   "cell_type": "code",
   "execution_count": 1,
   "metadata": {},
   "outputs": [],
   "source": [
    "def isPowerOfFour(n):\n",
    "    if n==0:\n",
    "        return False\n",
    "    else:\n",
    "        while n%4==0:\n",
    "            n/=4\n",
    "\n",
    "    return n==1\n",
    "#O(LOG n)time and O(1)space"
   ]
  },
  {
   "cell_type": "code",
   "execution_count": null,
   "metadata": {},
   "outputs": [],
   "source": [
    "def isPowerOfFour(n):\n",
    "    all_=[4**i for i in range(16)] #16 becoz it can take values till 2*31 or 4*15\n",
    "\n",
    "    return n in all_\n",
    "\n",
    "#O(1) time and space"
   ]
  }
 ],
 "metadata": {
  "kernelspec": {
   "display_name": "Python 3",
   "language": "python",
   "name": "python3"
  },
  "language_info": {
   "codemirror_mode": {
    "name": "ipython",
    "version": 3
   },
   "file_extension": ".py",
   "mimetype": "text/x-python",
   "name": "python",
   "nbconvert_exporter": "python",
   "pygments_lexer": "ipython3",
   "version": "3.6.5"
  }
 },
 "nbformat": 4,
 "nbformat_minor": 2
}
