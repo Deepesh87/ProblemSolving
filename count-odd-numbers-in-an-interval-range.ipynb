{
 "cells": [
  {
   "cell_type": "raw",
   "metadata": {},
   "source": [
    "Given two non-negative integers low and high. Return the count of odd numbers between low and high (inclusive).\n",
    "\n",
    " \n",
    "\n",
    "Example 1:\n",
    "\n",
    "Input: low = 3, high = 7\n",
    "Output: 3\n",
    "Explanation: The odd numbers between 3 and 7 are [3,5,7].\n",
    "Example 2:\n",
    "\n",
    "Input: low = 8, high = 10\n",
    "Output: 1\n",
    "Explanation: The odd numbers between 8 and 10 are [9]."
   ]
  },
  {
   "cell_type": "code",
   "execution_count": 1,
   "metadata": {},
   "outputs": [],
   "source": [
    "def countOdds(low,high):\n",
    "    count=0\n",
    "        \n",
    "    if low%2==1:\n",
    "        count+=1\n",
    "\n",
    "    if high%2==1:\n",
    "        count+=1\n",
    "\n",
    "    if count<1:\n",
    "        return (high-low)//2\n",
    "    else:\n",
    "        return 1+(high-low)//2"
   ]
  },
  {
   "cell_type": "code",
   "execution_count": null,
   "metadata": {},
   "outputs": [],
   "source": [
    "#O(1) time and O(1)space"
   ]
  }
 ],
 "metadata": {
  "kernelspec": {
   "display_name": "Python 3",
   "language": "python",
   "name": "python3"
  },
  "language_info": {
   "codemirror_mode": {
    "name": "ipython",
    "version": 3
   },
   "file_extension": ".py",
   "mimetype": "text/x-python",
   "name": "python",
   "nbconvert_exporter": "python",
   "pygments_lexer": "ipython3",
   "version": "3.6.5"
  }
 },
 "nbformat": 4,
 "nbformat_minor": 2
}
