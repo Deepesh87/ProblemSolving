{
 "cells": [
  {
   "cell_type": "raw",
   "metadata": {},
   "source": [
    "Given the array prices where prices[i] is the price of the ith item in a shop. There is a special discount for items in the shop, if you buy the ith item, then you will receive a discount equivalent to prices[j] where j is the minimum index such that j > i and prices[j] <= prices[i], otherwise, you will not receive any discount at all.\n",
    "\n",
    "Return an array where the ith element is the final price you will pay for the ith item of the shop considering the special discount.\n",
    "\n",
    "Example 1:\n",
    "\n",
    "Input: prices = [8,4,6,2,3]\n",
    "Output: [4,2,4,2,3]\n",
    "Explanation: \n",
    "For item 0 with price[0]=8 you will receive a discount equivalent to prices[1]=4, therefore, the final price you will pay is 8 - 4 = 4. \n",
    "For item 1 with price[1]=4 you will receive a discount equivalent to prices[3]=2, therefore, the final price you will pay is 4 - 2 = 2. \n",
    "For item 2 with price[2]=6 you will receive a discount equivalent to prices[3]=2, therefore, the final price you will pay is 6 - 2 = 4. \n",
    "For items 3 and 4 you will not receive any discount at all.\n",
    "Example 2:\n",
    "\n",
    "Input: prices = [1,2,3,4,5]\n",
    "Output: [1,2,3,4,5]\n",
    "Explanation: In this case, for all items, you will not receive any discount at all.\n",
    "Example 3:\n",
    "\n",
    "Input: prices = [10,1,1,6]\n",
    "Output: [9,0,1,6]\n",
    " \n",
    "\n",
    "Constraints:\n",
    "\n",
    "1 <= prices.length <= 500\n",
    "1 <= prices[i] <= 10^3"
   ]
  },
  {
   "cell_type": "code",
   "execution_count": null,
   "metadata": {},
   "outputs": [],
   "source": [
    "def finalPrices(prices):\n",
    "    res=[]\n",
    "    i=0\n",
    "    j=1\n",
    "\n",
    "    while i<len(prices)-1:\n",
    "        curr=prices[i]\n",
    "        if prices[j]<=curr:\n",
    "            final_price=curr-prices[j]\n",
    "            res.append(final_price)\n",
    "            i+=1\n",
    "            j=i+1\n",
    "        elif j<len(prices)-1:\n",
    "            j+=1\n",
    "        else:\n",
    "            res.append(prices[i])\n",
    "            i+=1\n",
    "            j=i+1\n",
    "\n",
    "    return res+[prices[-1]]\n",
    "#O(N)time and O(N)space"
   ]
  }
 ],
 "metadata": {
  "kernelspec": {
   "display_name": "Python 3",
   "language": "python",
   "name": "python3"
  },
  "language_info": {
   "codemirror_mode": {
    "name": "ipython",
    "version": 3
   },
   "file_extension": ".py",
   "mimetype": "text/x-python",
   "name": "python",
   "nbconvert_exporter": "python",
   "pygments_lexer": "ipython3",
   "version": "3.6.5"
  }
 },
 "nbformat": 4,
 "nbformat_minor": 2
}
