{
 "cells": [
  {
   "cell_type": "raw",
   "metadata": {},
   "source": [
    "You are given a string time in the form of hh:mm, where some of the digits in the string are hidden (represented by ?).\n",
    "\n",
    "The valid times are those inclusively between 00:00 and 23:59.\n",
    "\n",
    "Return the latest valid time you can get from time by replacing the hidden digits.\n",
    "\n",
    " \n",
    "\n",
    "Example 1:\n",
    "\n",
    "Input: time = \"2?:?0\"\n",
    "Output: \"23:50\"\n",
    "Explanation: The latest hour beginning with the digit '2' is 23 and the latest minute ending with the digit '0' is 50.\n",
    "Example 2:\n",
    "\n",
    "Input: time = \"0?:3?\"\n",
    "Output: \"09:39\"\n",
    "Example 3:\n",
    "\n",
    "Input: time = \"1?:22\"\n",
    "Output: \"19:22\"\n",
    " \n",
    "\n",
    "Constraints:\n",
    "\n",
    "time is in the format hh:mm.\n",
    "It is guaranteed that you can produce a valid time from the given string."
   ]
  },
  {
   "cell_type": "code",
   "execution_count": 1,
   "metadata": {},
   "outputs": [],
   "source": [
    "def maximumTime(time):\n",
    "    ans=list(time)\n",
    "\n",
    "    if time[0]=='?':\n",
    "        if time[1]=='?' or int(time[1])<4:\n",
    "            ans[0]='2'\n",
    "        else:\n",
    "            ans[0]='1'\n",
    "\n",
    "    if time[1]=='?':\n",
    "        if time[0]=='1' or time[0]=='0': \n",
    "            ans[1]='9'\n",
    "        else:\n",
    "            ans[1]='3'\n",
    "\n",
    "    if time[3]=='?':\n",
    "        ans[3]='5'\n",
    "\n",
    "    if time[4]=='?':\n",
    "        ans[4]='9'\n",
    "\n",
    "    return ''.join(ans)"
   ]
  },
  {
   "cell_type": "code",
   "execution_count": null,
   "metadata": {},
   "outputs": [],
   "source": [
    "#O(1)time and O(1)space"
   ]
  }
 ],
 "metadata": {
  "kernelspec": {
   "display_name": "Python 3",
   "language": "python",
   "name": "python3"
  },
  "language_info": {
   "codemirror_mode": {
    "name": "ipython",
    "version": 3
   },
   "file_extension": ".py",
   "mimetype": "text/x-python",
   "name": "python",
   "nbconvert_exporter": "python",
   "pygments_lexer": "ipython3",
   "version": "3.6.5"
  }
 },
 "nbformat": 4,
 "nbformat_minor": 2
}
