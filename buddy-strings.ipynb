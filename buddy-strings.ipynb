{
 "cells": [
  {
   "cell_type": "raw",
   "metadata": {},
   "source": [
    "Given two strings a and b, return true if you can swap two letters in a so the result is equal to b, otherwise, return false.\n",
    "\n",
    "Swapping letters is defined as taking two indices i and j (0-indexed) such that i != j and swapping the characters at a[i] and b[j]. For example, swapping at indices 0 and 2 in \"abcd\" results in \"cbad\".\n",
    "\n",
    "Example 1:\n",
    "\n",
    "Input: a = \"ab\", b = \"ba\"\n",
    "Output: true\n",
    "Explanation: You can swap a[0] = 'a' and a[1] = 'b' to get \"ba\", which is equal to b.\n",
    "Example 2:\n",
    "\n",
    "Input: a = \"ab\", b = \"ab\"\n",
    "Output: false\n",
    "Explanation: The only letters you can swap are a[0] = 'a' and a[1] = 'b', which results in \"ba\" != b.\n",
    "Example 3:\n",
    "\n",
    "Input: a = \"aa\", b = \"aa\"\n",
    "Output: true\n",
    "Explanation: You can swap a[0] = 'a' and a[1] = 'a' to get \"aa\", which is equal to b.\n",
    "Example 4:\n",
    "\n",
    "Input: a = \"aaaaaaabc\", b = \"aaaaaaacb\"\n",
    "Output: true\n",
    " \n",
    "\n",
    "Constraints:\n",
    "\n",
    "1 <= a.length, b.length <= 2 * 104\n",
    "a and b consist of lowercase letters."
   ]
  },
  {
   "cell_type": "code",
   "execution_count": null,
   "metadata": {},
   "outputs": [],
   "source": [
    "def buddyStrings(a,b):\n",
    "    if len(a)!=len(b):\n",
    "        return False\n",
    "\n",
    "    if a==b:\n",
    "        if len(set(a))<len(a):\n",
    "            return True\n",
    "\n",
    "    dif=[(a, b) for a, b in zip(a, b) if a != b]\n",
    "\n",
    "    return len(dif) == 2 and dif[0] == dif[1][::-1]\n",
    "\n",
    "#O(N)time and O(1)space"
   ]
  }
 ],
 "metadata": {
  "kernelspec": {
   "display_name": "Python 3",
   "language": "python",
   "name": "python3"
  },
  "language_info": {
   "codemirror_mode": {
    "name": "ipython",
    "version": 3
   },
   "file_extension": ".py",
   "mimetype": "text/x-python",
   "name": "python",
   "nbconvert_exporter": "python",
   "pygments_lexer": "ipython3",
   "version": "3.6.5"
  }
 },
 "nbformat": 4,
 "nbformat_minor": 2
}
