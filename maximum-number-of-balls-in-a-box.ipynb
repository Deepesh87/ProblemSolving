{
 "cells": [
  {
   "cell_type": "raw",
   "metadata": {},
   "source": [
    "You are working in a ball factory where you have n balls numbered from lowLimit up to highLimit inclusive (i.e., n == highLimit - lowLimit + 1), and an infinite number of boxes numbered from 1 to infinity.\n",
    "\n",
    "Your job at this factory is to put each ball in the box with a number equal to the sum of digits of the ball's number. For example, the ball number 321 will be put in the box number 3 + 2 + 1 = 6 and the ball number 10 will be put in the box number 1 + 0 = 1.\n",
    "\n",
    "Given two integers lowLimit and highLimit, return the number of balls in the box with the most balls.\n",
    "\n",
    " \n",
    "\n",
    "Example 1:\n",
    "\n",
    "Input: lowLimit = 1, highLimit = 10\n",
    "Output: 2\n",
    "Explanation:\n",
    "Box Number:  1 2 3 4 5 6 7 8 9 10 11 ...\n",
    "Ball Count:  2 1 1 1 1 1 1 1 1 0  0  ...\n",
    "Box 1 has the most number of balls with 2 balls.\n",
    "Example 2:\n",
    "\n",
    "Input: lowLimit = 5, highLimit = 15\n",
    "Output: 2\n",
    "Explanation:\n",
    "Box Number:  1 2 3 4 5 6 7 8 9 10 11 ...\n",
    "Ball Count:  1 1 1 1 2 2 1 1 1 0  0  ...\n",
    "Boxes 5 and 6 have the most number of balls with 2 balls in each.\n",
    "Example 3:\n",
    "\n",
    "Input: lowLimit = 19, highLimit = 28\n",
    "Output: 2\n",
    "Explanation:\n",
    "Box Number:  1 2 3 4 5 6 7 8 9 10 11 12 ...\n",
    "Ball Count:  0 1 1 1 1 1 1 1 1 2  0  0  ...\n",
    "Box 10 has the most number of balls with 2 balls.\n",
    " \n",
    "\n",
    "Constraints:\n",
    "\n",
    "1 <= lowLimit <= highLimit <= 105"
   ]
  },
  {
   "cell_type": "code",
   "execution_count": 1,
   "metadata": {},
   "outputs": [],
   "source": [
    "def countBalls(lowLimit, highLimit):\n",
    "\n",
    "    hash={}\n",
    "    max_=0\n",
    "    ans=0\n",
    "    def digit_sum(x):\n",
    "        total=0\n",
    "        while x>0:\n",
    "            total+=x%10\n",
    "            x=x//10\n",
    "        return total    \n",
    "\n",
    "\n",
    "    for i in range(lowLimit,highLimit+1):\n",
    "        curr=digit_sum(i)\n",
    "        if curr not in hash:\n",
    "            hash[curr]=1\n",
    "        else:\n",
    "            hash[curr]+=1\n",
    "\n",
    "    for i in hash:\n",
    "        if hash[i]>max_:\n",
    "            max_=hash[i]\n",
    "            ans=hash[i]\n",
    "\n",
    "    return ans"
   ]
  },
  {
   "cell_type": "code",
   "execution_count": null,
   "metadata": {},
   "outputs": [],
   "source": [
    "#O(N)time and O(N)space"
   ]
  }
 ],
 "metadata": {
  "kernelspec": {
   "display_name": "Python 3",
   "language": "python",
   "name": "python3"
  },
  "language_info": {
   "codemirror_mode": {
    "name": "ipython",
    "version": 3
   },
   "file_extension": ".py",
   "mimetype": "text/x-python",
   "name": "python",
   "nbconvert_exporter": "python",
   "pygments_lexer": "ipython3",
   "version": "3.6.5"
  }
 },
 "nbformat": 4,
 "nbformat_minor": 2
}
