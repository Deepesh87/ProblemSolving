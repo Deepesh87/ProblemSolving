{
 "cells": [
  {
   "cell_type": "raw",
   "metadata": {},
   "source": [
    "Given two sorted integer arrays nums1 and nums2, merge nums2 into nums1 as one sorted array\n",
    "The number of elements initialized in nums1 and nums2 are m and n respectively.\n",
    "You may assume that nums1 has enough space (size that is equal to m + n) to hold additional elements from nums2.\n",
    "Example:\n",
    "\n",
    "Input:\n",
    "nums1 = [1,2,3,0,0,0], m = 3\n",
    "nums2 = [2,5,6],       n = 3\n",
    "\n",
    "Output: [1,2,2,3,5,6]"
   ]
  },
  {
   "cell_type": "code",
   "execution_count": 10,
   "metadata": {},
   "outputs": [],
   "source": [
    "def merge(nums1,m,nums2,n):\n",
    "    nums1=sorted(nums1[:m]+nums2)\n",
    "    return nums1\n",
    "\n",
    "#O(N+M)LOG(N+M) complexity as we are sorting the merged list"
   ]
  },
  {
   "cell_type": "code",
   "execution_count": 11,
   "metadata": {},
   "outputs": [
    {
     "data": {
      "text/plain": [
       "[1, 2, 2, 3, 5, 6]"
      ]
     },
     "execution_count": 11,
     "metadata": {},
     "output_type": "execute_result"
    }
   ],
   "source": [
    "nums1 = [1,2,3,0,0,0]\n",
    "m = 3\n",
    "nums2 = [2,5,6]\n",
    "n = 3\n",
    "merge(nums1,m,nums2,n)"
   ]
  },
  {
   "cell_type": "code",
   "execution_count": 19,
   "metadata": {},
   "outputs": [],
   "source": [
    "def merge(nums1,m,nums2,n):\n",
    "    p1=0\n",
    "    p2=0\n",
    "    nums1_copy=nums1[:m]\n",
    "    nums1=[]\n",
    "    \n",
    "    while(p1<m and p2<n):\n",
    "        if nums1_copy[p1]<nums2[p2]:\n",
    "            nums1.append(nums1_copy[p1])\n",
    "            p1+=1\n",
    "        else:\n",
    "            nums1.append(nums2[p2])\n",
    "            p2+=1\n",
    "            \n",
    "    #if still there are remaining\n",
    "    \n",
    "    if p1<m:\n",
    "        nums1[p1+p2:]=nums1_copy[p1:]\n",
    "    \n",
    "    if p2<n:\n",
    "        nums1[p1+p2:]=nums2[p2:]\n",
    "        \n",
    "    return nums1"
   ]
  },
  {
   "cell_type": "code",
   "execution_count": 20,
   "metadata": {},
   "outputs": [
    {
     "data": {
      "text/plain": [
       "[1, 2, 2, 3, 5, 6]"
      ]
     },
     "execution_count": 20,
     "metadata": {},
     "output_type": "execute_result"
    }
   ],
   "source": [
    "nums1 = [1,2,3,0,0,0]\n",
    "m = 3\n",
    "nums2 = [2,5,6]\n",
    "n = 3\n",
    "merge(nums1,n,nums2,m)\n",
    "#This is O(N+M) time but has a Space complexity of O(N) as we are saving the Original Nums1"
   ]
  },
  {
   "cell_type": "code",
   "execution_count": 23,
   "metadata": {},
   "outputs": [],
   "source": [
    "#to avoid the High space complexity above I can start editing the original array from the end ( they have 0's anyways)\n",
    "#O(N+M) time and O(1) space\n",
    "def merge(nums1,m,nums2,n):\n",
    "    # two get pointers for nums1 and nums2\n",
    "    p1 = m - 1\n",
    "    p2 = n - 1\n",
    "    # set pointer for nums1\n",
    "    p = m + n - 1\n",
    "\n",
    "    # while there are still elements to compare\n",
    "    while p1 >= 0 and p2 >= 0:\n",
    "        if nums1[p1] < nums2[p2]:\n",
    "            nums1[p] = nums2[p2]\n",
    "            p2 -= 1\n",
    "        else:\n",
    "            nums1[p] =  nums1[p1]\n",
    "            p1 -= 1\n",
    "        p -= 1\n",
    "\n",
    "    # add missing elements from nums2\n",
    "    nums1[:p2 + 1] = nums2[:p2 + 1]\n",
    "    return nums1"
   ]
  },
  {
   "cell_type": "code",
   "execution_count": 24,
   "metadata": {},
   "outputs": [
    {
     "data": {
      "text/plain": [
       "[1, 2, 2, 3, 5, 6]"
      ]
     },
     "execution_count": 24,
     "metadata": {},
     "output_type": "execute_result"
    }
   ],
   "source": [
    "nums1 = [1,2,3,0,0,0]\n",
    "m = 3\n",
    "nums2 = [2,5,6]\n",
    "n = 3\n",
    "merge(nums1,n,nums2,m)"
   ]
  }
 ],
 "metadata": {
  "kernelspec": {
   "display_name": "Python 3",
   "language": "python",
   "name": "python3"
  },
  "language_info": {
   "codemirror_mode": {
    "name": "ipython",
    "version": 3
   },
   "file_extension": ".py",
   "mimetype": "text/x-python",
   "name": "python",
   "nbconvert_exporter": "python",
   "pygments_lexer": "ipython3",
   "version": "3.6.5"
  }
 },
 "nbformat": 4,
 "nbformat_minor": 2
}
