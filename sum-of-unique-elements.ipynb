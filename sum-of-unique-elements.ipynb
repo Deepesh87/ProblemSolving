{
 "cells": [
  {
   "cell_type": "raw",
   "metadata": {},
   "source": [
    "You are given an integer array nums. The unique elements of an array are the elements that appear exactly once in the array.\n",
    "\n",
    "Return the sum of all the unique elements of nums.\n",
    "\n",
    " \n",
    "\n",
    "Example 1:\n",
    "\n",
    "Input: nums = [1,2,3,2]\n",
    "Output: 4\n",
    "Explanation: The unique elements are [1,3], and the sum is 4.\n",
    "Example 2:\n",
    "\n",
    "Input: nums = [1,1,1,1,1]\n",
    "Output: 0\n",
    "Explanation: There are no unique elements, and the sum is 0.\n",
    "Example 3:\n",
    "\n",
    "Input: nums = [1,2,3,4,5]\n",
    "Output: 15\n",
    "Explanation: The unique elements are [1,2,3,4,5], and the sum is 15."
   ]
  },
  {
   "cell_type": "code",
   "execution_count": null,
   "metadata": {},
   "outputs": [],
   "source": [
    "def sumOfUnique(nums):\n",
    "    hash={}\n",
    "\n",
    "    for i in nums:\n",
    "        if i in hash:\n",
    "            hash[i]+=1\n",
    "        else:\n",
    "            hash[i]=1\n",
    "\n",
    "    total=0\n",
    "\n",
    "    for i in hash:\n",
    "        if hash[i]==1:\n",
    "            total+=i\n",
    "\n",
    "\n",
    "    return total\n",
    "\n",
    "#O(N)time and O(N)space"
   ]
  }
 ],
 "metadata": {
  "kernelspec": {
   "display_name": "Python 3",
   "language": "python",
   "name": "python3"
  },
  "language_info": {
   "codemirror_mode": {
    "name": "ipython",
    "version": 3
   },
   "file_extension": ".py",
   "mimetype": "text/x-python",
   "name": "python",
   "nbconvert_exporter": "python",
   "pygments_lexer": "ipython3",
   "version": "3.6.5"
  }
 },
 "nbformat": 4,
 "nbformat_minor": 2
}
