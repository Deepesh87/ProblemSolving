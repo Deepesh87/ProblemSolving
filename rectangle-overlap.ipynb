{
 "cells": [
  {
   "cell_type": "raw",
   "metadata": {},
   "source": [
    "An axis-aligned rectangle is represented as a list [x1, y1, x2, y2], where (x1, y1) is the coordinate of its bottom-left corner, and (x2, y2) is the coordinate of its top-right corner. Its top and bottom edges are parallel to the X-axis, and its left and right edges are parallel to the Y-axis.\n",
    "\n",
    "Two rectangles overlap if the area of their intersection is positive. To be clear, two rectangles that only touch at the corner or edges do not overlap.\n",
    "\n",
    "Given two axis-aligned rectangles rec1 and rec2, return true if they overlap, otherwise return false.\n",
    "\n",
    "Example 1:\n",
    "\n",
    "Input: rec1 = [0,0,2,2], rec2 = [1,1,3,3]\n",
    "Output: true\n",
    "Example 2:\n",
    "\n",
    "Input: rec1 = [0,0,1,1], rec2 = [1,0,2,1]\n",
    "Output: false\n",
    "Example 3:\n",
    "\n",
    "Input: rec1 = [0,0,1,1], rec2 = [2,2,3,3]\n",
    "Output: false\n",
    " \n",
    "\n",
    "Constraints:\n",
    "\n",
    "rect1.length == 4\n",
    "rect2.length == 4\n",
    "-109 <= rec1[i], rec2[i] <= 109\n",
    "rec1[0] <= rec1[2] and rec1[1] <= rec1[3]\n",
    "rec2[0] <= rec2[2] and rec2[1] <= rec2[3]"
   ]
  },
  {
   "cell_type": "code",
   "execution_count": null,
   "metadata": {},
   "outputs": [],
   "source": [
    "def isRectangleOverlap(rec1, rec2):\n",
    "\n",
    "    #check if its not even a rectangle\n",
    "    if rec1[1]==rec1[3] or rec1[0]==rec2[2] or rec2[1]==rec2[3] or rec2[0]==rec2[2]:\n",
    "        return False\n",
    "\n",
    "    left=rec1[2]<=rec2[0]\n",
    "\n",
    "    bottom=rec1[3]<=rec2[1]\n",
    "\n",
    "    top= rec1[1]>=rec2[3]\n",
    "\n",
    "    right=rec1[0]>=rec2[2]\n",
    "\n",
    "    if left or right or bottom or top:\n",
    "        return False\n",
    "\n",
    "    return True\n",
    "\n",
    "#O(1)time and O(1)space"
   ]
  }
 ],
 "metadata": {
  "kernelspec": {
   "display_name": "Python 3",
   "language": "python",
   "name": "python3"
  },
  "language_info": {
   "codemirror_mode": {
    "name": "ipython",
    "version": 3
   },
   "file_extension": ".py",
   "mimetype": "text/x-python",
   "name": "python",
   "nbconvert_exporter": "python",
   "pygments_lexer": "ipython3",
   "version": "3.6.5"
  }
 },
 "nbformat": 4,
 "nbformat_minor": 2
}
