{
 "cells": [
  {
   "cell_type": "raw",
   "metadata": {},
   "source": [
    "There is a fence with n posts, each post can be painted with one of the k colors.\n",
    "\n",
    "You have to paint all the posts such that no more than two adjacent fence posts have the same color.\n",
    "\n",
    "Return the total number of ways you can paint the fence.\n",
    "\n",
    "Note:\n",
    "n and k are non-negative integers.\n",
    "\n",
    "Example:\n",
    "\n",
    "Input: n = 3, k = 2\n",
    "Output: 6\n",
    "Explanation: Take c1 as color 1, c2 as color 2. All possible ways are:\n",
    "\n",
    "            post1  post2  post3      \n",
    " -----      -----  -----  -----       \n",
    "   1         c1     c1     c2 \n",
    "   2         c1     c2     c1 \n",
    "   3         c1     c2     c2 \n",
    "   4         c2     c1     c1  \n",
    "   5         c2     c1     c2\n",
    "   6         c2     c2     c1"
   ]
  },
  {
   "cell_type": "code",
   "execution_count": null,
   "metadata": {},
   "outputs": [],
   "source": [
    "def numWays(n,k):\n",
    "    \n",
    "    "
   ]
  },
  {
   "cell_type": "code",
   "execution_count": null,
   "metadata": {},
   "outputs": [],
   "source": [
    "n = 3\n",
    "k=2\n",
    "numWays(n,k)"
   ]
  }
 ],
 "metadata": {
  "kernelspec": {
   "display_name": "Python 3",
   "language": "python",
   "name": "python3"
  },
  "language_info": {
   "codemirror_mode": {
    "name": "ipython",
    "version": 3
   },
   "file_extension": ".py",
   "mimetype": "text/x-python",
   "name": "python",
   "nbconvert_exporter": "python",
   "pygments_lexer": "ipython3",
   "version": "3.6.5"
  }
 },
 "nbformat": 4,
 "nbformat_minor": 2
}
