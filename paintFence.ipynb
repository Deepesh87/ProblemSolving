{
 "cells": [
  {
   "cell_type": "raw",
   "metadata": {},
   "source": [
    "There is a fence with n posts, each post can be painted with one of the k colors.\n",
    "\n",
    "You have to paint all the posts such that no more than two adjacent fence posts have the same color.\n",
    "\n",
    "Return the total number of ways you can paint the fence.\n",
    "\n",
    "Note:\n",
    "n and k are non-negative integers.\n",
    "\n",
    "Example:\n",
    "\n",
    "Input: n = 3, k = 2\n",
    "Output: 6\n",
    "Explanation: Take c1 as color 1, c2 as color 2. All possible ways are:\n",
    "\n",
    "            post1  post2  post3      \n",
    " -----      -----  -----  -----       \n",
    "   1         c1     c1     c2 \n",
    "   2         c1     c2     c1 \n",
    "   3         c1     c2     c2 \n",
    "   4         c2     c1     c1  \n",
    "   5         c2     c1     c2\n",
    "   6         c2     c2     c1"
   ]
  },
  {
   "cell_type": "code",
   "execution_count": 1,
   "metadata": {},
   "outputs": [],
   "source": [
    "def numWays(n,k):\n",
    "    if n==0:\n",
    "        #if there are no posts, there are no ways to paint them\n",
    "        return 0\n",
    "    elif n==1:\n",
    "        #if there is only one post, there are k ways to paint it\n",
    "        return k\n",
    "    elif n==2:\n",
    "#if there are only two posts, you can't make a triplet, so you \n",
    "#are free to paint however you want.\n",
    "#first post, k options. second post, k options\n",
    "        return k**2\n",
    "\n",
    "    dp=[0]*(n+1)\n",
    "    dp[0]=0\n",
    "    dp[1]=k\n",
    "    dp[2]=k**2\n",
    "\n",
    "    for i in range(3,n+1):\n",
    "        dp[i]=(dp[i-1]+dp[i-2])*(k-1)\n",
    "\n",
    "    return dp[-1]    "
   ]
  },
  {
   "cell_type": "code",
   "execution_count": 2,
   "metadata": {},
   "outputs": [
    {
     "data": {
      "text/plain": [
       "6"
      ]
     },
     "execution_count": 2,
     "metadata": {},
     "output_type": "execute_result"
    }
   ],
   "source": [
    "n = 3\n",
    "k=2\n",
    "numWays(n,k)\n",
    "#https://leetcode.com/problems/paint-fence/discuss/178010/The-only-solution-you-need-to-read"
   ]
  },
  {
   "cell_type": "code",
   "execution_count": null,
   "metadata": {},
   "outputs": [],
   "source": [
    "#O(N)time and O(N)space"
   ]
  }
 ],
 "metadata": {
  "kernelspec": {
   "display_name": "Python 3",
   "language": "python",
   "name": "python3"
  },
  "language_info": {
   "codemirror_mode": {
    "name": "ipython",
    "version": 3
   },
   "file_extension": ".py",
   "mimetype": "text/x-python",
   "name": "python",
   "nbconvert_exporter": "python",
   "pygments_lexer": "ipython3",
   "version": "3.6.5"
  }
 },
 "nbformat": 4,
 "nbformat_minor": 2
}
