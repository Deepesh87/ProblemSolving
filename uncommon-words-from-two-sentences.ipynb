{
 "cells": [
  {
   "cell_type": "raw",
   "metadata": {},
   "source": [
    "We are given two sentences A and B.  (A sentence is a string of space separated words.  Each word consists only of lowercase letters.)\n",
    "\n",
    "A word is uncommon if it appears exactly once in one of the sentences, and does not appear in the other sentence.\n",
    "\n",
    "Return a list of all uncommon words. \n",
    "\n",
    "You may return the list in any order.\n",
    "\n",
    " \n",
    "\n",
    "Example 1:\n",
    "\n",
    "Input: A = \"this apple is sweet\", B = \"this apple is sour\"\n",
    "Output: [\"sweet\",\"sour\"]\n",
    "Example 2:\n",
    "\n",
    "Input: A = \"apple apple\", B = \"banana\"\n",
    "Output: [\"banana\"]"
   ]
  },
  {
   "cell_type": "code",
   "execution_count": null,
   "metadata": {},
   "outputs": [],
   "source": [
    "def uncommonFromSentences(A,B):\n",
    "        hash={}\n",
    "    res=[]\n",
    "\n",
    "    for i in A.split(\" \"):\n",
    "        if i not in hash:\n",
    "            hash[i]=1\n",
    "        else:\n",
    "            hash[i]=0\n",
    "\n",
    "    for j in B.split(\" \"):\n",
    "        if j not in hash:\n",
    "            hash[j]=1\n",
    "        else:\n",
    "            hash[j]=0\n",
    "\n",
    "    for i in hash.keys():\n",
    "        if hash[i]==1:\n",
    "            res.append(i)\n",
    "\n",
    "    return res"
   ]
  }
 ],
 "metadata": {
  "kernelspec": {
   "display_name": "Python 3",
   "language": "python",
   "name": "python3"
  },
  "language_info": {
   "codemirror_mode": {
    "name": "ipython",
    "version": 3
   },
   "file_extension": ".py",
   "mimetype": "text/x-python",
   "name": "python",
   "nbconvert_exporter": "python",
   "pygments_lexer": "ipython3",
   "version": "3.6.5"
  }
 },
 "nbformat": 4,
 "nbformat_minor": 2
}
