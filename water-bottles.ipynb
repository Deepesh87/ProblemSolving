{
 "cells": [
  {
   "cell_type": "raw",
   "metadata": {},
   "source": [
    "Given numBottles full water bottles, you can exchange numExchange empty water bottles for one full water bottle.\n",
    "\n",
    "The operation of drinking a full water bottle turns it into an empty bottle.\n",
    "\n",
    "Return the maximum number of water bottles you can drink.\n",
    "\n",
    "Input: numBottles = 9, numExchange = 3\n",
    "Output: 13\n",
    "Explanation: You can exchange 3 empty bottles to get 1 full water bottle.\n",
    "Number of water bottles you can drink: 9 + 3 + 1 = 13."
   ]
  },
  {
   "cell_type": "code",
   "execution_count": null,
   "metadata": {},
   "outputs": [],
   "source": [
    "def numWaterBottles(numBottles,numExchange):\n",
    "    rem=0\n",
    "    temp=0\n",
    "    total=numBottles\n",
    "    while numBottles>=numExchange:\n",
    "        temp=numBottles//numExchange\n",
    "        total+=temp\n",
    "        rem=numBottles%numExchange\n",
    "        numBottles=temp+rem\n",
    "        \n",
    "    return total\n",
    "#O(logN)time and O(1)space where N = num of bottles\n",
    "#https://leetcode.com/problems/water-bottles/discuss/745231/Python-1-liner-with-math-explained\n",
    "#A geometric Series can also be used to solve this"
   ]
  }
 ],
 "metadata": {
  "kernelspec": {
   "display_name": "Python 3",
   "language": "python",
   "name": "python3"
  },
  "language_info": {
   "codemirror_mode": {
    "name": "ipython",
    "version": 3
   },
   "file_extension": ".py",
   "mimetype": "text/x-python",
   "name": "python",
   "nbconvert_exporter": "python",
   "pygments_lexer": "ipython3",
   "version": "3.6.5"
  }
 },
 "nbformat": 4,
 "nbformat_minor": 2
}
