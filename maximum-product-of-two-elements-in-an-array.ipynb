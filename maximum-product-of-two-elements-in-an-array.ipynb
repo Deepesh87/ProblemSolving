{
 "cells": [
  {
   "cell_type": "raw",
   "metadata": {},
   "source": [
    "Given the array of integers nums, you will choose two different indices i and j of that array. Return the maximum value of (nums[i]-1)*(nums[j]-1).\n",
    " \n",
    "\n",
    "Example 1:\n",
    "\n",
    "Input: nums = [3,4,5,2]\n",
    "Output: 12 \n",
    "Explanation: If you choose the indices i=1 and j=2 (indexed from 0), you will get the maximum value, that is, (nums[1]-1)*(nums[2]-1) = (4-1)*(5-1) = 3*4 = 12. \n",
    "Example 2:\n",
    "\n",
    "Input: nums = [1,5,4,5]\n",
    "Output: 16\n",
    "Explanation: Choosing the indices i=1 and j=3 (indexed from 0), you will get the maximum value of (5-1)*(5-1) = 16."
   ]
  },
  {
   "cell_type": "code",
   "execution_count": 1,
   "metadata": {},
   "outputs": [],
   "source": [
    "def maxProduct(nums):\n",
    "    max_=float('-inf')\n",
    "    sec_max=float('-inf')\n",
    "    index=0\n",
    "\n",
    "    for i in range(len(nums)):\n",
    "        if nums[i]>max_:\n",
    "            max_=nums[i]\n",
    "            index=i\n",
    "\n",
    "    for i in range(len(nums)):\n",
    "        if i!=index and nums[i]>sec_max and nums[i]<=max_:\n",
    "            sec_max=nums[i]\n",
    "\n",
    "    return (max_-1)*(sec_max-1)\n",
    "\n",
    "#O(N) time and O(1)space"
   ]
  },
  {
   "cell_type": "code",
   "execution_count": null,
   "metadata": {},
   "outputs": [],
   "source": [
    "def maxProduct(nums):\n",
    "    nums_=sorted(nums)\n",
    "    return (nums_[-2]-1)*(nums_[-1]-1)\n",
    "#O(n Log N) time and O(N)space"
   ]
  }
 ],
 "metadata": {
  "kernelspec": {
   "display_name": "Python 3",
   "language": "python",
   "name": "python3"
  },
  "language_info": {
   "codemirror_mode": {
    "name": "ipython",
    "version": 3
   },
   "file_extension": ".py",
   "mimetype": "text/x-python",
   "name": "python",
   "nbconvert_exporter": "python",
   "pygments_lexer": "ipython3",
   "version": "3.6.5"
  }
 },
 "nbformat": 4,
 "nbformat_minor": 2
}
