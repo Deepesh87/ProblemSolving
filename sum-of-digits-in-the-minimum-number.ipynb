{
 "cells": [
  {
   "cell_type": "raw",
   "metadata": {},
   "source": [
    "Given an array A of positive integers, let S be the sum of the digits of the minimal element of A.\n",
    "\n",
    "Return 0 if S is odd, otherwise return 1.\n",
    "\n",
    " \n",
    "\n",
    "Example 1:\n",
    "\n",
    "Input: [34,23,1,24,75,33,54,8]\n",
    "Output: 0\n",
    "Explanation: \n",
    "The minimal element is 1, and the sum of those digits is S = 1 which is odd, so the answer is 0.\n",
    "Example 2:\n",
    "\n",
    "Input: [99,77,33,66,55]\n",
    "Output: 1\n",
    "Explanation: \n",
    "The minimal element is 33, and the sum of those digits is S = 3 + 3 = 6 which is even, so the answer is 1."
   ]
  },
  {
   "cell_type": "code",
   "execution_count": null,
   "metadata": {},
   "outputs": [],
   "source": [
    "def sumOfDigits(A):\n",
    "    min_=float('inf')\n",
    "    for i in A:\n",
    "        if i<min_:\n",
    "            min_=i\n",
    "\n",
    "    digit=sum([int(i) for i in list(str(min_))])\n",
    "\n",
    "    if digit%2==0:\n",
    "        return 1\n",
    "    else:\n",
    "        return 0   "
   ]
  },
  {
   "cell_type": "code",
   "execution_count": null,
   "metadata": {},
   "outputs": [],
   "source": [
    "#O(1) time and Space"
   ]
  }
 ],
 "metadata": {
  "kernelspec": {
   "display_name": "Python 3",
   "language": "python",
   "name": "python3"
  },
  "language_info": {
   "codemirror_mode": {
    "name": "ipython",
    "version": 3
   },
   "file_extension": ".py",
   "mimetype": "text/x-python",
   "name": "python",
   "nbconvert_exporter": "python",
   "pygments_lexer": "ipython3",
   "version": "3.6.5"
  }
 },
 "nbformat": 4,
 "nbformat_minor": 2
}
