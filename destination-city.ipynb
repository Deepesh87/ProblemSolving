{
 "cells": [
  {
   "cell_type": "raw",
   "metadata": {},
   "source": [
    "You are given the array paths, where paths[i] = [cityAi, cityBi] means there exists a direct path going from cityAi to cityBi. Return the destination city, that is, the city without any path outgoing to another city.\n",
    "\n",
    "It is guaranteed that the graph of paths forms a line without any loop, therefore, there will be exactly one destination city.\n",
    "\n",
    " \n",
    "\n",
    "Example 1:\n",
    "\n",
    "Input: paths = [[\"London\",\"New York\"],[\"New York\",\"Lima\"],[\"Lima\",\"Sao Paulo\"]]\n",
    "Output: \"Sao Paulo\" \n",
    "Explanation: Starting at \"London\" city you will reach \"Sao Paulo\" city which is the destination city. Your trip consist of: \"London\" -> \"New York\" -> \"Lima\" -> \"Sao Paulo\".\n",
    "Example 2:\n",
    "\n",
    "Input: paths = [[\"B\",\"C\"],[\"D\",\"B\"],[\"C\",\"A\"]]\n",
    "Output: \"A\"\n",
    "Explanation: All possible trips are: \n",
    "\"D\" -> \"B\" -> \"C\" -> \"A\". \n",
    "\"B\" -> \"C\" -> \"A\". \n",
    "\"C\" -> \"A\". \n",
    "\"A\". \n",
    "Clearly the destination city is \"A\".\n",
    "Example 3:\n",
    "\n",
    "Input: paths = [[\"A\",\"Z\"]]\n",
    "Output: \"Z\""
   ]
  },
  {
   "cell_type": "code",
   "execution_count": 1,
   "metadata": {},
   "outputs": [],
   "source": [
    "def destCity(paths):\n",
    "    all=set([i[0] for i in paths])\n",
    "        \n",
    "    for i in paths:\n",
    "        if i[1] not in all:\n",
    "            return i[1]"
   ]
  },
  {
   "cell_type": "code",
   "execution_count": null,
   "metadata": {},
   "outputs": [],
   "source": [
    "#O(N)time and O(N)space"
   ]
  }
 ],
 "metadata": {
  "kernelspec": {
   "display_name": "Python 3",
   "language": "python",
   "name": "python3"
  },
  "language_info": {
   "codemirror_mode": {
    "name": "ipython",
    "version": 3
   },
   "file_extension": ".py",
   "mimetype": "text/x-python",
   "name": "python",
   "nbconvert_exporter": "python",
   "pygments_lexer": "ipython3",
   "version": "3.6.5"
  }
 },
 "nbformat": 4,
 "nbformat_minor": 2
}
