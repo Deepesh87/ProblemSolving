{
 "cells": [
  {
   "cell_type": "raw",
   "metadata": {},
   "source": [
    "Given an integer, return its base 7 string representation.\n",
    "\n",
    "Example 1:\n",
    "Input: 100\n",
    "Output: \"202\"\n",
    "Example 2:\n",
    "Input: -7\n",
    "Output: \"-10\"\n",
    "Note: The input will be in range of [-1e7, 1e7]"
   ]
  },
  {
   "cell_type": "code",
   "execution_count": 1,
   "metadata": {},
   "outputs": [],
   "source": [
    "def convertToBase7(num):\n",
    "    ans=[]\n",
    "    n=abs(num)\n",
    "    if num==0:\n",
    "        return '0'\n",
    "    while n>0:\n",
    "        print(n%7)\n",
    "        ans.append(str(n%7))\n",
    "        n//=7\n",
    "\n",
    "    if num<0:\n",
    "        return \"-\"+\"\".join(ans[::-1])\n",
    "    else:\n",
    "        return \"\".join(ans[::-1])"
   ]
  },
  {
   "cell_type": "code",
   "execution_count": null,
   "metadata": {},
   "outputs": [],
   "source": [
    "#O(logN)time and O(N)space"
   ]
  }
 ],
 "metadata": {
  "kernelspec": {
   "display_name": "Python 3",
   "language": "python",
   "name": "python3"
  },
  "language_info": {
   "codemirror_mode": {
    "name": "ipython",
    "version": 3
   },
   "file_extension": ".py",
   "mimetype": "text/x-python",
   "name": "python",
   "nbconvert_exporter": "python",
   "pygments_lexer": "ipython3",
   "version": "3.6.5"
  }
 },
 "nbformat": 4,
 "nbformat_minor": 2
}
