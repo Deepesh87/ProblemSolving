{
 "cells": [
  {
   "cell_type": "raw",
   "metadata": {},
   "source": [
    "Given an array of integers nums sorted in ascending order, find the starting and ending position of a given target value.\n",
    "\n",
    "If target is not found in the array, return [-1, -1].\n",
    "\n",
    "Follow up: Could you write an algorithm with O(log n) runtime complexity?\n",
    "\n",
    " \n",
    "\n",
    "Example 1:\n",
    "\n",
    "Input: nums = [5,7,7,8,8,10], target = 8\n",
    "Output: [3,4]\n",
    "Example 2:\n",
    "\n",
    "Input: nums = [5,7,7,8,8,10], target = 6\n",
    "Output: [-1,-1]\n",
    "Example 3:\n",
    "\n",
    "Input: nums = [], target = 0\n",
    "Output: [-1,-1]"
   ]
  },
  {
   "cell_type": "code",
   "execution_count": 1,
   "metadata": {},
   "outputs": [],
   "source": [
    "def searchRange(nums, target):\n",
    "    res=[-1,-1]\n",
    "    for i in range(len(nums)):\n",
    "        if target==nums[i]:\n",
    "            res[0]=i\n",
    "            break\n",
    "    for i in range(len(nums)-1,-1,-1):\n",
    "        if target==nums[i]:\n",
    "            res[1]=i\n",
    "            break\n",
    "            \n",
    "    return res\n",
    "#O(N)time and O(1)space   "
   ]
  },
  {
   "cell_type": "code",
   "execution_count": null,
   "metadata": {},
   "outputs": [],
   "source": [
    "def searchRange(nums, target):\n",
    "    def searchLeft(nums1,x):\n",
    "        left=0\n",
    "        right=len(nums1)-1\n",
    "        while left<=right:\n",
    "            mid=left+(right-left)//2\n",
    "            if nums1[mid]<x:\n",
    "                left=mid+1\n",
    "            else:\n",
    "                right=mid-1\n",
    "        return left\n",
    "\n",
    "    def searchRight(nums1,x):\n",
    "        left=0\n",
    "        right=len(nums1)-1\n",
    "        while left<=right:\n",
    "            mid=left+(right-left)//2\n",
    "            if nums1[mid]<=x:\n",
    "                left=mid+1\n",
    "            else:\n",
    "                right=mid-1\n",
    "        return right\n",
    "\n",
    "    left=searchLeft(nums,target)\n",
    "    right=searchRight(nums,target)\n",
    "    if left<=right:\n",
    "        return [left,right]\n",
    "    else:\n",
    "        return [-1,-1]\n",
    "#O(logN)time and O(1)space"
   ]
  }
 ],
 "metadata": {
  "kernelspec": {
   "display_name": "Python 3",
   "language": "python",
   "name": "python3"
  },
  "language_info": {
   "codemirror_mode": {
    "name": "ipython",
    "version": 3
   },
   "file_extension": ".py",
   "mimetype": "text/x-python",
   "name": "python",
   "nbconvert_exporter": "python",
   "pygments_lexer": "ipython3",
   "version": "3.6.5"
  }
 },
 "nbformat": 4,
 "nbformat_minor": 2
}
