{
 "cells": [
  {
   "cell_type": "raw",
   "metadata": {},
   "source": [
    "Given an array of meeting time intervals consisting of start and end times [[s1,e1],[s2,e2],...] (si < ei), determine if a person could attend all meetings.\n",
    "\n",
    "Example 1:\n",
    "\n",
    "Input: [[0,30],[5,10],[15,20]]\n",
    "Output: false\n",
    "Example 2:\n",
    "\n",
    "Input: [[7,10],[2,4]]\n",
    "Output: true"
   ]
  },
  {
   "cell_type": "code",
   "execution_count": 1,
   "metadata": {},
   "outputs": [],
   "source": [
    "def canAttendMeetings(intervals):\n",
    "    \n",
    "    for i in range(len(intervals)):\n",
    "        for j in range(len(intervals)):\n",
    "            if i!=j:\n",
    "                if intervals[i][0]<=intervals[j][0]:\n",
    "                    if intervals[i][1]<=intervals[j][0]:\n",
    "                        pass\n",
    "                    else:\n",
    "                        return False\n",
    "    return True \n",
    "#O(N2) time and O(1)space"
   ]
  },
  {
   "cell_type": "code",
   "execution_count": 2,
   "metadata": {},
   "outputs": [
    {
     "data": {
      "text/plain": [
       "False"
      ]
     },
     "execution_count": 2,
     "metadata": {},
     "output_type": "execute_result"
    }
   ],
   "source": [
    "intervals=[[0,30],[5,10],[15,20]]\n",
    "canAttendMeetings(intervals)"
   ]
  },
  {
   "cell_type": "code",
   "execution_count": 3,
   "metadata": {},
   "outputs": [],
   "source": [
    "def canAttendMeetings(intervals):\n",
    "    intervals=sorted(intervals)\n",
    "    \n",
    "    for i in range(1,len(intervals)):\n",
    "        if intervals[i][0]<intervals[i-1][1]:\n",
    "            return False\n",
    "    return True\n",
    "#O(N LOG N) time and O(1)space    "
   ]
  },
  {
   "cell_type": "code",
   "execution_count": 4,
   "metadata": {},
   "outputs": [
    {
     "data": {
      "text/plain": [
       "False"
      ]
     },
     "execution_count": 4,
     "metadata": {},
     "output_type": "execute_result"
    }
   ],
   "source": [
    "intervals=[[0,30],[5,10],[15,20]]\n",
    "canAttendMeetings(intervals)"
   ]
  }
 ],
 "metadata": {
  "kernelspec": {
   "display_name": "Python 3",
   "language": "python",
   "name": "python3"
  },
  "language_info": {
   "codemirror_mode": {
    "name": "ipython",
    "version": 3
   },
   "file_extension": ".py",
   "mimetype": "text/x-python",
   "name": "python",
   "nbconvert_exporter": "python",
   "pygments_lexer": "ipython3",
   "version": "3.6.5"
  }
 },
 "nbformat": 4,
 "nbformat_minor": 2
}
