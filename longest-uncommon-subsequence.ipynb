{
 "cells": [
  {
   "cell_type": "raw",
   "metadata": {},
   "source": [
    "Given two strings a and b, find the length of the longest uncommon subsequence between them.\n",
    "\n",
    "A subsequence of a string s is a string that can be obtained after deleting any number of characters from s. For example, \"abc\" is a subsequence of \"aebdc\" because you can delete the underlined characters in \"aebdc\" to get \"abc\". Other subsequences of \"aebdc\" include \"aebdc\", \"aeb\", and \"\" (empty string).\n",
    "\n",
    "An uncommon subsequence between two strings is a string that is a subsequence of one but not the other.\n",
    "\n",
    "Return the length of the longest uncommon subsequence between a and b. If the longest uncommon subsequence doesn't exist, return -1.\n",
    "\n",
    " \n",
    "\n",
    "Example 1:\n",
    "\n",
    "Input: a = \"aba\", b = \"cdc\"\n",
    "Output: 3\n",
    "Explanation: One longest uncommon subsequence is \"aba\" because \"aba\" is a subsequence of \"aba\" but not \"cdc\".\n",
    "Note that \"cdc\" is also a longest uncommon subsequence.\n",
    "Example 2:\n",
    "\n",
    "Input: a = \"aaa\", b = \"bbb\"\n",
    "Output: 3\n",
    "Explanation: The longest uncommon subsequences are \"aaa\" and \"bbb\".\n",
    "Example 3:\n",
    "\n",
    "Input: a = \"aaa\", b = \"aaa\"\n",
    "Output: -1\n",
    "Explanation: Every subsequence of string a is also a subsequence of string b. Similarly, every subsequence of string b is also a subsequence of string a."
   ]
  },
  {
   "cell_type": "code",
   "execution_count": null,
   "metadata": {},
   "outputs": [],
   "source": [
    "def findLUSlength(a,b):\n",
    "    if a==b:\n",
    "        return -1\n",
    "    else:\n",
    "        return max(len(a),len(b))\n",
    "    \n",
    "#O(N)time and O(1)space"
   ]
  }
 ],
 "metadata": {
  "kernelspec": {
   "display_name": "Python 3",
   "language": "python",
   "name": "python3"
  },
  "language_info": {
   "codemirror_mode": {
    "name": "ipython",
    "version": 3
   },
   "file_extension": ".py",
   "mimetype": "text/x-python",
   "name": "python",
   "nbconvert_exporter": "python",
   "pygments_lexer": "ipython3",
   "version": "3.6.5"
  }
 },
 "nbformat": 4,
 "nbformat_minor": 2
}
