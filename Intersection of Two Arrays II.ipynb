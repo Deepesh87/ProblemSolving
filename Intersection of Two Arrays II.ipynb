{
 "cells": [
  {
   "cell_type": "markdown",
   "metadata": {},
   "source": [
    "Given two arrays, write a function to compute their intersection.\n",
    "\n",
    "Example 1:\n",
    "\n",
    "Input: nums1 = [1,2,2,1], nums2 = [2,2]\n",
    "Output: [2,2]\n",
    "Example 2:\n",
    "\n",
    "Input: nums1 = [4,9,5], nums2 = [9,4,9,8,4]\n",
    "Output: [4,9]\n",
    "Note:\n",
    "\n",
    "Each element in the result should appear as many times as it shows in both arrays.\n",
    "The result can be in any order."
   ]
  },
  {
   "cell_type": "code",
   "execution_count": 2,
   "metadata": {},
   "outputs": [],
   "source": [
    "#Hash map. O(max(N,M)) time and O(min(N,M)) space. Make the hash map from the list of smaller length to minimize space\n",
    "def intersect(nums1,nums2):\n",
    "    \n",
    "    hash={}\n",
    "    res=[]\n",
    "    if len(nums2)<len(nums1):\n",
    "        nums1,nums2=nums2,nums1\n",
    "    \n",
    "    for i in nums1:\n",
    "        if i not in hash:\n",
    "            hash[i]=1\n",
    "        else:\n",
    "            hash[i]+=1\n",
    "            \n",
    "            \n",
    "    for i in nums2:\n",
    "        if i in hash:\n",
    "            res.append(i)\n",
    "            hash[i]-=1\n",
    "            if hash[i]==0:\n",
    "                del(hash[i])\n",
    "            \n",
    "    return res"
   ]
  },
  {
   "cell_type": "code",
   "execution_count": 3,
   "metadata": {},
   "outputs": [],
   "source": [
    "#if the 2 lists are sorted and given, than a 2 pointer approach seems better. Also, in this case the results are also sorted\n",
    "\n",
    "#Hash map. O(LogN) time and O(N) space.\n",
    "def intersect(nums1,nums2):\n",
    "    nums1=sorted(nums1)\n",
    "    nums2=sorted(nums2)\n",
    "    res=[]\n",
    "    i=0\n",
    "    j=0\n",
    "    while i<len(nums1)and j<len(nums2):\n",
    "        if nums1[i]>nums2[j]:\n",
    "            j+=1\n",
    "        elif nums1[i]==nums2[j]:\n",
    "            res.append(nums1[i])\n",
    "            i+=1\n",
    "            j+=1\n",
    "        else:\n",
    "            i+=1\n",
    "            \n",
    "    return res"
   ]
  },
  {
   "cell_type": "code",
   "execution_count": 4,
   "metadata": {},
   "outputs": [
    {
     "data": {
      "text/plain": [
       "[2, 2]"
      ]
     },
     "execution_count": 4,
     "metadata": {},
     "output_type": "execute_result"
    }
   ],
   "source": [
    "nums1 = [1,2,2,1]\n",
    "nums2 = [2,2]\n",
    "intersect(nums1,nums2)"
   ]
  },
  {
   "cell_type": "code",
   "execution_count": null,
   "metadata": {},
   "outputs": [],
   "source": []
  }
 ],
 "metadata": {
  "kernelspec": {
   "display_name": "Python 3",
   "language": "python",
   "name": "python3"
  },
  "language_info": {
   "codemirror_mode": {
    "name": "ipython",
    "version": 3
   },
   "file_extension": ".py",
   "mimetype": "text/x-python",
   "name": "python",
   "nbconvert_exporter": "python",
   "pygments_lexer": "ipython3",
   "version": "3.6.5"
  }
 },
 "nbformat": 4,
 "nbformat_minor": 2
}
