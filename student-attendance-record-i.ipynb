{
 "cells": [
  {
   "cell_type": "raw",
   "metadata": {},
   "source": [
    "You are given a string representing an attendance record for a student. The record only contains the following three characters:\n",
    "'A' : Absent.\n",
    "'L' : Late.\n",
    "'P' : Present.\n",
    "A student could be rewarded if his attendance record doesn't contain more than one 'A' (absent) or more than two continuous 'L' (late).\n",
    "\n",
    "You need to return whether the student could be rewarded according to his attendance record.\n",
    "\n",
    "Example 1:\n",
    "Input: \"PPALLP\"\n",
    "Output: True\n",
    "Example 2:\n",
    "Input: \"PPALLL\"\n",
    "Output: False"
   ]
  },
  {
   "cell_type": "code",
   "execution_count": 2,
   "metadata": {},
   "outputs": [],
   "source": [
    "def checkRecord(s):\n",
    "    count_a=0\n",
    "    count_l=0\n",
    "\n",
    "    for i in range(len(s)):\n",
    "        if s[i]=='A':\n",
    "            count_a+=1\n",
    "            if count_a>1:\n",
    "                return False\n",
    "    for i in range(len(s)-2):\n",
    "        if s[i:i+3]=='LLL':\n",
    "            count_l+=1\n",
    "\n",
    "            if count_l>0:\n",
    "                return False\n",
    "    return True"
   ]
  },
  {
   "cell_type": "code",
   "execution_count": 3,
   "metadata": {},
   "outputs": [],
   "source": [
    "#O(N)time and O(1)space"
   ]
  },
  {
   "cell_type": "code",
   "execution_count": null,
   "metadata": {},
   "outputs": [],
   "source": [
    "def checkRecord(s):\n",
    "    return (s.count('A') < 2) and ('LLL' not in s)"
   ]
  }
 ],
 "metadata": {
  "kernelspec": {
   "display_name": "Python 3",
   "language": "python",
   "name": "python3"
  },
  "language_info": {
   "codemirror_mode": {
    "name": "ipython",
    "version": 3
   },
   "file_extension": ".py",
   "mimetype": "text/x-python",
   "name": "python",
   "nbconvert_exporter": "python",
   "pygments_lexer": "ipython3",
   "version": "3.6.5"
  }
 },
 "nbformat": 4,
 "nbformat_minor": 2
}
