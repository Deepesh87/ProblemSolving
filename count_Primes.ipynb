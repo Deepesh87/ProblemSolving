{
 "cells": [
  {
   "cell_type": "raw",
   "metadata": {},
   "source": [
    "Count the number of prime numbers less than a non-negative number, n.\n",
    "\n",
    " \n",
    "\n",
    "Example 1:\n",
    "\n",
    "Input: n = 10\n",
    "Output: 4\n",
    "Explanation: There are 4 prime numbers less than 10, they are 2, 3, 5, 7.\n",
    "Example 2:\n",
    "\n",
    "Input: n = 0\n",
    "Output: 0\n",
    "Example 3:\n",
    "\n",
    "Input: n = 1\n",
    "Output: 0"
   ]
  },
  {
   "cell_type": "code",
   "execution_count": 1,
   "metadata": {},
   "outputs": [],
   "source": [
    "#this is O(n2) time as we have nested for loop and O(n) space as we are creating an array \n",
    "\n",
    "def countPrimes(n):    \n",
    "    counter=[2]\n",
    "    \n",
    "    if n<=2:\n",
    "        return 0  #no prime numbers below 2\n",
    "    if n==3:\n",
    "        return 1 # 1 prime number below 3 i.e. 2\n",
    "    \n",
    "    for i in range(3,n):  \n",
    "        if checkPrime(i):\n",
    "            counter.append(i)\n",
    "    return len(counter)\n",
    "               \n",
    "def checkPrime(n): #O(n)\n",
    "    if n==1: return False\n",
    "    for i in range(2,1+n//2):\n",
    "        if n%i==0:\n",
    "            return False\n",
    "    return True"
   ]
  },
  {
   "cell_type": "code",
   "execution_count": 2,
   "metadata": {},
   "outputs": [],
   "source": [
    "import numpy as np\n",
    "def countPrimes(n):    \n",
    "    counter=[2]\n",
    "    \n",
    "    if n<=2:\n",
    "        return 0  #no prime numbers below 2\n",
    "    if n==3:\n",
    "        return 1 # 1 prime number below 3 i.e. 2\n",
    "    \n",
    "    for i in range(3,n):  \n",
    "        if checkPrime(i):\n",
    "            counter.append(i)\n",
    "    return len(counter)\n",
    "               \n",
    "def checkPrime(n): #O(n)\n",
    "    if n==1: return False\n",
    "    for i in range(2,1+int(np.sqrt(n))): #we reduce the number of iteraton by only looking up till sqrt(n)\n",
    "        if n%i==0:\n",
    "            return False\n",
    "    return True\n",
    "\n",
    "#but this is still O(n^1.5) time complexity"
   ]
  },
  {
   "cell_type": "code",
   "execution_count": null,
   "metadata": {},
   "outputs": [],
   "source": [
    "#Sieve of Eratosthenes\n",
    "def countPrimes(n):\n",
    "    if n<=1:return 0\n",
    "    l=[True]*n\n",
    "    l[0],l[1]=False,False\n",
    "\n",
    "    p=2 \n",
    "    while p*p<=n:\n",
    "        if l[p]:\n",
    "            for i in range(p*2,n,p):\n",
    "                l[i]=False\n",
    "        p+=1\n",
    "\n",
    "    return sum(l)             "
   ]
  }
 ],
 "metadata": {
  "kernelspec": {
   "display_name": "Python 3",
   "language": "python",
   "name": "python3"
  },
  "language_info": {
   "codemirror_mode": {
    "name": "ipython",
    "version": 3
   },
   "file_extension": ".py",
   "mimetype": "text/x-python",
   "name": "python",
   "nbconvert_exporter": "python",
   "pygments_lexer": "ipython3",
   "version": "3.6.5"
  }
 },
 "nbformat": 4,
 "nbformat_minor": 2
}
