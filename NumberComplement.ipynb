{
 "cells": [
  {
   "cell_type": "raw",
   "metadata": {},
   "source": [
    "Given a positive integer num, output its complement number. The complement strategy is to flip the bits of its binary representation.\n",
    "\n",
    " \n",
    "\n",
    "Example 1:\n",
    "\n",
    "Input: num = 5\n",
    "Output: 2\n",
    "Explanation: The binary representation of 5 is 101 (no leading zero bits), and its complement is 010. So you need to output 2.\n",
    "Example 2:\n",
    "\n",
    "Input: num = 1\n",
    "Output: 0\n",
    "Explanation: The binary representation of 1 is 1 (no leading zero bits), and its complement is 0. So you need to output 0."
   ]
  },
  {
   "cell_type": "code",
   "execution_count": 79,
   "metadata": {},
   "outputs": [],
   "source": [
    "def reverseNumber(n):\n",
    "    rem=''\n",
    "    while n>0:\n",
    "        rem+=str(n%10)\n",
    "        n=n//10\n",
    "    return int(rem)"
   ]
  },
  {
   "cell_type": "code",
   "execution_count": 80,
   "metadata": {},
   "outputs": [
    {
     "data": {
      "text/plain": [
       "0"
      ]
     },
     "execution_count": 80,
     "metadata": {},
     "output_type": "execute_result"
    }
   ],
   "source": [
    "def findComplement(num):\n",
    "    res=''\n",
    "    while num>0:\n",
    "        rem=int(not(num%2))\n",
    "        res=str(rem)+res\n",
    "        num=num//2\n",
    "\n",
    "    power=0\n",
    "    final=0\n",
    "    i=0\n",
    "    for i in range(len(res)-1,-1,-1):\n",
    "        final+=(2**power)*int(res[i])\n",
    "        power+=1\n",
    "    \n",
    "    return final\n",
    "              \n",
    "findComplement(1) \n",
    "#O(1) time and space. Time is 1 because for 32 bits  we're doing not more than 32 iterations here."
   ]
  },
  {
   "cell_type": "markdown",
   "metadata": {},
   "source": [
    "x << y\n",
    "Returns x with the bits shifted to the left by y places (and new bits on the right-hand-side are zeros). This is the same as multiplying x by 2**y."
   ]
  },
  {
   "cell_type": "code",
   "execution_count": 88,
   "metadata": {},
   "outputs": [
    {
     "data": {
      "text/plain": [
       "12"
      ]
     },
     "execution_count": 88,
     "metadata": {},
     "output_type": "execute_result"
    }
   ],
   "source": [
    "3<<2"
   ]
  },
  {
   "cell_type": "code",
   "execution_count": null,
   "metadata": {},
   "outputs": [],
   "source": []
  }
 ],
 "metadata": {
  "kernelspec": {
   "display_name": "Python 3",
   "language": "python",
   "name": "python3"
  },
  "language_info": {
   "codemirror_mode": {
    "name": "ipython",
    "version": 3
   },
   "file_extension": ".py",
   "mimetype": "text/x-python",
   "name": "python",
   "nbconvert_exporter": "python",
   "pygments_lexer": "ipython3",
   "version": "3.6.5"
  }
 },
 "nbformat": 4,
 "nbformat_minor": 2
}
