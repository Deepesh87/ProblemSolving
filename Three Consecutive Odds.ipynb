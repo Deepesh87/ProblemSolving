{
 "cells": [
  {
   "cell_type": "raw",
   "metadata": {},
   "source": [
    "Given an integer array arr, return true if there are three consecutive odd numbers in the array. Otherwise, return false.\n",
    " \n",
    "\n",
    "Example 1:\n",
    "\n",
    "Input: arr = [2,6,4,1]\n",
    "Output: false\n",
    "Explanation: There are no three consecutive odds.\n",
    "Example 2:\n",
    "\n",
    "Input: arr = [1,2,34,3,4,5,7,23,12]\n",
    "Output: true\n",
    "Explanation: [5,7,23] are three consecutive odds."
   ]
  },
  {
   "cell_type": "code",
   "execution_count": 2,
   "metadata": {},
   "outputs": [],
   "source": [
    "def threeConsecutiveOdds(arr):\n",
    "    counter=0\n",
    "    for i in arr:\n",
    "        if i%2==1:\n",
    "            counter+=1\n",
    "        else:\n",
    "            counter=0\n",
    "\n",
    "        if counter==3:\n",
    "            return True\n",
    "    return False    "
   ]
  },
  {
   "cell_type": "code",
   "execution_count": 3,
   "metadata": {},
   "outputs": [
    {
     "data": {
      "text/plain": [
       "True"
      ]
     },
     "execution_count": 3,
     "metadata": {},
     "output_type": "execute_result"
    }
   ],
   "source": [
    "arr=[1,2,34,3,4,5,7,23,12]\n",
    "threeConsecutiveOdds(arr)"
   ]
  },
  {
   "cell_type": "code",
   "execution_count": null,
   "metadata": {},
   "outputs": [],
   "source": [
    "#O(N)time and O(1)space"
   ]
  }
 ],
 "metadata": {
  "kernelspec": {
   "display_name": "Python 3",
   "language": "python",
   "name": "python3"
  },
  "language_info": {
   "codemirror_mode": {
    "name": "ipython",
    "version": 3
   },
   "file_extension": ".py",
   "mimetype": "text/x-python",
   "name": "python",
   "nbconvert_exporter": "python",
   "pygments_lexer": "ipython3",
   "version": "3.6.5"
  }
 },
 "nbformat": 4,
 "nbformat_minor": 2
}
